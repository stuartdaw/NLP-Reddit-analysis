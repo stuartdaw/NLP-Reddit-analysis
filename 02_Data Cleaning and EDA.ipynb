{
 "cells": [
  {
   "cell_type": "markdown",
   "metadata": {},
   "source": [
    "# 02_Data Cleaning and EDA"
   ]
  },
  {
   "cell_type": "code",
   "execution_count": 1,
   "metadata": {},
   "outputs": [],
   "source": [
    "# load libraries\n",
    "import numpy as np\n",
    "import pandas as pd\n",
    "import seaborn as sns\n",
    "import matplotlib.pyplot as plt\n",
    "import re\n",
    "from sklearn.feature_extraction.text import CountVectorizer\n",
    "\n",
    "%matplotlib inline"
   ]
  },
  {
   "cell_type": "markdown",
   "metadata": {},
   "source": [
    "### Contents:\n",
    "- [1.0 Data Import](#1.0-Data-Import-and-Cleaning)\n",
    "- [2.0 Add target and combine data sets](#2.0-Add-target-and-combine-data-sets)\n",
    "- [3.0 Explore the structure of Posts dataframs](#3.0-Explore-the-structure-of-Post-Dataframe)\n",
    "    - [3.1 Check dataframe and dtypes](#3.1-Check-dataframe-and-dtypes)\n",
    "    - [3.2 Check for missing values](#3.2-Check-for-missing-values)\n",
    "    - [3.3 Summary Statistics Posts](#3.3-Summary-Statistics)\n",
    "- [4.0 Explore the structure of Comments dataframe](#4.0-Explore-the-structure-of-Comments-Dataframe)\n",
    "    - [4.1 Check dataframe and dtypes](#4.1-Check-dataframe-and-dtypes)\n",
    "    - [4.2 Check for missing values](#4.2-Check-for-missing-values)\n",
    "    - [4.3 Summary Statistics Posts](#4.3-Summary-Statistics)\n",
    "- [5.0 Investigate word counts and post length](#5.0-Investigate-word-counts-and-post-length)\n",
    "    - [5.1 Combine the posts and comments to analyse the text](#Combine-the-posts-and-comments-to-analyse-the-text)\n",
    "    - [5.2 Investigate Outliers](#5.2-Investigate-Outliers)\n",
    "    - [5.3 Author cross contamination check](#5.3-Author-cross-contamination-check)\n",
    "    - [5.4 Investigate the frequecy of words](#5.4-Investigate-the-frequecy-of-words)\n",
    "        - [5.4.2 Data Science Countvectorizer](#5.4.1-Data-Science-Countvectorizer)\n",
    "        - [5.4.2 Analytics Countvectorizer](#5.4.2-Analytics-Countvectorizer)\n",
    "- [6.0 Insights](#6.0-Insights)"
   ]
  },
  {
   "cell_type": "markdown",
   "metadata": {},
   "source": [
    "# 1.0 Data Import and Cleaning"
   ]
  },
  {
   "cell_type": "markdown",
   "metadata": {},
   "source": [
    "#### Get Data"
   ]
  },
  {
   "cell_type": "code",
   "execution_count": 2,
   "metadata": {},
   "outputs": [],
   "source": [
    "ds_df = pd.read_csv('./data/datascience.csv', index_col = False)\n",
    "analytics_df = pd.read_csv('./data/analytics.csv', index_col = False)\n",
    "ds_comms_df = pd.read_csv('./data/ds_comments.csv', index_col = False)\n",
    "analytics_comms_df = pd.read_csv('./data/analytics_comments.csv', index_col = False)"
   ]
  },
  {
   "cell_type": "code",
   "execution_count": 3,
   "metadata": {},
   "outputs": [
    {
     "data": {
      "text/plain": [
       "((629, 18), (679, 18))"
      ]
     },
     "execution_count": 3,
     "metadata": {},
     "output_type": "execute_result"
    }
   ],
   "source": [
    "# Check the posts data is the same\n",
    "ds_df.shape, analytics_df.shape"
   ]
  },
  {
   "cell_type": "code",
   "execution_count": 4,
   "metadata": {
    "scrolled": true
   },
   "outputs": [
    {
     "data": {
      "text/plain": [
       "((6951, 13), (2379, 13))"
      ]
     },
     "execution_count": 4,
     "metadata": {},
     "output_type": "execute_result"
    }
   ],
   "source": [
    "# Check the comments data is the same\n",
    "ds_comms_df.shape, analytics_comms_df.shape"
   ]
  },
  {
   "cell_type": "markdown",
   "metadata": {},
   "source": [
    "### Check column names are the same for both posts and comments"
   ]
  },
  {
   "cell_type": "code",
   "execution_count": 5,
   "metadata": {},
   "outputs": [
    {
     "data": {
      "text/plain": [
       "set()"
      ]
     },
     "execution_count": 5,
     "metadata": {},
     "output_type": "execute_result"
    }
   ],
   "source": [
    "# check cols are the same for the post data\n",
    "\n",
    "data_sc_df_cols = set(ds_df.columns)\n",
    "analytics_df_cols = set(analytics_df.columns)\n",
    "data_sc_df_cols - analytics_df_cols"
   ]
  },
  {
   "cell_type": "code",
   "execution_count": 6,
   "metadata": {},
   "outputs": [
    {
     "data": {
      "text/plain": [
       "set()"
      ]
     },
     "execution_count": 6,
     "metadata": {},
     "output_type": "execute_result"
    }
   ],
   "source": [
    "# check cols are the same for the comments data\n",
    "\n",
    "data_sc_comms_cols = set(ds_comms_df.columns)\n",
    "analytics__comms_cols = set(analytics_comms_df.columns)\n",
    "data_sc_df_cols - analytics_df_cols"
   ]
  },
  {
   "cell_type": "markdown",
   "metadata": {},
   "source": [
    "---"
   ]
  },
  {
   "cell_type": "markdown",
   "metadata": {},
   "source": [
    "# 2.0 Add target and combine data sets"
   ]
  },
  {
   "cell_type": "markdown",
   "metadata": {},
   "source": [
    "### Update column names"
   ]
  },
  {
   "cell_type": "code",
   "execution_count": 7,
   "metadata": {},
   "outputs": [],
   "source": [
    "ds_df.rename(columns={'subreddit_name_prefixed':'subreddit', 'link_flair_text':'category'}, inplace=True)\n",
    "analytics_df.rename(columns={'subreddit_name_prefixed':'subreddit', 'link_flair_text':'category'}, inplace=True)"
   ]
  },
  {
   "cell_type": "code",
   "execution_count": 8,
   "metadata": {},
   "outputs": [
    {
     "data": {
      "text/html": [
       "<div>\n",
       "<style scoped>\n",
       "    .dataframe tbody tr th:only-of-type {\n",
       "        vertical-align: middle;\n",
       "    }\n",
       "\n",
       "    .dataframe tbody tr th {\n",
       "        vertical-align: top;\n",
       "    }\n",
       "\n",
       "    .dataframe thead th {\n",
       "        text-align: right;\n",
       "    }\n",
       "</style>\n",
       "<table border=\"1\" class=\"dataframe\">\n",
       "  <thead>\n",
       "    <tr style=\"text-align: right;\">\n",
       "      <th></th>\n",
       "      <th>subreddit</th>\n",
       "      <th>category</th>\n",
       "    </tr>\n",
       "  </thead>\n",
       "  <tbody>\n",
       "    <tr>\n",
       "      <th>0</th>\n",
       "      <td>r/datascience</td>\n",
       "      <td>Discussion</td>\n",
       "    </tr>\n",
       "    <tr>\n",
       "      <th>1</th>\n",
       "      <td>r/datascience</td>\n",
       "      <td>Education</td>\n",
       "    </tr>\n",
       "    <tr>\n",
       "      <th>2</th>\n",
       "      <td>r/datascience</td>\n",
       "      <td>Career</td>\n",
       "    </tr>\n",
       "    <tr>\n",
       "      <th>3</th>\n",
       "      <td>r/datascience</td>\n",
       "      <td>Education</td>\n",
       "    </tr>\n",
       "    <tr>\n",
       "      <th>4</th>\n",
       "      <td>r/datascience</td>\n",
       "      <td>Job Search</td>\n",
       "    </tr>\n",
       "  </tbody>\n",
       "</table>\n",
       "</div>"
      ],
      "text/plain": [
       "       subreddit    category\n",
       "0  r/datascience  Discussion\n",
       "1  r/datascience   Education\n",
       "2  r/datascience      Career\n",
       "3  r/datascience   Education\n",
       "4  r/datascience  Job Search"
      ]
     },
     "execution_count": 8,
     "metadata": {},
     "output_type": "execute_result"
    }
   ],
   "source": [
    "# check it worked\n",
    "ds_df[['subreddit','category']].head()"
   ]
  },
  {
   "cell_type": "code",
   "execution_count": 9,
   "metadata": {},
   "outputs": [
    {
     "data": {
      "text/html": [
       "<div>\n",
       "<style scoped>\n",
       "    .dataframe tbody tr th:only-of-type {\n",
       "        vertical-align: middle;\n",
       "    }\n",
       "\n",
       "    .dataframe tbody tr th {\n",
       "        vertical-align: top;\n",
       "    }\n",
       "\n",
       "    .dataframe thead th {\n",
       "        text-align: right;\n",
       "    }\n",
       "</style>\n",
       "<table border=\"1\" class=\"dataframe\">\n",
       "  <thead>\n",
       "    <tr style=\"text-align: right;\">\n",
       "      <th></th>\n",
       "      <th>subreddit</th>\n",
       "      <th>category</th>\n",
       "    </tr>\n",
       "  </thead>\n",
       "  <tbody>\n",
       "    <tr>\n",
       "      <th>0</th>\n",
       "      <td>r/analytics</td>\n",
       "      <td>NaN</td>\n",
       "    </tr>\n",
       "    <tr>\n",
       "      <th>1</th>\n",
       "      <td>r/analytics</td>\n",
       "      <td>NaN</td>\n",
       "    </tr>\n",
       "    <tr>\n",
       "      <th>2</th>\n",
       "      <td>r/analytics</td>\n",
       "      <td>Question</td>\n",
       "    </tr>\n",
       "    <tr>\n",
       "      <th>3</th>\n",
       "      <td>r/analytics</td>\n",
       "      <td>NaN</td>\n",
       "    </tr>\n",
       "    <tr>\n",
       "      <th>4</th>\n",
       "      <td>r/analytics</td>\n",
       "      <td>NaN</td>\n",
       "    </tr>\n",
       "  </tbody>\n",
       "</table>\n",
       "</div>"
      ],
      "text/plain": [
       "     subreddit  category\n",
       "0  r/analytics       NaN\n",
       "1  r/analytics       NaN\n",
       "2  r/analytics  Question\n",
       "3  r/analytics       NaN\n",
       "4  r/analytics       NaN"
      ]
     },
     "execution_count": 9,
     "metadata": {},
     "output_type": "execute_result"
    }
   ],
   "source": [
    "analytics_df[['subreddit','category']].head()"
   ]
  },
  {
   "cell_type": "code",
   "execution_count": 10,
   "metadata": {},
   "outputs": [],
   "source": [
    "# Function to remove the 'r/'\n",
    "def remove_r(subreddit): \n",
    "    # Search for the pattern\n",
    "    if re.search('^r\\/', subreddit): \n",
    "        # If found get the end of the pattern position\n",
    "        pos = re.search('^r\\/', subreddit).end() \n",
    "\n",
    "        # return the cleaned name \n",
    "        return subreddit[pos:] \n",
    "    else: \n",
    "        # if pattern doesnt exist return unchanged\n",
    "        return subreddit "
   ]
  },
  {
   "cell_type": "code",
   "execution_count": 11,
   "metadata": {},
   "outputs": [],
   "source": [
    "# Updated the columns \n",
    "ds_df['subreddit'] = ds_df['subreddit'].apply(remove_r) \n",
    "analytics_df['subreddit'] = analytics_df['subreddit'].apply(remove_r) "
   ]
  },
  {
   "cell_type": "code",
   "execution_count": 12,
   "metadata": {
    "scrolled": true
   },
   "outputs": [
    {
     "data": {
      "text/html": [
       "<div>\n",
       "<style scoped>\n",
       "    .dataframe tbody tr th:only-of-type {\n",
       "        vertical-align: middle;\n",
       "    }\n",
       "\n",
       "    .dataframe tbody tr th {\n",
       "        vertical-align: top;\n",
       "    }\n",
       "\n",
       "    .dataframe thead th {\n",
       "        text-align: right;\n",
       "    }\n",
       "</style>\n",
       "<table border=\"1\" class=\"dataframe\">\n",
       "  <thead>\n",
       "    <tr style=\"text-align: right;\">\n",
       "      <th></th>\n",
       "      <th>subreddit</th>\n",
       "    </tr>\n",
       "  </thead>\n",
       "  <tbody>\n",
       "    <tr>\n",
       "      <th>0</th>\n",
       "      <td>datascience</td>\n",
       "    </tr>\n",
       "    <tr>\n",
       "      <th>1</th>\n",
       "      <td>datascience</td>\n",
       "    </tr>\n",
       "  </tbody>\n",
       "</table>\n",
       "</div>"
      ],
      "text/plain": [
       "     subreddit\n",
       "0  datascience\n",
       "1  datascience"
      ]
     },
     "execution_count": 12,
     "metadata": {},
     "output_type": "execute_result"
    }
   ],
   "source": [
    "ds_df[['subreddit']].head(2)"
   ]
  },
  {
   "cell_type": "code",
   "execution_count": 13,
   "metadata": {},
   "outputs": [
    {
     "data": {
      "text/html": [
       "<div>\n",
       "<style scoped>\n",
       "    .dataframe tbody tr th:only-of-type {\n",
       "        vertical-align: middle;\n",
       "    }\n",
       "\n",
       "    .dataframe tbody tr th {\n",
       "        vertical-align: top;\n",
       "    }\n",
       "\n",
       "    .dataframe thead th {\n",
       "        text-align: right;\n",
       "    }\n",
       "</style>\n",
       "<table border=\"1\" class=\"dataframe\">\n",
       "  <thead>\n",
       "    <tr style=\"text-align: right;\">\n",
       "      <th></th>\n",
       "      <th>subreddit</th>\n",
       "    </tr>\n",
       "  </thead>\n",
       "  <tbody>\n",
       "    <tr>\n",
       "      <th>0</th>\n",
       "      <td>analytics</td>\n",
       "    </tr>\n",
       "    <tr>\n",
       "      <th>1</th>\n",
       "      <td>analytics</td>\n",
       "    </tr>\n",
       "  </tbody>\n",
       "</table>\n",
       "</div>"
      ],
      "text/plain": [
       "   subreddit\n",
       "0  analytics\n",
       "1  analytics"
      ]
     },
     "execution_count": 13,
     "metadata": {},
     "output_type": "execute_result"
    }
   ],
   "source": [
    "analytics_df[['subreddit']].head(2)"
   ]
  },
  {
   "cell_type": "markdown",
   "metadata": {},
   "source": [
    "#### Add a tag to show its a Post not a Comment for when the data is combined"
   ]
  },
  {
   "cell_type": "code",
   "execution_count": 14,
   "metadata": {},
   "outputs": [],
   "source": [
    "ds_df['subreddit'] = ds_df['subreddit'].apply(remove_r) \n",
    "analytics_df['subreddit'] = analytics_df['subreddit'].apply(remove_r) "
   ]
  },
  {
   "cell_type": "code",
   "execution_count": 15,
   "metadata": {},
   "outputs": [],
   "source": [
    "ds_df['type'] = 'post'\n",
    "analytics_df['type'] = 'post'"
   ]
  },
  {
   "cell_type": "code",
   "execution_count": 16,
   "metadata": {},
   "outputs": [
    {
     "data": {
      "text/html": [
       "<div>\n",
       "<style scoped>\n",
       "    .dataframe tbody tr th:only-of-type {\n",
       "        vertical-align: middle;\n",
       "    }\n",
       "\n",
       "    .dataframe tbody tr th {\n",
       "        vertical-align: top;\n",
       "    }\n",
       "\n",
       "    .dataframe thead th {\n",
       "        text-align: right;\n",
       "    }\n",
       "</style>\n",
       "<table border=\"1\" class=\"dataframe\">\n",
       "  <thead>\n",
       "    <tr style=\"text-align: right;\">\n",
       "      <th></th>\n",
       "      <th>subreddit</th>\n",
       "      <th>type</th>\n",
       "    </tr>\n",
       "  </thead>\n",
       "  <tbody>\n",
       "    <tr>\n",
       "      <th>0</th>\n",
       "      <td>datascience</td>\n",
       "      <td>post</td>\n",
       "    </tr>\n",
       "    <tr>\n",
       "      <th>1</th>\n",
       "      <td>datascience</td>\n",
       "      <td>post</td>\n",
       "    </tr>\n",
       "  </tbody>\n",
       "</table>\n",
       "</div>"
      ],
      "text/plain": [
       "     subreddit  type\n",
       "0  datascience  post\n",
       "1  datascience  post"
      ]
     },
     "execution_count": 16,
     "metadata": {},
     "output_type": "execute_result"
    }
   ],
   "source": [
    "ds_df[['subreddit','type']].head(2)"
   ]
  },
  {
   "cell_type": "code",
   "execution_count": 17,
   "metadata": {
    "scrolled": true
   },
   "outputs": [
    {
     "data": {
      "text/html": [
       "<div>\n",
       "<style scoped>\n",
       "    .dataframe tbody tr th:only-of-type {\n",
       "        vertical-align: middle;\n",
       "    }\n",
       "\n",
       "    .dataframe tbody tr th {\n",
       "        vertical-align: top;\n",
       "    }\n",
       "\n",
       "    .dataframe thead th {\n",
       "        text-align: right;\n",
       "    }\n",
       "</style>\n",
       "<table border=\"1\" class=\"dataframe\">\n",
       "  <thead>\n",
       "    <tr style=\"text-align: right;\">\n",
       "      <th></th>\n",
       "      <th>subreddit</th>\n",
       "      <th>type</th>\n",
       "    </tr>\n",
       "  </thead>\n",
       "  <tbody>\n",
       "    <tr>\n",
       "      <th>0</th>\n",
       "      <td>analytics</td>\n",
       "      <td>post</td>\n",
       "    </tr>\n",
       "    <tr>\n",
       "      <th>1</th>\n",
       "      <td>analytics</td>\n",
       "      <td>post</td>\n",
       "    </tr>\n",
       "  </tbody>\n",
       "</table>\n",
       "</div>"
      ],
      "text/plain": [
       "   subreddit  type\n",
       "0  analytics  post\n",
       "1  analytics  post"
      ]
     },
     "execution_count": 17,
     "metadata": {},
     "output_type": "execute_result"
    }
   ],
   "source": [
    "analytics_df[['subreddit','type']].head(2)"
   ]
  },
  {
   "cell_type": "markdown",
   "metadata": {},
   "source": [
    "#### Add a tag to show its a Comment not a Post for when the data is combined"
   ]
  },
  {
   "cell_type": "code",
   "execution_count": 18,
   "metadata": {},
   "outputs": [],
   "source": [
    "#### The comments dataframe already has a subreddit column which can used to ID the source"
   ]
  },
  {
   "cell_type": "code",
   "execution_count": 19,
   "metadata": {},
   "outputs": [
    {
     "data": {
      "text/plain": [
       "0    analytics\n",
       "1    analytics\n",
       "2    analytics\n",
       "3    analytics\n",
       "4    analytics\n",
       "Name: subreddit, dtype: object"
      ]
     },
     "execution_count": 19,
     "metadata": {},
     "output_type": "execute_result"
    }
   ],
   "source": [
    "analytics_comms_df['subreddit'].head()"
   ]
  },
  {
   "cell_type": "code",
   "execution_count": 20,
   "metadata": {},
   "outputs": [],
   "source": [
    "#### Therefore I'll just add type columns"
   ]
  },
  {
   "cell_type": "code",
   "execution_count": 21,
   "metadata": {},
   "outputs": [],
   "source": [
    "ds_comms_df['type'] = 'comment'\n",
    "analytics_comms_df['type'] = 'comment'"
   ]
  },
  {
   "cell_type": "code",
   "execution_count": 22,
   "metadata": {},
   "outputs": [
    {
     "data": {
      "text/html": [
       "<div>\n",
       "<style scoped>\n",
       "    .dataframe tbody tr th:only-of-type {\n",
       "        vertical-align: middle;\n",
       "    }\n",
       "\n",
       "    .dataframe tbody tr th {\n",
       "        vertical-align: top;\n",
       "    }\n",
       "\n",
       "    .dataframe thead th {\n",
       "        text-align: right;\n",
       "    }\n",
       "</style>\n",
       "<table border=\"1\" class=\"dataframe\">\n",
       "  <thead>\n",
       "    <tr style=\"text-align: right;\">\n",
       "      <th></th>\n",
       "      <th>subreddit</th>\n",
       "      <th>type</th>\n",
       "    </tr>\n",
       "  </thead>\n",
       "  <tbody>\n",
       "    <tr>\n",
       "      <th>0</th>\n",
       "      <td>datascience</td>\n",
       "      <td>comment</td>\n",
       "    </tr>\n",
       "    <tr>\n",
       "      <th>1</th>\n",
       "      <td>datascience</td>\n",
       "      <td>comment</td>\n",
       "    </tr>\n",
       "  </tbody>\n",
       "</table>\n",
       "</div>"
      ],
      "text/plain": [
       "     subreddit     type\n",
       "0  datascience  comment\n",
       "1  datascience  comment"
      ]
     },
     "execution_count": 22,
     "metadata": {},
     "output_type": "execute_result"
    }
   ],
   "source": [
    "ds_comms_df[['subreddit','type']].head(2)"
   ]
  },
  {
   "cell_type": "code",
   "execution_count": 23,
   "metadata": {
    "scrolled": true
   },
   "outputs": [
    {
     "data": {
      "text/html": [
       "<div>\n",
       "<style scoped>\n",
       "    .dataframe tbody tr th:only-of-type {\n",
       "        vertical-align: middle;\n",
       "    }\n",
       "\n",
       "    .dataframe tbody tr th {\n",
       "        vertical-align: top;\n",
       "    }\n",
       "\n",
       "    .dataframe thead th {\n",
       "        text-align: right;\n",
       "    }\n",
       "</style>\n",
       "<table border=\"1\" class=\"dataframe\">\n",
       "  <thead>\n",
       "    <tr style=\"text-align: right;\">\n",
       "      <th></th>\n",
       "      <th>subreddit</th>\n",
       "      <th>type</th>\n",
       "    </tr>\n",
       "  </thead>\n",
       "  <tbody>\n",
       "    <tr>\n",
       "      <th>0</th>\n",
       "      <td>analytics</td>\n",
       "      <td>comment</td>\n",
       "    </tr>\n",
       "    <tr>\n",
       "      <th>1</th>\n",
       "      <td>analytics</td>\n",
       "      <td>comment</td>\n",
       "    </tr>\n",
       "  </tbody>\n",
       "</table>\n",
       "</div>"
      ],
      "text/plain": [
       "   subreddit     type\n",
       "0  analytics  comment\n",
       "1  analytics  comment"
      ]
     },
     "execution_count": 23,
     "metadata": {},
     "output_type": "execute_result"
    }
   ],
   "source": [
    "analytics_comms_df[['subreddit','type']].head(2)"
   ]
  },
  {
   "cell_type": "markdown",
   "metadata": {},
   "source": [
    "---"
   ]
  },
  {
   "cell_type": "markdown",
   "metadata": {},
   "source": [
    "## Append dataframes\n",
    "\n",
    "+ I will append the posts dataframes together and the comments dataframes\n",
    "+ This will enable me to deal with the cleaning and preprocessing more efficiently"
   ]
  },
  {
   "cell_type": "code",
   "execution_count": 24,
   "metadata": {},
   "outputs": [],
   "source": [
    "posts_df = ds_df.append(analytics_df)\n",
    "comments_df = ds_comms_df.append(analytics_comms_df)"
   ]
  },
  {
   "cell_type": "code",
   "execution_count": 25,
   "metadata": {},
   "outputs": [],
   "source": [
    "posts_df.reset_index(drop=True, inplace=True)\n",
    "comments_df.reset_index(drop=True, inplace=True)"
   ]
  },
  {
   "cell_type": "code",
   "execution_count": 26,
   "metadata": {},
   "outputs": [
    {
     "data": {
      "text/plain": [
       "((1308, 19), (9330, 14))"
      ]
     },
     "execution_count": 26,
     "metadata": {},
     "output_type": "execute_result"
    }
   ],
   "source": [
    "# Shape adds up to original shape plus one more column which was added to both\n",
    "posts_df.shape, comments_df.shape"
   ]
  },
  {
   "cell_type": "markdown",
   "metadata": {},
   "source": [
    "---"
   ]
  },
  {
   "cell_type": "markdown",
   "metadata": {},
   "source": [
    "# 3.0 Explore the structure of Post Dataframe"
   ]
  },
  {
   "cell_type": "markdown",
   "metadata": {},
   "source": [
    "#### This Dateframe contains the post data scrpaed from the 2 subreddits"
   ]
  },
  {
   "cell_type": "markdown",
   "metadata": {},
   "source": [
    "---"
   ]
  },
  {
   "cell_type": "markdown",
   "metadata": {},
   "source": [
    "## 3.1 Check dataframe and dtypes"
   ]
  },
  {
   "cell_type": "markdown",
   "metadata": {},
   "source": [
    "##### Observations on posts dataframes\n",
    "+ 'subreddit_name_prefixed' is useful to identify origin but will change it to 'subreddit'\n",
    "+ 'link_flair_text' might be interesting to split the data up on\n",
    "+ 'score' and 'upvote' might be a way to split data if necesary. Could determine whether a high score resonates more for people in the community. \n",
    "+ 'title' might be a useful source of extra data "
   ]
  },
  {
   "cell_type": "code",
   "execution_count": 27,
   "metadata": {
    "scrolled": true
   },
   "outputs": [
    {
     "data": {
      "text/html": [
       "<div>\n",
       "<style scoped>\n",
       "    .dataframe tbody tr th:only-of-type {\n",
       "        vertical-align: middle;\n",
       "    }\n",
       "\n",
       "    .dataframe tbody tr th {\n",
       "        vertical-align: top;\n",
       "    }\n",
       "\n",
       "    .dataframe thead th {\n",
       "        text-align: right;\n",
       "    }\n",
       "</style>\n",
       "<table border=\"1\" class=\"dataframe\">\n",
       "  <thead>\n",
       "    <tr style=\"text-align: right;\">\n",
       "      <th></th>\n",
       "      <th>subreddit</th>\n",
       "      <th>selftext</th>\n",
       "      <th>author_fullname</th>\n",
       "      <th>title</th>\n",
       "      <th>link_flair_css_class</th>\n",
       "      <th>name</th>\n",
       "      <th>upvote_ratio</th>\n",
       "      <th>ups</th>\n",
       "      <th>category</th>\n",
       "    </tr>\n",
       "  </thead>\n",
       "  <tbody>\n",
       "    <tr>\n",
       "      <th>0</th>\n",
       "      <td>datascience</td>\n",
       "      <td>Welcome to this week's entering &amp;amp; transiti...</td>\n",
       "      <td>t2_4l4cxw07</td>\n",
       "      <td>Weekly Entering &amp;amp; Transitioning Thread | 2...</td>\n",
       "      <td>NaN</td>\n",
       "      <td>t3_hd5t6m</td>\n",
       "      <td>0.66</td>\n",
       "      <td>1</td>\n",
       "      <td>Discussion</td>\n",
       "    </tr>\n",
       "    <tr>\n",
       "      <th>1</th>\n",
       "      <td>datascience</td>\n",
       "      <td>NaN</td>\n",
       "      <td>t2_3rl9tafm</td>\n",
       "      <td>The best SQL vs NoSQL mindset I've ever heard</td>\n",
       "      <td>education</td>\n",
       "      <td>t3_hd3tqs</td>\n",
       "      <td>0.87</td>\n",
       "      <td>48</td>\n",
       "      <td>Education</td>\n",
       "    </tr>\n",
       "    <tr>\n",
       "      <th>2</th>\n",
       "      <td>datascience</td>\n",
       "      <td>Hello all,\\n\\nI am a Data Scientist at a Fortu...</td>\n",
       "      <td>t2_1jwhofnt</td>\n",
       "      <td>Amazon AWS Pro-Serve Data Scientist is it a go...</td>\n",
       "      <td>career</td>\n",
       "      <td>t3_hcxeno</td>\n",
       "      <td>0.94</td>\n",
       "      <td>94</td>\n",
       "      <td>Career</td>\n",
       "    </tr>\n",
       "    <tr>\n",
       "      <th>3</th>\n",
       "      <td>datascience</td>\n",
       "      <td>Hi,\\n\\nA friend of mine is doing MSCS and we a...</td>\n",
       "      <td>t2_3b84s1v5</td>\n",
       "      <td>Help with implementation of a paper about Imba...</td>\n",
       "      <td>education</td>\n",
       "      <td>t3_hd4xlb</td>\n",
       "      <td>0.75</td>\n",
       "      <td>4</td>\n",
       "      <td>Education</td>\n",
       "    </tr>\n",
       "    <tr>\n",
       "      <th>4</th>\n",
       "      <td>datascience</td>\n",
       "      <td>Planning a move from Toronto - I've heard sala...</td>\n",
       "      <td>t2_6ltcva0l</td>\n",
       "      <td>How are data science salaries in Montreal for ...</td>\n",
       "      <td>NaN</td>\n",
       "      <td>t3_hcyrod</td>\n",
       "      <td>0.83</td>\n",
       "      <td>17</td>\n",
       "      <td>Job Search</td>\n",
       "    </tr>\n",
       "  </tbody>\n",
       "</table>\n",
       "</div>"
      ],
      "text/plain": [
       "     subreddit                                           selftext  \\\n",
       "0  datascience  Welcome to this week's entering &amp; transiti...   \n",
       "1  datascience                                                NaN   \n",
       "2  datascience  Hello all,\\n\\nI am a Data Scientist at a Fortu...   \n",
       "3  datascience  Hi,\\n\\nA friend of mine is doing MSCS and we a...   \n",
       "4  datascience  Planning a move from Toronto - I've heard sala...   \n",
       "\n",
       "  author_fullname                                              title  \\\n",
       "0     t2_4l4cxw07  Weekly Entering &amp; Transitioning Thread | 2...   \n",
       "1     t2_3rl9tafm      The best SQL vs NoSQL mindset I've ever heard   \n",
       "2     t2_1jwhofnt  Amazon AWS Pro-Serve Data Scientist is it a go...   \n",
       "3     t2_3b84s1v5  Help with implementation of a paper about Imba...   \n",
       "4     t2_6ltcva0l  How are data science salaries in Montreal for ...   \n",
       "\n",
       "  link_flair_css_class       name  upvote_ratio  ups    category  \n",
       "0                  NaN  t3_hd5t6m          0.66    1  Discussion  \n",
       "1            education  t3_hd3tqs          0.87   48   Education  \n",
       "2               career  t3_hcxeno          0.94   94      Career  \n",
       "3            education  t3_hd4xlb          0.75    4   Education  \n",
       "4                  NaN  t3_hcyrod          0.83   17  Job Search  "
      ]
     },
     "execution_count": 27,
     "metadata": {},
     "output_type": "execute_result"
    }
   ],
   "source": [
    "posts_df.iloc[:,0:9].head()"
   ]
  },
  {
   "cell_type": "code",
   "execution_count": 28,
   "metadata": {},
   "outputs": [
    {
     "data": {
      "text/html": [
       "<div>\n",
       "<style scoped>\n",
       "    .dataframe tbody tr th:only-of-type {\n",
       "        vertical-align: middle;\n",
       "    }\n",
       "\n",
       "    .dataframe tbody tr th {\n",
       "        vertical-align: top;\n",
       "    }\n",
       "\n",
       "    .dataframe thead th {\n",
       "        text-align: right;\n",
       "    }\n",
       "</style>\n",
       "<table border=\"1\" class=\"dataframe\">\n",
       "  <thead>\n",
       "    <tr style=\"text-align: right;\">\n",
       "      <th></th>\n",
       "      <th>score</th>\n",
       "      <th>created</th>\n",
       "      <th>selftext_html</th>\n",
       "      <th>id</th>\n",
       "      <th>author</th>\n",
       "      <th>num_comments</th>\n",
       "      <th>permalink</th>\n",
       "      <th>url</th>\n",
       "      <th>created_utc</th>\n",
       "      <th>type</th>\n",
       "    </tr>\n",
       "  </thead>\n",
       "  <tbody>\n",
       "    <tr>\n",
       "      <th>0</th>\n",
       "      <td>1</td>\n",
       "      <td>1.592770e+09</td>\n",
       "      <td>&amp;lt;!-- SC_OFF --&amp;gt;&amp;lt;div class=\"md\"&amp;gt;&amp;lt...</td>\n",
       "      <td>hd5t6m</td>\n",
       "      <td>datascience-bot</td>\n",
       "      <td>5</td>\n",
       "      <td>/r/datascience/comments/hd5t6m/weekly_entering...</td>\n",
       "      <td>https://www.reddit.com/r/datascience/comments/...</td>\n",
       "      <td>1.592741e+09</td>\n",
       "      <td>post</td>\n",
       "    </tr>\n",
       "    <tr>\n",
       "      <th>1</th>\n",
       "      <td>48</td>\n",
       "      <td>1.592759e+09</td>\n",
       "      <td>NaN</td>\n",
       "      <td>hd3tqs</td>\n",
       "      <td>kotartemiy</td>\n",
       "      <td>6</td>\n",
       "      <td>/r/datascience/comments/hd3tqs/the_best_sql_vs...</td>\n",
       "      <td>https://codarium.substack.com/p/the-best-sql-v...</td>\n",
       "      <td>1.592730e+09</td>\n",
       "      <td>post</td>\n",
       "    </tr>\n",
       "    <tr>\n",
       "      <th>2</th>\n",
       "      <td>94</td>\n",
       "      <td>1.592729e+09</td>\n",
       "      <td>&amp;lt;!-- SC_OFF --&amp;gt;&amp;lt;div class=\"md\"&amp;gt;&amp;lt...</td>\n",
       "      <td>hcxeno</td>\n",
       "      <td>GreenerCar</td>\n",
       "      <td>13</td>\n",
       "      <td>/r/datascience/comments/hcxeno/amazon_aws_pros...</td>\n",
       "      <td>https://www.reddit.com/r/datascience/comments/...</td>\n",
       "      <td>1.592700e+09</td>\n",
       "      <td>post</td>\n",
       "    </tr>\n",
       "    <tr>\n",
       "      <th>3</th>\n",
       "      <td>4</td>\n",
       "      <td>1.592765e+09</td>\n",
       "      <td>&amp;lt;!-- SC_OFF --&amp;gt;&amp;lt;div class=\"md\"&amp;gt;&amp;lt...</td>\n",
       "      <td>hd4xlb</td>\n",
       "      <td>takathur</td>\n",
       "      <td>0</td>\n",
       "      <td>/r/datascience/comments/hd4xlb/help_with_imple...</td>\n",
       "      <td>https://www.reddit.com/r/datascience/comments/...</td>\n",
       "      <td>1.592736e+09</td>\n",
       "      <td>post</td>\n",
       "    </tr>\n",
       "    <tr>\n",
       "      <th>4</th>\n",
       "      <td>17</td>\n",
       "      <td>1.592734e+09</td>\n",
       "      <td>&amp;lt;!-- SC_OFF --&amp;gt;&amp;lt;div class=\"md\"&amp;gt;&amp;lt...</td>\n",
       "      <td>hcyrod</td>\n",
       "      <td>remembr_this</td>\n",
       "      <td>11</td>\n",
       "      <td>/r/datascience/comments/hcyrod/how_are_data_sc...</td>\n",
       "      <td>https://www.reddit.com/r/datascience/comments/...</td>\n",
       "      <td>1.592706e+09</td>\n",
       "      <td>post</td>\n",
       "    </tr>\n",
       "  </tbody>\n",
       "</table>\n",
       "</div>"
      ],
      "text/plain": [
       "   score       created                                      selftext_html  \\\n",
       "0      1  1.592770e+09  &lt;!-- SC_OFF --&gt;&lt;div class=\"md\"&gt;&lt...   \n",
       "1     48  1.592759e+09                                                NaN   \n",
       "2     94  1.592729e+09  &lt;!-- SC_OFF --&gt;&lt;div class=\"md\"&gt;&lt...   \n",
       "3      4  1.592765e+09  &lt;!-- SC_OFF --&gt;&lt;div class=\"md\"&gt;&lt...   \n",
       "4     17  1.592734e+09  &lt;!-- SC_OFF --&gt;&lt;div class=\"md\"&gt;&lt...   \n",
       "\n",
       "       id           author  num_comments  \\\n",
       "0  hd5t6m  datascience-bot             5   \n",
       "1  hd3tqs       kotartemiy             6   \n",
       "2  hcxeno       GreenerCar            13   \n",
       "3  hd4xlb         takathur             0   \n",
       "4  hcyrod     remembr_this            11   \n",
       "\n",
       "                                           permalink  \\\n",
       "0  /r/datascience/comments/hd5t6m/weekly_entering...   \n",
       "1  /r/datascience/comments/hd3tqs/the_best_sql_vs...   \n",
       "2  /r/datascience/comments/hcxeno/amazon_aws_pros...   \n",
       "3  /r/datascience/comments/hd4xlb/help_with_imple...   \n",
       "4  /r/datascience/comments/hcyrod/how_are_data_sc...   \n",
       "\n",
       "                                                 url   created_utc  type  \n",
       "0  https://www.reddit.com/r/datascience/comments/...  1.592741e+09  post  \n",
       "1  https://codarium.substack.com/p/the-best-sql-v...  1.592730e+09  post  \n",
       "2  https://www.reddit.com/r/datascience/comments/...  1.592700e+09  post  \n",
       "3  https://www.reddit.com/r/datascience/comments/...  1.592736e+09  post  \n",
       "4  https://www.reddit.com/r/datascience/comments/...  1.592706e+09  post  "
      ]
     },
     "execution_count": 28,
     "metadata": {},
     "output_type": "execute_result"
    }
   ],
   "source": [
    "posts_df.iloc[:,9:].head()"
   ]
  },
  {
   "cell_type": "code",
   "execution_count": 29,
   "metadata": {},
   "outputs": [
    {
     "data": {
      "text/plain": [
       "subreddit                object\n",
       "selftext                 object\n",
       "author_fullname          object\n",
       "title                    object\n",
       "link_flair_css_class     object\n",
       "name                     object\n",
       "upvote_ratio            float64\n",
       "ups                       int64\n",
       "category                 object\n",
       "score                     int64\n",
       "created                 float64\n",
       "selftext_html            object\n",
       "id                       object\n",
       "author                   object\n",
       "num_comments              int64\n",
       "permalink                object\n",
       "url                      object\n",
       "created_utc             float64\n",
       "type                     object\n",
       "dtype: object"
      ]
     },
     "execution_count": 29,
     "metadata": {},
     "output_type": "execute_result"
    }
   ],
   "source": [
    "## Check datatypes\n",
    "posts_df.dtypes"
   ]
  },
  {
   "cell_type": "markdown",
   "metadata": {},
   "source": [
    "### Observation\n",
    "\n",
    "+ Most of the data is text so there will be less distributions and statistics to look at\n",
    "+ However there will be more "
   ]
  },
  {
   "cell_type": "markdown",
   "metadata": {},
   "source": [
    "---"
   ]
  },
  {
   "cell_type": "markdown",
   "metadata": {},
   "source": [
    "## 3.2 Check for missing values\n",
    "+ Are there any missing values and plan to deal with them appropriately?"
   ]
  },
  {
   "cell_type": "code",
   "execution_count": 30,
   "metadata": {},
   "outputs": [],
   "source": [
    "# function to change the colour of nulls to maje it more noticeable\n",
    "def highlight_nulls(cell):\n",
    "    back_color = {True: \"background-color: lightblue\", False:\"\"}\n",
    "    is_null_col = (cell != 0 ).replace(back_color)\n",
    "    return is_null_col"
   ]
  },
  {
   "cell_type": "code",
   "execution_count": 31,
   "metadata": {},
   "outputs": [],
   "source": [
    "# get nulls from the dataframe\n",
    "null = pd.DataFrame(posts_df.isnull().sum())\n",
    "null.reset_index(inplace=True)"
   ]
  },
  {
   "cell_type": "code",
   "execution_count": 32,
   "metadata": {},
   "outputs": [],
   "source": [
    "# rename columns\n",
    "null.rename(columns={0:'null_count', 'index':'column'}, inplace=True)"
   ]
  },
  {
   "cell_type": "code",
   "execution_count": 33,
   "metadata": {
    "scrolled": false
   },
   "outputs": [
    {
     "data": {
      "text/html": [
       "<style  type=\"text/css\" >\n",
       "    #T_cba6be5e_b632_11ea_8bbb_acde48001122row1_col1 {\n",
       "            background-color:  lightblue;\n",
       "        }    #T_cba6be5e_b632_11ea_8bbb_acde48001122row2_col1 {\n",
       "            background-color:  lightblue;\n",
       "        }    #T_cba6be5e_b632_11ea_8bbb_acde48001122row4_col1 {\n",
       "            background-color:  lightblue;\n",
       "        }    #T_cba6be5e_b632_11ea_8bbb_acde48001122row8_col1 {\n",
       "            background-color:  lightblue;\n",
       "        }    #T_cba6be5e_b632_11ea_8bbb_acde48001122row11_col1 {\n",
       "            background-color:  lightblue;\n",
       "        }</style><table id=\"T_cba6be5e_b632_11ea_8bbb_acde48001122\" ><thead>    <tr>        <th class=\"blank level0\" ></th>        <th class=\"col_heading level0 col0\" >column</th>        <th class=\"col_heading level0 col1\" >null_count</th>    </tr></thead><tbody>\n",
       "                <tr>\n",
       "                        <th id=\"T_cba6be5e_b632_11ea_8bbb_acde48001122level0_row0\" class=\"row_heading level0 row0\" >0</th>\n",
       "                        <td id=\"T_cba6be5e_b632_11ea_8bbb_acde48001122row0_col0\" class=\"data row0 col0\" >subreddit</td>\n",
       "                        <td id=\"T_cba6be5e_b632_11ea_8bbb_acde48001122row0_col1\" class=\"data row0 col1\" >0</td>\n",
       "            </tr>\n",
       "            <tr>\n",
       "                        <th id=\"T_cba6be5e_b632_11ea_8bbb_acde48001122level0_row1\" class=\"row_heading level0 row1\" >1</th>\n",
       "                        <td id=\"T_cba6be5e_b632_11ea_8bbb_acde48001122row1_col0\" class=\"data row1 col0\" >selftext</td>\n",
       "                        <td id=\"T_cba6be5e_b632_11ea_8bbb_acde48001122row1_col1\" class=\"data row1 col1\" >104</td>\n",
       "            </tr>\n",
       "            <tr>\n",
       "                        <th id=\"T_cba6be5e_b632_11ea_8bbb_acde48001122level0_row2\" class=\"row_heading level0 row2\" >2</th>\n",
       "                        <td id=\"T_cba6be5e_b632_11ea_8bbb_acde48001122row2_col0\" class=\"data row2 col0\" >author_fullname</td>\n",
       "                        <td id=\"T_cba6be5e_b632_11ea_8bbb_acde48001122row2_col1\" class=\"data row2 col1\" >20</td>\n",
       "            </tr>\n",
       "            <tr>\n",
       "                        <th id=\"T_cba6be5e_b632_11ea_8bbb_acde48001122level0_row3\" class=\"row_heading level0 row3\" >3</th>\n",
       "                        <td id=\"T_cba6be5e_b632_11ea_8bbb_acde48001122row3_col0\" class=\"data row3 col0\" >title</td>\n",
       "                        <td id=\"T_cba6be5e_b632_11ea_8bbb_acde48001122row3_col1\" class=\"data row3 col1\" >0</td>\n",
       "            </tr>\n",
       "            <tr>\n",
       "                        <th id=\"T_cba6be5e_b632_11ea_8bbb_acde48001122level0_row4\" class=\"row_heading level0 row4\" >4</th>\n",
       "                        <td id=\"T_cba6be5e_b632_11ea_8bbb_acde48001122row4_col0\" class=\"data row4 col0\" >link_flair_css_class</td>\n",
       "                        <td id=\"T_cba6be5e_b632_11ea_8bbb_acde48001122row4_col1\" class=\"data row4 col1\" >703</td>\n",
       "            </tr>\n",
       "            <tr>\n",
       "                        <th id=\"T_cba6be5e_b632_11ea_8bbb_acde48001122level0_row5\" class=\"row_heading level0 row5\" >5</th>\n",
       "                        <td id=\"T_cba6be5e_b632_11ea_8bbb_acde48001122row5_col0\" class=\"data row5 col0\" >name</td>\n",
       "                        <td id=\"T_cba6be5e_b632_11ea_8bbb_acde48001122row5_col1\" class=\"data row5 col1\" >0</td>\n",
       "            </tr>\n",
       "            <tr>\n",
       "                        <th id=\"T_cba6be5e_b632_11ea_8bbb_acde48001122level0_row6\" class=\"row_heading level0 row6\" >6</th>\n",
       "                        <td id=\"T_cba6be5e_b632_11ea_8bbb_acde48001122row6_col0\" class=\"data row6 col0\" >upvote_ratio</td>\n",
       "                        <td id=\"T_cba6be5e_b632_11ea_8bbb_acde48001122row6_col1\" class=\"data row6 col1\" >0</td>\n",
       "            </tr>\n",
       "            <tr>\n",
       "                        <th id=\"T_cba6be5e_b632_11ea_8bbb_acde48001122level0_row7\" class=\"row_heading level0 row7\" >7</th>\n",
       "                        <td id=\"T_cba6be5e_b632_11ea_8bbb_acde48001122row7_col0\" class=\"data row7 col0\" >ups</td>\n",
       "                        <td id=\"T_cba6be5e_b632_11ea_8bbb_acde48001122row7_col1\" class=\"data row7 col1\" >0</td>\n",
       "            </tr>\n",
       "            <tr>\n",
       "                        <th id=\"T_cba6be5e_b632_11ea_8bbb_acde48001122level0_row8\" class=\"row_heading level0 row8\" >8</th>\n",
       "                        <td id=\"T_cba6be5e_b632_11ea_8bbb_acde48001122row8_col0\" class=\"data row8 col0\" >category</td>\n",
       "                        <td id=\"T_cba6be5e_b632_11ea_8bbb_acde48001122row8_col1\" class=\"data row8 col1\" >452</td>\n",
       "            </tr>\n",
       "            <tr>\n",
       "                        <th id=\"T_cba6be5e_b632_11ea_8bbb_acde48001122level0_row9\" class=\"row_heading level0 row9\" >9</th>\n",
       "                        <td id=\"T_cba6be5e_b632_11ea_8bbb_acde48001122row9_col0\" class=\"data row9 col0\" >score</td>\n",
       "                        <td id=\"T_cba6be5e_b632_11ea_8bbb_acde48001122row9_col1\" class=\"data row9 col1\" >0</td>\n",
       "            </tr>\n",
       "            <tr>\n",
       "                        <th id=\"T_cba6be5e_b632_11ea_8bbb_acde48001122level0_row10\" class=\"row_heading level0 row10\" >10</th>\n",
       "                        <td id=\"T_cba6be5e_b632_11ea_8bbb_acde48001122row10_col0\" class=\"data row10 col0\" >created</td>\n",
       "                        <td id=\"T_cba6be5e_b632_11ea_8bbb_acde48001122row10_col1\" class=\"data row10 col1\" >0</td>\n",
       "            </tr>\n",
       "            <tr>\n",
       "                        <th id=\"T_cba6be5e_b632_11ea_8bbb_acde48001122level0_row11\" class=\"row_heading level0 row11\" >11</th>\n",
       "                        <td id=\"T_cba6be5e_b632_11ea_8bbb_acde48001122row11_col0\" class=\"data row11 col0\" >selftext_html</td>\n",
       "                        <td id=\"T_cba6be5e_b632_11ea_8bbb_acde48001122row11_col1\" class=\"data row11 col1\" >104</td>\n",
       "            </tr>\n",
       "            <tr>\n",
       "                        <th id=\"T_cba6be5e_b632_11ea_8bbb_acde48001122level0_row12\" class=\"row_heading level0 row12\" >12</th>\n",
       "                        <td id=\"T_cba6be5e_b632_11ea_8bbb_acde48001122row12_col0\" class=\"data row12 col0\" >id</td>\n",
       "                        <td id=\"T_cba6be5e_b632_11ea_8bbb_acde48001122row12_col1\" class=\"data row12 col1\" >0</td>\n",
       "            </tr>\n",
       "            <tr>\n",
       "                        <th id=\"T_cba6be5e_b632_11ea_8bbb_acde48001122level0_row13\" class=\"row_heading level0 row13\" >13</th>\n",
       "                        <td id=\"T_cba6be5e_b632_11ea_8bbb_acde48001122row13_col0\" class=\"data row13 col0\" >author</td>\n",
       "                        <td id=\"T_cba6be5e_b632_11ea_8bbb_acde48001122row13_col1\" class=\"data row13 col1\" >0</td>\n",
       "            </tr>\n",
       "            <tr>\n",
       "                        <th id=\"T_cba6be5e_b632_11ea_8bbb_acde48001122level0_row14\" class=\"row_heading level0 row14\" >14</th>\n",
       "                        <td id=\"T_cba6be5e_b632_11ea_8bbb_acde48001122row14_col0\" class=\"data row14 col0\" >num_comments</td>\n",
       "                        <td id=\"T_cba6be5e_b632_11ea_8bbb_acde48001122row14_col1\" class=\"data row14 col1\" >0</td>\n",
       "            </tr>\n",
       "            <tr>\n",
       "                        <th id=\"T_cba6be5e_b632_11ea_8bbb_acde48001122level0_row15\" class=\"row_heading level0 row15\" >15</th>\n",
       "                        <td id=\"T_cba6be5e_b632_11ea_8bbb_acde48001122row15_col0\" class=\"data row15 col0\" >permalink</td>\n",
       "                        <td id=\"T_cba6be5e_b632_11ea_8bbb_acde48001122row15_col1\" class=\"data row15 col1\" >0</td>\n",
       "            </tr>\n",
       "            <tr>\n",
       "                        <th id=\"T_cba6be5e_b632_11ea_8bbb_acde48001122level0_row16\" class=\"row_heading level0 row16\" >16</th>\n",
       "                        <td id=\"T_cba6be5e_b632_11ea_8bbb_acde48001122row16_col0\" class=\"data row16 col0\" >url</td>\n",
       "                        <td id=\"T_cba6be5e_b632_11ea_8bbb_acde48001122row16_col1\" class=\"data row16 col1\" >0</td>\n",
       "            </tr>\n",
       "            <tr>\n",
       "                        <th id=\"T_cba6be5e_b632_11ea_8bbb_acde48001122level0_row17\" class=\"row_heading level0 row17\" >17</th>\n",
       "                        <td id=\"T_cba6be5e_b632_11ea_8bbb_acde48001122row17_col0\" class=\"data row17 col0\" >created_utc</td>\n",
       "                        <td id=\"T_cba6be5e_b632_11ea_8bbb_acde48001122row17_col1\" class=\"data row17 col1\" >0</td>\n",
       "            </tr>\n",
       "            <tr>\n",
       "                        <th id=\"T_cba6be5e_b632_11ea_8bbb_acde48001122level0_row18\" class=\"row_heading level0 row18\" >18</th>\n",
       "                        <td id=\"T_cba6be5e_b632_11ea_8bbb_acde48001122row18_col0\" class=\"data row18 col0\" >type</td>\n",
       "                        <td id=\"T_cba6be5e_b632_11ea_8bbb_acde48001122row18_col1\" class=\"data row18 col1\" >0</td>\n",
       "            </tr>\n",
       "    </tbody></table>"
      ],
      "text/plain": [
       "<pandas.io.formats.style.Styler at 0x7f92a85ebe10>"
      ]
     },
     "execution_count": 33,
     "metadata": {},
     "output_type": "execute_result"
    }
   ],
   "source": [
    "null.style.apply(highlight_nulls,subset=['null_count'])"
   ]
  },
  {
   "cell_type": "markdown",
   "metadata": {},
   "source": [
    "#### Example of column content\n",
    "\n",
    "'selftext' and the 'selftext_html' \n",
    "\n",
    "+ These are crucial as that is where the words are going to come from. Therefore I have no choice but to drop these rows. This is accounts for almost 8% of the post data. However this is why I scraped the comments data to ensure there was enough text to use.\n",
    "\n",
    "'category' \n",
    "\n",
    "+ This column I made to potentially see if different types of posts are more useful than others. However it is not critical. I could use the median or mode to add the category. Howeve this could bias the results. It would best be served as a seperate classficiation NLP challenge. Therefore i will just change the nulls to 'Unknown'\n",
    "\n",
    "'link_flair_css_class' \n",
    "\n",
    "+ This has similar but less robust information than category. Therefore it actually isnt that useful so I will drop the column especially as it only almost 50% null columns\n",
    "\n",
    "'author_fullname' \n",
    "+ There is only a small amount of data missing - 1.5%. It is also not so useful. I included it so I can check if the content is coming from a small number of authors or many. Also useful to see if authors were posting in both subreddits. So I will change the name to 'anonymous'"
   ]
  },
  {
   "cell_type": "code",
   "execution_count": 34,
   "metadata": {},
   "outputs": [],
   "source": [
    "# Implement decisions from above\n",
    "\n",
    "# drop missing selftext\n",
    "posts_df.drop(posts_df.loc[posts_df['selftext'].isnull()].index, axis=0, inplace=True)"
   ]
  },
  {
   "cell_type": "code",
   "execution_count": 35,
   "metadata": {},
   "outputs": [],
   "source": [
    "# rename missing authors to anonymous\n",
    "posts_df.loc[posts_df['category'].isnull(),'category'] = 'Unknown'"
   ]
  },
  {
   "cell_type": "code",
   "execution_count": 36,
   "metadata": {},
   "outputs": [],
   "source": [
    "# drop 'link_flair_css_class' column\n",
    "posts_df.drop(columns='link_flair_css_class', inplace=True);"
   ]
  },
  {
   "cell_type": "code",
   "execution_count": 37,
   "metadata": {},
   "outputs": [],
   "source": [
    "# rename missing authors to anonymous\n",
    "posts_df.loc[posts_df['author_fullname'].isnull(), 'author_fullname'] = 'anonymous'"
   ]
  },
  {
   "cell_type": "code",
   "execution_count": 38,
   "metadata": {},
   "outputs": [],
   "source": [
    "# recheck nulls\n",
    "null = pd.DataFrame(posts_df.isnull().sum())\n",
    "null.reset_index(inplace=True)\n",
    "null.rename(columns={0:'null_count', 'index':'column'}, inplace=True)"
   ]
  },
  {
   "cell_type": "code",
   "execution_count": 39,
   "metadata": {},
   "outputs": [
    {
     "data": {
      "text/html": [
       "<style  type=\"text/css\" >\n",
       "</style><table id=\"T_cbad5ca0_b632_11ea_8bbb_acde48001122\" ><thead>    <tr>        <th class=\"blank level0\" ></th>        <th class=\"col_heading level0 col0\" >column</th>        <th class=\"col_heading level0 col1\" >null_count</th>    </tr></thead><tbody>\n",
       "                <tr>\n",
       "                        <th id=\"T_cbad5ca0_b632_11ea_8bbb_acde48001122level0_row0\" class=\"row_heading level0 row0\" >0</th>\n",
       "                        <td id=\"T_cbad5ca0_b632_11ea_8bbb_acde48001122row0_col0\" class=\"data row0 col0\" >subreddit</td>\n",
       "                        <td id=\"T_cbad5ca0_b632_11ea_8bbb_acde48001122row0_col1\" class=\"data row0 col1\" >0</td>\n",
       "            </tr>\n",
       "            <tr>\n",
       "                        <th id=\"T_cbad5ca0_b632_11ea_8bbb_acde48001122level0_row1\" class=\"row_heading level0 row1\" >1</th>\n",
       "                        <td id=\"T_cbad5ca0_b632_11ea_8bbb_acde48001122row1_col0\" class=\"data row1 col0\" >selftext</td>\n",
       "                        <td id=\"T_cbad5ca0_b632_11ea_8bbb_acde48001122row1_col1\" class=\"data row1 col1\" >0</td>\n",
       "            </tr>\n",
       "            <tr>\n",
       "                        <th id=\"T_cbad5ca0_b632_11ea_8bbb_acde48001122level0_row2\" class=\"row_heading level0 row2\" >2</th>\n",
       "                        <td id=\"T_cbad5ca0_b632_11ea_8bbb_acde48001122row2_col0\" class=\"data row2 col0\" >author_fullname</td>\n",
       "                        <td id=\"T_cbad5ca0_b632_11ea_8bbb_acde48001122row2_col1\" class=\"data row2 col1\" >0</td>\n",
       "            </tr>\n",
       "            <tr>\n",
       "                        <th id=\"T_cbad5ca0_b632_11ea_8bbb_acde48001122level0_row3\" class=\"row_heading level0 row3\" >3</th>\n",
       "                        <td id=\"T_cbad5ca0_b632_11ea_8bbb_acde48001122row3_col0\" class=\"data row3 col0\" >title</td>\n",
       "                        <td id=\"T_cbad5ca0_b632_11ea_8bbb_acde48001122row3_col1\" class=\"data row3 col1\" >0</td>\n",
       "            </tr>\n",
       "            <tr>\n",
       "                        <th id=\"T_cbad5ca0_b632_11ea_8bbb_acde48001122level0_row4\" class=\"row_heading level0 row4\" >4</th>\n",
       "                        <td id=\"T_cbad5ca0_b632_11ea_8bbb_acde48001122row4_col0\" class=\"data row4 col0\" >name</td>\n",
       "                        <td id=\"T_cbad5ca0_b632_11ea_8bbb_acde48001122row4_col1\" class=\"data row4 col1\" >0</td>\n",
       "            </tr>\n",
       "            <tr>\n",
       "                        <th id=\"T_cbad5ca0_b632_11ea_8bbb_acde48001122level0_row5\" class=\"row_heading level0 row5\" >5</th>\n",
       "                        <td id=\"T_cbad5ca0_b632_11ea_8bbb_acde48001122row5_col0\" class=\"data row5 col0\" >upvote_ratio</td>\n",
       "                        <td id=\"T_cbad5ca0_b632_11ea_8bbb_acde48001122row5_col1\" class=\"data row5 col1\" >0</td>\n",
       "            </tr>\n",
       "            <tr>\n",
       "                        <th id=\"T_cbad5ca0_b632_11ea_8bbb_acde48001122level0_row6\" class=\"row_heading level0 row6\" >6</th>\n",
       "                        <td id=\"T_cbad5ca0_b632_11ea_8bbb_acde48001122row6_col0\" class=\"data row6 col0\" >ups</td>\n",
       "                        <td id=\"T_cbad5ca0_b632_11ea_8bbb_acde48001122row6_col1\" class=\"data row6 col1\" >0</td>\n",
       "            </tr>\n",
       "            <tr>\n",
       "                        <th id=\"T_cbad5ca0_b632_11ea_8bbb_acde48001122level0_row7\" class=\"row_heading level0 row7\" >7</th>\n",
       "                        <td id=\"T_cbad5ca0_b632_11ea_8bbb_acde48001122row7_col0\" class=\"data row7 col0\" >category</td>\n",
       "                        <td id=\"T_cbad5ca0_b632_11ea_8bbb_acde48001122row7_col1\" class=\"data row7 col1\" >0</td>\n",
       "            </tr>\n",
       "            <tr>\n",
       "                        <th id=\"T_cbad5ca0_b632_11ea_8bbb_acde48001122level0_row8\" class=\"row_heading level0 row8\" >8</th>\n",
       "                        <td id=\"T_cbad5ca0_b632_11ea_8bbb_acde48001122row8_col0\" class=\"data row8 col0\" >score</td>\n",
       "                        <td id=\"T_cbad5ca0_b632_11ea_8bbb_acde48001122row8_col1\" class=\"data row8 col1\" >0</td>\n",
       "            </tr>\n",
       "            <tr>\n",
       "                        <th id=\"T_cbad5ca0_b632_11ea_8bbb_acde48001122level0_row9\" class=\"row_heading level0 row9\" >9</th>\n",
       "                        <td id=\"T_cbad5ca0_b632_11ea_8bbb_acde48001122row9_col0\" class=\"data row9 col0\" >created</td>\n",
       "                        <td id=\"T_cbad5ca0_b632_11ea_8bbb_acde48001122row9_col1\" class=\"data row9 col1\" >0</td>\n",
       "            </tr>\n",
       "            <tr>\n",
       "                        <th id=\"T_cbad5ca0_b632_11ea_8bbb_acde48001122level0_row10\" class=\"row_heading level0 row10\" >10</th>\n",
       "                        <td id=\"T_cbad5ca0_b632_11ea_8bbb_acde48001122row10_col0\" class=\"data row10 col0\" >selftext_html</td>\n",
       "                        <td id=\"T_cbad5ca0_b632_11ea_8bbb_acde48001122row10_col1\" class=\"data row10 col1\" >0</td>\n",
       "            </tr>\n",
       "            <tr>\n",
       "                        <th id=\"T_cbad5ca0_b632_11ea_8bbb_acde48001122level0_row11\" class=\"row_heading level0 row11\" >11</th>\n",
       "                        <td id=\"T_cbad5ca0_b632_11ea_8bbb_acde48001122row11_col0\" class=\"data row11 col0\" >id</td>\n",
       "                        <td id=\"T_cbad5ca0_b632_11ea_8bbb_acde48001122row11_col1\" class=\"data row11 col1\" >0</td>\n",
       "            </tr>\n",
       "            <tr>\n",
       "                        <th id=\"T_cbad5ca0_b632_11ea_8bbb_acde48001122level0_row12\" class=\"row_heading level0 row12\" >12</th>\n",
       "                        <td id=\"T_cbad5ca0_b632_11ea_8bbb_acde48001122row12_col0\" class=\"data row12 col0\" >author</td>\n",
       "                        <td id=\"T_cbad5ca0_b632_11ea_8bbb_acde48001122row12_col1\" class=\"data row12 col1\" >0</td>\n",
       "            </tr>\n",
       "            <tr>\n",
       "                        <th id=\"T_cbad5ca0_b632_11ea_8bbb_acde48001122level0_row13\" class=\"row_heading level0 row13\" >13</th>\n",
       "                        <td id=\"T_cbad5ca0_b632_11ea_8bbb_acde48001122row13_col0\" class=\"data row13 col0\" >num_comments</td>\n",
       "                        <td id=\"T_cbad5ca0_b632_11ea_8bbb_acde48001122row13_col1\" class=\"data row13 col1\" >0</td>\n",
       "            </tr>\n",
       "            <tr>\n",
       "                        <th id=\"T_cbad5ca0_b632_11ea_8bbb_acde48001122level0_row14\" class=\"row_heading level0 row14\" >14</th>\n",
       "                        <td id=\"T_cbad5ca0_b632_11ea_8bbb_acde48001122row14_col0\" class=\"data row14 col0\" >permalink</td>\n",
       "                        <td id=\"T_cbad5ca0_b632_11ea_8bbb_acde48001122row14_col1\" class=\"data row14 col1\" >0</td>\n",
       "            </tr>\n",
       "            <tr>\n",
       "                        <th id=\"T_cbad5ca0_b632_11ea_8bbb_acde48001122level0_row15\" class=\"row_heading level0 row15\" >15</th>\n",
       "                        <td id=\"T_cbad5ca0_b632_11ea_8bbb_acde48001122row15_col0\" class=\"data row15 col0\" >url</td>\n",
       "                        <td id=\"T_cbad5ca0_b632_11ea_8bbb_acde48001122row15_col1\" class=\"data row15 col1\" >0</td>\n",
       "            </tr>\n",
       "            <tr>\n",
       "                        <th id=\"T_cbad5ca0_b632_11ea_8bbb_acde48001122level0_row16\" class=\"row_heading level0 row16\" >16</th>\n",
       "                        <td id=\"T_cbad5ca0_b632_11ea_8bbb_acde48001122row16_col0\" class=\"data row16 col0\" >created_utc</td>\n",
       "                        <td id=\"T_cbad5ca0_b632_11ea_8bbb_acde48001122row16_col1\" class=\"data row16 col1\" >0</td>\n",
       "            </tr>\n",
       "            <tr>\n",
       "                        <th id=\"T_cbad5ca0_b632_11ea_8bbb_acde48001122level0_row17\" class=\"row_heading level0 row17\" >17</th>\n",
       "                        <td id=\"T_cbad5ca0_b632_11ea_8bbb_acde48001122row17_col0\" class=\"data row17 col0\" >type</td>\n",
       "                        <td id=\"T_cbad5ca0_b632_11ea_8bbb_acde48001122row17_col1\" class=\"data row17 col1\" >0</td>\n",
       "            </tr>\n",
       "    </tbody></table>"
      ],
      "text/plain": [
       "<pandas.io.formats.style.Styler at 0x7f9309ac25d0>"
      ]
     },
     "execution_count": 39,
     "metadata": {},
     "output_type": "execute_result"
    }
   ],
   "source": [
    "null.style.apply(highlight_nulls,subset=['null_count'])"
   ]
  },
  {
   "cell_type": "markdown",
   "metadata": {},
   "source": [
    "### observation\n",
    "+ nulls have been reviewed and processed"
   ]
  },
  {
   "cell_type": "markdown",
   "metadata": {},
   "source": [
    "---"
   ]
  },
  {
   "cell_type": "markdown",
   "metadata": {},
   "source": [
    "## 3.3 Summary Statistics"
   ]
  },
  {
   "cell_type": "code",
   "execution_count": 40,
   "metadata": {},
   "outputs": [
    {
     "data": {
      "text/html": [
       "<div>\n",
       "<style scoped>\n",
       "    .dataframe tbody tr th:only-of-type {\n",
       "        vertical-align: middle;\n",
       "    }\n",
       "\n",
       "    .dataframe tbody tr th {\n",
       "        vertical-align: top;\n",
       "    }\n",
       "\n",
       "    .dataframe thead th {\n",
       "        text-align: right;\n",
       "    }\n",
       "</style>\n",
       "<table border=\"1\" class=\"dataframe\">\n",
       "  <thead>\n",
       "    <tr style=\"text-align: right;\">\n",
       "      <th></th>\n",
       "      <th>upvote_ratio</th>\n",
       "      <th>ups</th>\n",
       "      <th>score</th>\n",
       "      <th>created</th>\n",
       "      <th>num_comments</th>\n",
       "      <th>created_utc</th>\n",
       "    </tr>\n",
       "  </thead>\n",
       "  <tbody>\n",
       "    <tr>\n",
       "      <th>count</th>\n",
       "      <td>561.000000</td>\n",
       "      <td>561.000000</td>\n",
       "      <td>561.000000</td>\n",
       "      <td>5.610000e+02</td>\n",
       "      <td>561.000000</td>\n",
       "      <td>5.610000e+02</td>\n",
       "    </tr>\n",
       "    <tr>\n",
       "      <th>mean</th>\n",
       "      <td>0.791604</td>\n",
       "      <td>64.003565</td>\n",
       "      <td>64.003565</td>\n",
       "      <td>1.588642e+09</td>\n",
       "      <td>29.172906</td>\n",
       "      <td>1.588613e+09</td>\n",
       "    </tr>\n",
       "    <tr>\n",
       "      <th>std</th>\n",
       "      <td>0.199587</td>\n",
       "      <td>151.296516</td>\n",
       "      <td>151.296516</td>\n",
       "      <td>2.711082e+06</td>\n",
       "      <td>48.091769</td>\n",
       "      <td>2.711082e+06</td>\n",
       "    </tr>\n",
       "    <tr>\n",
       "      <th>min</th>\n",
       "      <td>0.200000</td>\n",
       "      <td>0.000000</td>\n",
       "      <td>0.000000</td>\n",
       "      <td>1.584613e+09</td>\n",
       "      <td>0.000000</td>\n",
       "      <td>1.584584e+09</td>\n",
       "    </tr>\n",
       "    <tr>\n",
       "      <th>25%</th>\n",
       "      <td>0.670000</td>\n",
       "      <td>1.000000</td>\n",
       "      <td>1.000000</td>\n",
       "      <td>1.585687e+09</td>\n",
       "      <td>4.000000</td>\n",
       "      <td>1.585658e+09</td>\n",
       "    </tr>\n",
       "    <tr>\n",
       "      <th>50%</th>\n",
       "      <td>0.860000</td>\n",
       "      <td>5.000000</td>\n",
       "      <td>5.000000</td>\n",
       "      <td>1.588897e+09</td>\n",
       "      <td>10.000000</td>\n",
       "      <td>1.588868e+09</td>\n",
       "    </tr>\n",
       "    <tr>\n",
       "      <th>75%</th>\n",
       "      <td>0.960000</td>\n",
       "      <td>31.000000</td>\n",
       "      <td>31.000000</td>\n",
       "      <td>1.591180e+09</td>\n",
       "      <td>27.000000</td>\n",
       "      <td>1.591151e+09</td>\n",
       "    </tr>\n",
       "    <tr>\n",
       "      <th>max</th>\n",
       "      <td>1.000000</td>\n",
       "      <td>1432.000000</td>\n",
       "      <td>1432.000000</td>\n",
       "      <td>1.592779e+09</td>\n",
       "      <td>369.000000</td>\n",
       "      <td>1.592750e+09</td>\n",
       "    </tr>\n",
       "  </tbody>\n",
       "</table>\n",
       "</div>"
      ],
      "text/plain": [
       "       upvote_ratio          ups        score       created  num_comments  \\\n",
       "count    561.000000   561.000000   561.000000  5.610000e+02    561.000000   \n",
       "mean       0.791604    64.003565    64.003565  1.588642e+09     29.172906   \n",
       "std        0.199587   151.296516   151.296516  2.711082e+06     48.091769   \n",
       "min        0.200000     0.000000     0.000000  1.584613e+09      0.000000   \n",
       "25%        0.670000     1.000000     1.000000  1.585687e+09      4.000000   \n",
       "50%        0.860000     5.000000     5.000000  1.588897e+09     10.000000   \n",
       "75%        0.960000    31.000000    31.000000  1.591180e+09     27.000000   \n",
       "max        1.000000  1432.000000  1432.000000  1.592779e+09    369.000000   \n",
       "\n",
       "        created_utc  \n",
       "count  5.610000e+02  \n",
       "mean   1.588613e+09  \n",
       "std    2.711082e+06  \n",
       "min    1.584584e+09  \n",
       "25%    1.585658e+09  \n",
       "50%    1.588868e+09  \n",
       "75%    1.591151e+09  \n",
       "max    1.592750e+09  "
      ]
     },
     "execution_count": 40,
     "metadata": {},
     "output_type": "execute_result"
    }
   ],
   "source": [
    "posts_df.loc[posts_df['subreddit']=='datascience'].describe()"
   ]
  },
  {
   "cell_type": "code",
   "execution_count": 41,
   "metadata": {
    "scrolled": true
   },
   "outputs": [
    {
     "data": {
      "text/html": [
       "<div>\n",
       "<style scoped>\n",
       "    .dataframe tbody tr th:only-of-type {\n",
       "        vertical-align: middle;\n",
       "    }\n",
       "\n",
       "    .dataframe tbody tr th {\n",
       "        vertical-align: top;\n",
       "    }\n",
       "\n",
       "    .dataframe thead th {\n",
       "        text-align: right;\n",
       "    }\n",
       "</style>\n",
       "<table border=\"1\" class=\"dataframe\">\n",
       "  <thead>\n",
       "    <tr style=\"text-align: right;\">\n",
       "      <th></th>\n",
       "      <th>upvote_ratio</th>\n",
       "      <th>ups</th>\n",
       "      <th>score</th>\n",
       "      <th>created</th>\n",
       "      <th>num_comments</th>\n",
       "      <th>created_utc</th>\n",
       "    </tr>\n",
       "  </thead>\n",
       "  <tbody>\n",
       "    <tr>\n",
       "      <th>count</th>\n",
       "      <td>643.000000</td>\n",
       "      <td>643.000000</td>\n",
       "      <td>643.000000</td>\n",
       "      <td>6.430000e+02</td>\n",
       "      <td>643.000000</td>\n",
       "      <td>6.430000e+02</td>\n",
       "    </tr>\n",
       "    <tr>\n",
       "      <th>mean</th>\n",
       "      <td>0.898787</td>\n",
       "      <td>7.667185</td>\n",
       "      <td>7.667185</td>\n",
       "      <td>1.586039e+09</td>\n",
       "      <td>8.066874</td>\n",
       "      <td>1.586010e+09</td>\n",
       "    </tr>\n",
       "    <tr>\n",
       "      <th>std</th>\n",
       "      <td>0.158272</td>\n",
       "      <td>10.258100</td>\n",
       "      <td>10.258100</td>\n",
       "      <td>4.298064e+06</td>\n",
       "      <td>9.245536</td>\n",
       "      <td>4.298064e+06</td>\n",
       "    </tr>\n",
       "    <tr>\n",
       "      <th>min</th>\n",
       "      <td>0.140000</td>\n",
       "      <td>0.000000</td>\n",
       "      <td>0.000000</td>\n",
       "      <td>1.578600e+09</td>\n",
       "      <td>0.000000</td>\n",
       "      <td>1.578571e+09</td>\n",
       "    </tr>\n",
       "    <tr>\n",
       "      <th>25%</th>\n",
       "      <td>0.850000</td>\n",
       "      <td>1.000000</td>\n",
       "      <td>1.000000</td>\n",
       "      <td>1.582078e+09</td>\n",
       "      <td>2.000000</td>\n",
       "      <td>1.582049e+09</td>\n",
       "    </tr>\n",
       "    <tr>\n",
       "      <th>50%</th>\n",
       "      <td>1.000000</td>\n",
       "      <td>3.000000</td>\n",
       "      <td>3.000000</td>\n",
       "      <td>1.586480e+09</td>\n",
       "      <td>5.000000</td>\n",
       "      <td>1.586451e+09</td>\n",
       "    </tr>\n",
       "    <tr>\n",
       "      <th>75%</th>\n",
       "      <td>1.000000</td>\n",
       "      <td>10.000000</td>\n",
       "      <td>10.000000</td>\n",
       "      <td>1.589871e+09</td>\n",
       "      <td>11.000000</td>\n",
       "      <td>1.589842e+09</td>\n",
       "    </tr>\n",
       "    <tr>\n",
       "      <th>max</th>\n",
       "      <td>1.000000</td>\n",
       "      <td>72.000000</td>\n",
       "      <td>72.000000</td>\n",
       "      <td>1.592741e+09</td>\n",
       "      <td>79.000000</td>\n",
       "      <td>1.592712e+09</td>\n",
       "    </tr>\n",
       "  </tbody>\n",
       "</table>\n",
       "</div>"
      ],
      "text/plain": [
       "       upvote_ratio         ups       score       created  num_comments  \\\n",
       "count    643.000000  643.000000  643.000000  6.430000e+02    643.000000   \n",
       "mean       0.898787    7.667185    7.667185  1.586039e+09      8.066874   \n",
       "std        0.158272   10.258100   10.258100  4.298064e+06      9.245536   \n",
       "min        0.140000    0.000000    0.000000  1.578600e+09      0.000000   \n",
       "25%        0.850000    1.000000    1.000000  1.582078e+09      2.000000   \n",
       "50%        1.000000    3.000000    3.000000  1.586480e+09      5.000000   \n",
       "75%        1.000000   10.000000   10.000000  1.589871e+09     11.000000   \n",
       "max        1.000000   72.000000   72.000000  1.592741e+09     79.000000   \n",
       "\n",
       "        created_utc  \n",
       "count  6.430000e+02  \n",
       "mean   1.586010e+09  \n",
       "std    4.298064e+06  \n",
       "min    1.578571e+09  \n",
       "25%    1.582049e+09  \n",
       "50%    1.586451e+09  \n",
       "75%    1.589842e+09  \n",
       "max    1.592712e+09  "
      ]
     },
     "execution_count": 41,
     "metadata": {},
     "output_type": "execute_result"
    }
   ],
   "source": [
    "posts_df.loc[posts_df['subreddit']=='analytics'].describe()"
   ]
  },
  {
   "cell_type": "markdown",
   "metadata": {},
   "source": [
    "### How many points above the 75% mark?"
   ]
  },
  {
   "cell_type": "code",
   "execution_count": 42,
   "metadata": {},
   "outputs": [
    {
     "data": {
      "text/plain": [
       "123"
      ]
     },
     "execution_count": 42,
     "metadata": {},
     "output_type": "execute_result"
    }
   ],
   "source": [
    "# Data Science number of num_comments and score outliers\n",
    "posts_df.loc[(posts_df['num_comments'] > 31) & (posts_df['subreddit'] == 'datascience'),'score'].size"
   ]
  },
  {
   "cell_type": "code",
   "execution_count": 43,
   "metadata": {},
   "outputs": [
    {
     "data": {
      "text/plain": [
       "137"
      ]
     },
     "execution_count": 43,
     "metadata": {},
     "output_type": "execute_result"
    }
   ],
   "source": [
    "posts_df.loc[(posts_df['score'] > 31) & (posts_df['subreddit'] == 'datascience'),'score'].size"
   ]
  },
  {
   "cell_type": "code",
   "execution_count": 44,
   "metadata": {},
   "outputs": [
    {
     "data": {
      "text/plain": [
       "173"
      ]
     },
     "execution_count": 44,
     "metadata": {},
     "output_type": "execute_result"
    }
   ],
   "source": [
    "# Data Science num_comments and score outliers\n",
    "posts_df.loc[(posts_df['num_comments'] > 10) & (posts_df['subreddit'] == 'analytics'),'score'].size"
   ]
  },
  {
   "cell_type": "code",
   "execution_count": 45,
   "metadata": {
    "scrolled": true
   },
   "outputs": [
    {
     "data": {
      "text/plain": [
       "149"
      ]
     },
     "execution_count": 45,
     "metadata": {},
     "output_type": "execute_result"
    }
   ],
   "source": [
    "posts_df.loc[(posts_df['score'] > 10) & (posts_df['subreddit'] == 'analytics'),'score'].size"
   ]
  },
  {
   "cell_type": "markdown",
   "metadata": {},
   "source": [
    "## Observations\n",
    "+ A minus score is possible for unpopular posts but likely to be removed soon by reddit moderators meaning the outliers are more extreme on the positive side. \n",
    "\n",
    "\n",
    "+ The large scores and comments shows that some posts resonate more than others. This is obvious but it may indicate that these post are a better indicators of the language as it has galvanised the community. I may look into this further later to see if its a true.\n",
    "\n",
    "\n",
    "+ The difference between the scores magnitude is likely due to the amount of subscribers. However it may be possible to use that to scale if I need to investigate further.\n",
    "\n",
    "\n",
    "#### NB it is clear that score and ups are the same so i will drop ups ans score is a better description of how its calulated"
   ]
  },
  {
   "cell_type": "code",
   "execution_count": 46,
   "metadata": {},
   "outputs": [],
   "source": [
    "# drop 'ups' column\n",
    "posts_df.drop(columns='ups', inplace=True)"
   ]
  },
  {
   "cell_type": "markdown",
   "metadata": {},
   "source": [
    "---"
   ]
  },
  {
   "cell_type": "markdown",
   "metadata": {},
   "source": [
    "## A closer look at some of the distributions"
   ]
  },
  {
   "cell_type": "markdown",
   "metadata": {},
   "source": [
    "---"
   ]
  },
  {
   "cell_type": "code",
   "execution_count": 47,
   "metadata": {
    "scrolled": false
   },
   "outputs": [
    {
     "data": {
      "image/png": "[encoded data removed]",
      "text/plain": [
       "<Figure size 720x720 with 2 Axes>"
      ]
     },
     "metadata": {
      "needs_background": "light"
     },
     "output_type": "display_data"
    }
   ],
   "source": [
    "# Plot the Scores distribution\n",
    "\n",
    "fig = plt.figure(figsize=(10,10))\n",
    "ax1 = fig.add_subplot(121)\n",
    "ax2 = fig.add_subplot(122)\n",
    "fig.suptitle('Scores of Posts made')\n",
    "ax1.boxplot(posts_df['score'].loc[posts_df['subreddit']=='datascience'])\n",
    "ax2.boxplot(posts_df['score'].loc[posts_df['subreddit']=='analytics'])\n",
    "ax1.set_title('Data Science posts score')\n",
    "ax2.set_title('Analytics posts score');\n"
   ]
  },
  {
   "cell_type": "markdown",
   "metadata": {},
   "source": [
    "### Observations\n",
    "\n",
    "+ The Distributions are on different scales but are actually quite similar. \n",
    "\n",
    "+ The gap between the 25% and 75% is 30 for data science\n",
    "\n",
    "+ The gap between the 25% and 75% is 9 for analytics\n",
    "\n",
    "\n",
    "+ The difference is about 3 times, however the number of members of each subreddit are as follows\n",
    "    + Datascience = 239,000\n",
    "    + Analytics = 63,000\n",
    "    \n",
    "    \n",
    "+ It is unknown how mnay active members there are. however a rough estimate suggests that actually I would expect to see 4 times the difference. So maybe analytics mebers are disproportiantely more engaged then the data sceince members"
   ]
  },
  {
   "cell_type": "code",
   "execution_count": 48,
   "metadata": {},
   "outputs": [
    {
     "data": {
      "image/png": "[encoded data removed]",
      "text/plain": [
       "<Figure size 720x720 with 2 Axes>"
      ]
     },
     "metadata": {
      "needs_background": "light"
     },
     "output_type": "display_data"
    }
   ],
   "source": [
    "# plot histogram for score distribution\n",
    "fig,(ax1, ax2) = plt.subplots(1,2, figsize=(10,10))\n",
    "fig.suptitle('Posts score distribution')\n",
    "\n",
    "sns.distplot(posts_df['score'].loc[posts_df['subreddit']=='datascience'], bins=20, ax=ax1)\n",
    "sns.distplot(posts_df['score'].loc[posts_df['subreddit']=='analytics'], bins=40, ax=ax2)\n",
    "ax1.set_title('Data Science score')\n",
    "ax2.set_title('Analytics score');"
   ]
  },
  {
   "cell_type": "markdown",
   "metadata": {},
   "source": [
    "### Observations on the Histograms. \n",
    "\n",
    "+ The distribution shape for both scores is similar\n",
    "+ The distribution is not normal it looks like a poisson distribution\n",
    "+ They has a positive skew\n",
    "\n",
    "\n",
    "This is probably because its more likely because if a score is to low and rececive a lot of down votes then it will be removed thus it would be missing from my data and preventing a normal distribution."
   ]
  },
  {
   "cell_type": "markdown",
   "metadata": {},
   "source": [
    "---"
   ]
  },
  {
   "cell_type": "markdown",
   "metadata": {},
   "source": [
    "# 4.0 Explore the structure of Comments Dataframe"
   ]
  },
  {
   "cell_type": "markdown",
   "metadata": {},
   "source": [
    "#### This Dateframe contains the post data scrpaed from the 2 subreddits"
   ]
  },
  {
   "cell_type": "markdown",
   "metadata": {},
   "source": [
    "---"
   ]
  },
  {
   "cell_type": "markdown",
   "metadata": {},
   "source": [
    "## 4.1 Check dataframe and dtypes"
   ]
  },
  {
   "cell_type": "code",
   "execution_count": 49,
   "metadata": {},
   "outputs": [
    {
     "data": {
      "text/html": [
       "<div>\n",
       "<style scoped>\n",
       "    .dataframe tbody tr th:only-of-type {\n",
       "        vertical-align: middle;\n",
       "    }\n",
       "\n",
       "    .dataframe tbody tr th {\n",
       "        vertical-align: top;\n",
       "    }\n",
       "\n",
       "    .dataframe thead th {\n",
       "        text-align: right;\n",
       "    }\n",
       "</style>\n",
       "<table border=\"1\" class=\"dataframe\">\n",
       "  <thead>\n",
       "    <tr style=\"text-align: right;\">\n",
       "      <th></th>\n",
       "      <th>ups</th>\n",
       "      <th>id</th>\n",
       "      <th>author</th>\n",
       "      <th>score</th>\n",
       "      <th>author_fullname</th>\n",
       "      <th>body</th>\n",
       "      <th>body_html</th>\n",
       "    </tr>\n",
       "  </thead>\n",
       "  <tbody>\n",
       "    <tr>\n",
       "      <th>0</th>\n",
       "      <td>1.0</td>\n",
       "      <td>fvjpubi</td>\n",
       "      <td>ToothPickLegs</td>\n",
       "      <td>1.0</td>\n",
       "      <td>t2_55fytx</td>\n",
       "      <td>Good degree setup for Data Science career?\\n\\n...</td>\n",
       "      <td>&amp;lt;div class=\"md\"&amp;gt;&amp;lt;p&amp;gt;Good degree set...</td>\n",
       "    </tr>\n",
       "    <tr>\n",
       "      <th>1</th>\n",
       "      <td>1.0</td>\n",
       "      <td>fvjj6gv</td>\n",
       "      <td>sl5567</td>\n",
       "      <td>1.0</td>\n",
       "      <td>t2_674p23vi</td>\n",
       "      <td>I'm located in the NYC area and currently loo...</td>\n",
       "      <td>&amp;lt;div class=\"md\"&amp;gt;&amp;lt;p&amp;gt;I&amp;amp;#39;m loc...</td>\n",
       "    </tr>\n",
       "    <tr>\n",
       "      <th>2</th>\n",
       "      <td>3.0</td>\n",
       "      <td>fvj6yfx</td>\n",
       "      <td>Kamiklo</td>\n",
       "      <td>3.0</td>\n",
       "      <td>t2_4ygyz290</td>\n",
       "      <td>What kind of open source projects can I contri...</td>\n",
       "      <td>&amp;lt;div class=\"md\"&amp;gt;&amp;lt;p&amp;gt;What kind of op...</td>\n",
       "    </tr>\n",
       "    <tr>\n",
       "      <th>3</th>\n",
       "      <td>1.0</td>\n",
       "      <td>fvj6rzt</td>\n",
       "      <td>productive_guy123</td>\n",
       "      <td>1.0</td>\n",
       "      <td>t2_2a4d4wz8</td>\n",
       "      <td>I am coming from a finance (BA) background and...</td>\n",
       "      <td>&amp;lt;div class=\"md\"&amp;gt;&amp;lt;p&amp;gt;I am coming fro...</td>\n",
       "    </tr>\n",
       "    <tr>\n",
       "      <th>4</th>\n",
       "      <td>1.0</td>\n",
       "      <td>fvj5rh5</td>\n",
       "      <td>YoYoVaTsA</td>\n",
       "      <td>1.0</td>\n",
       "      <td>t2_zacn2</td>\n",
       "      <td>So, I have studied the math and stats and mach...</td>\n",
       "      <td>&amp;lt;div class=\"md\"&amp;gt;&amp;lt;p&amp;gt;So, I have stud...</td>\n",
       "    </tr>\n",
       "  </tbody>\n",
       "</table>\n",
       "</div>"
      ],
      "text/plain": [
       "   ups       id             author  score author_fullname  \\\n",
       "0  1.0  fvjpubi      ToothPickLegs    1.0       t2_55fytx   \n",
       "1  1.0  fvjj6gv             sl5567    1.0     t2_674p23vi   \n",
       "2  3.0  fvj6yfx            Kamiklo    3.0     t2_4ygyz290   \n",
       "3  1.0  fvj6rzt  productive_guy123    1.0     t2_2a4d4wz8   \n",
       "4  1.0  fvj5rh5          YoYoVaTsA    1.0        t2_zacn2   \n",
       "\n",
       "                                                body  \\\n",
       "0  Good degree setup for Data Science career?\\n\\n...   \n",
       "1   I'm located in the NYC area and currently loo...   \n",
       "2  What kind of open source projects can I contri...   \n",
       "3  I am coming from a finance (BA) background and...   \n",
       "4  So, I have studied the math and stats and mach...   \n",
       "\n",
       "                                           body_html  \n",
       "0  &lt;div class=\"md\"&gt;&lt;p&gt;Good degree set...  \n",
       "1  &lt;div class=\"md\"&gt;&lt;p&gt;I&amp;#39;m loc...  \n",
       "2  &lt;div class=\"md\"&gt;&lt;p&gt;What kind of op...  \n",
       "3  &lt;div class=\"md\"&gt;&lt;p&gt;I am coming fro...  \n",
       "4  &lt;div class=\"md\"&gt;&lt;p&gt;So, I have stud...  "
      ]
     },
     "execution_count": 49,
     "metadata": {},
     "output_type": "execute_result"
    }
   ],
   "source": [
    "comments_df.iloc[:,0:7].head()"
   ]
  },
  {
   "cell_type": "code",
   "execution_count": 50,
   "metadata": {},
   "outputs": [
    {
     "data": {
      "text/html": [
       "<div>\n",
       "<style scoped>\n",
       "    .dataframe tbody tr th:only-of-type {\n",
       "        vertical-align: middle;\n",
       "    }\n",
       "\n",
       "    .dataframe tbody tr th {\n",
       "        vertical-align: top;\n",
       "    }\n",
       "\n",
       "    .dataframe thead th {\n",
       "        text-align: right;\n",
       "    }\n",
       "</style>\n",
       "<table border=\"1\" class=\"dataframe\">\n",
       "  <thead>\n",
       "    <tr style=\"text-align: right;\">\n",
       "      <th></th>\n",
       "      <th>permalink</th>\n",
       "      <th>name</th>\n",
       "      <th>created</th>\n",
       "      <th>created_utc</th>\n",
       "      <th>subreddit</th>\n",
       "      <th>link_id</th>\n",
       "      <th>type</th>\n",
       "    </tr>\n",
       "  </thead>\n",
       "  <tbody>\n",
       "    <tr>\n",
       "      <th>0</th>\n",
       "      <td>/r/datascience/comments/hd5t6m/weekly_entering...</td>\n",
       "      <td>t1_fvjpubi</td>\n",
       "      <td>1.592784e+09</td>\n",
       "      <td>1.592755e+09</td>\n",
       "      <td>datascience</td>\n",
       "      <td>t3_hd5t6m</td>\n",
       "      <td>comment</td>\n",
       "    </tr>\n",
       "    <tr>\n",
       "      <th>1</th>\n",
       "      <td>/r/datascience/comments/hd5t6m/weekly_entering...</td>\n",
       "      <td>t1_fvjj6gv</td>\n",
       "      <td>1.592780e+09</td>\n",
       "      <td>1.592751e+09</td>\n",
       "      <td>datascience</td>\n",
       "      <td>t3_hd5t6m</td>\n",
       "      <td>comment</td>\n",
       "    </tr>\n",
       "    <tr>\n",
       "      <th>2</th>\n",
       "      <td>/r/datascience/comments/hd5t6m/weekly_entering...</td>\n",
       "      <td>t1_fvj6yfx</td>\n",
       "      <td>1.592771e+09</td>\n",
       "      <td>1.592743e+09</td>\n",
       "      <td>datascience</td>\n",
       "      <td>t3_hd5t6m</td>\n",
       "      <td>comment</td>\n",
       "    </tr>\n",
       "    <tr>\n",
       "      <th>3</th>\n",
       "      <td>/r/datascience/comments/hd5t6m/weekly_entering...</td>\n",
       "      <td>t1_fvj6rzt</td>\n",
       "      <td>1.592771e+09</td>\n",
       "      <td>1.592742e+09</td>\n",
       "      <td>datascience</td>\n",
       "      <td>t3_hd5t6m</td>\n",
       "      <td>comment</td>\n",
       "    </tr>\n",
       "    <tr>\n",
       "      <th>4</th>\n",
       "      <td>/r/datascience/comments/hd5t6m/weekly_entering...</td>\n",
       "      <td>t1_fvj5rh5</td>\n",
       "      <td>1.592770e+09</td>\n",
       "      <td>1.592741e+09</td>\n",
       "      <td>datascience</td>\n",
       "      <td>t3_hd5t6m</td>\n",
       "      <td>comment</td>\n",
       "    </tr>\n",
       "  </tbody>\n",
       "</table>\n",
       "</div>"
      ],
      "text/plain": [
       "                                           permalink        name  \\\n",
       "0  /r/datascience/comments/hd5t6m/weekly_entering...  t1_fvjpubi   \n",
       "1  /r/datascience/comments/hd5t6m/weekly_entering...  t1_fvjj6gv   \n",
       "2  /r/datascience/comments/hd5t6m/weekly_entering...  t1_fvj6yfx   \n",
       "3  /r/datascience/comments/hd5t6m/weekly_entering...  t1_fvj6rzt   \n",
       "4  /r/datascience/comments/hd5t6m/weekly_entering...  t1_fvj5rh5   \n",
       "\n",
       "        created   created_utc    subreddit    link_id     type  \n",
       "0  1.592784e+09  1.592755e+09  datascience  t3_hd5t6m  comment  \n",
       "1  1.592780e+09  1.592751e+09  datascience  t3_hd5t6m  comment  \n",
       "2  1.592771e+09  1.592743e+09  datascience  t3_hd5t6m  comment  \n",
       "3  1.592771e+09  1.592742e+09  datascience  t3_hd5t6m  comment  \n",
       "4  1.592770e+09  1.592741e+09  datascience  t3_hd5t6m  comment  "
      ]
     },
     "execution_count": 50,
     "metadata": {},
     "output_type": "execute_result"
    }
   ],
   "source": [
    "comments_df.iloc[:,7:].head()"
   ]
  },
  {
   "cell_type": "markdown",
   "metadata": {},
   "source": [
    "### Check datatypes"
   ]
  },
  {
   "cell_type": "code",
   "execution_count": 51,
   "metadata": {},
   "outputs": [
    {
     "data": {
      "text/plain": [
       "ups                float64\n",
       "id                  object\n",
       "author              object\n",
       "score              float64\n",
       "author_fullname     object\n",
       "body                object\n",
       "body_html           object\n",
       "permalink           object\n",
       "name                object\n",
       "created            float64\n",
       "created_utc        float64\n",
       "subreddit           object\n",
       "link_id             object\n",
       "type                object\n",
       "dtype: object"
      ]
     },
     "execution_count": 51,
     "metadata": {},
     "output_type": "execute_result"
    }
   ],
   "source": [
    "comments_df.dtypes"
   ]
  },
  {
   "cell_type": "markdown",
   "metadata": {},
   "source": [
    "### Observation\n",
    "\n",
    "+ Most of the data is text so there will be less distributions and statistics to look at\n",
    "+ However there will be more "
   ]
  },
  {
   "cell_type": "markdown",
   "metadata": {},
   "source": [
    "---"
   ]
  },
  {
   "cell_type": "markdown",
   "metadata": {},
   "source": [
    "## 4.2 Check for missing values\n",
    "Are there any missing values and if so decide what to do with them"
   ]
  },
  {
   "cell_type": "code",
   "execution_count": 52,
   "metadata": {},
   "outputs": [],
   "source": [
    "# get nulls \n",
    "null_a = pd.DataFrame(comments_df.isnull().sum())\n",
    "null_a.reset_index(inplace=True)"
   ]
  },
  {
   "cell_type": "code",
   "execution_count": 53,
   "metadata": {},
   "outputs": [],
   "source": [
    "# rename columns\n",
    "null_a.rename(columns={0:'null_count', 'index':'column'}, inplace=True)"
   ]
  },
  {
   "cell_type": "code",
   "execution_count": 54,
   "metadata": {
    "scrolled": false
   },
   "outputs": [
    {
     "data": {
      "text/html": [
       "<style  type=\"text/css\" >\n",
       "    #T_cc18c526_b632_11ea_8bbb_acde48001122row0_col1 {\n",
       "            background-color:  lightblue;\n",
       "        }    #T_cc18c526_b632_11ea_8bbb_acde48001122row2_col1 {\n",
       "            background-color:  lightblue;\n",
       "        }    #T_cc18c526_b632_11ea_8bbb_acde48001122row3_col1 {\n",
       "            background-color:  lightblue;\n",
       "        }    #T_cc18c526_b632_11ea_8bbb_acde48001122row4_col1 {\n",
       "            background-color:  lightblue;\n",
       "        }    #T_cc18c526_b632_11ea_8bbb_acde48001122row5_col1 {\n",
       "            background-color:  lightblue;\n",
       "        }    #T_cc18c526_b632_11ea_8bbb_acde48001122row6_col1 {\n",
       "            background-color:  lightblue;\n",
       "        }    #T_cc18c526_b632_11ea_8bbb_acde48001122row7_col1 {\n",
       "            background-color:  lightblue;\n",
       "        }    #T_cc18c526_b632_11ea_8bbb_acde48001122row9_col1 {\n",
       "            background-color:  lightblue;\n",
       "        }    #T_cc18c526_b632_11ea_8bbb_acde48001122row10_col1 {\n",
       "            background-color:  lightblue;\n",
       "        }    #T_cc18c526_b632_11ea_8bbb_acde48001122row11_col1 {\n",
       "            background-color:  lightblue;\n",
       "        }    #T_cc18c526_b632_11ea_8bbb_acde48001122row12_col1 {\n",
       "            background-color:  lightblue;\n",
       "        }</style><table id=\"T_cc18c526_b632_11ea_8bbb_acde48001122\" ><thead>    <tr>        <th class=\"blank level0\" ></th>        <th class=\"col_heading level0 col0\" >column</th>        <th class=\"col_heading level0 col1\" >null_count</th>    </tr></thead><tbody>\n",
       "                <tr>\n",
       "                        <th id=\"T_cc18c526_b632_11ea_8bbb_acde48001122level0_row0\" class=\"row_heading level0 row0\" >0</th>\n",
       "                        <td id=\"T_cc18c526_b632_11ea_8bbb_acde48001122row0_col0\" class=\"data row0 col0\" >ups</td>\n",
       "                        <td id=\"T_cc18c526_b632_11ea_8bbb_acde48001122row0_col1\" class=\"data row0 col1\" >9</td>\n",
       "            </tr>\n",
       "            <tr>\n",
       "                        <th id=\"T_cc18c526_b632_11ea_8bbb_acde48001122level0_row1\" class=\"row_heading level0 row1\" >1</th>\n",
       "                        <td id=\"T_cc18c526_b632_11ea_8bbb_acde48001122row1_col0\" class=\"data row1 col0\" >id</td>\n",
       "                        <td id=\"T_cc18c526_b632_11ea_8bbb_acde48001122row1_col1\" class=\"data row1 col1\" >0</td>\n",
       "            </tr>\n",
       "            <tr>\n",
       "                        <th id=\"T_cc18c526_b632_11ea_8bbb_acde48001122level0_row2\" class=\"row_heading level0 row2\" >2</th>\n",
       "                        <td id=\"T_cc18c526_b632_11ea_8bbb_acde48001122row2_col0\" class=\"data row2 col0\" >author</td>\n",
       "                        <td id=\"T_cc18c526_b632_11ea_8bbb_acde48001122row2_col1\" class=\"data row2 col1\" >9</td>\n",
       "            </tr>\n",
       "            <tr>\n",
       "                        <th id=\"T_cc18c526_b632_11ea_8bbb_acde48001122level0_row3\" class=\"row_heading level0 row3\" >3</th>\n",
       "                        <td id=\"T_cc18c526_b632_11ea_8bbb_acde48001122row3_col0\" class=\"data row3 col0\" >score</td>\n",
       "                        <td id=\"T_cc18c526_b632_11ea_8bbb_acde48001122row3_col1\" class=\"data row3 col1\" >9</td>\n",
       "            </tr>\n",
       "            <tr>\n",
       "                        <th id=\"T_cc18c526_b632_11ea_8bbb_acde48001122level0_row4\" class=\"row_heading level0 row4\" >4</th>\n",
       "                        <td id=\"T_cc18c526_b632_11ea_8bbb_acde48001122row4_col0\" class=\"data row4 col0\" >author_fullname</td>\n",
       "                        <td id=\"T_cc18c526_b632_11ea_8bbb_acde48001122row4_col1\" class=\"data row4 col1\" >414</td>\n",
       "            </tr>\n",
       "            <tr>\n",
       "                        <th id=\"T_cc18c526_b632_11ea_8bbb_acde48001122level0_row5\" class=\"row_heading level0 row5\" >5</th>\n",
       "                        <td id=\"T_cc18c526_b632_11ea_8bbb_acde48001122row5_col0\" class=\"data row5 col0\" >body</td>\n",
       "                        <td id=\"T_cc18c526_b632_11ea_8bbb_acde48001122row5_col1\" class=\"data row5 col1\" >9</td>\n",
       "            </tr>\n",
       "            <tr>\n",
       "                        <th id=\"T_cc18c526_b632_11ea_8bbb_acde48001122level0_row6\" class=\"row_heading level0 row6\" >6</th>\n",
       "                        <td id=\"T_cc18c526_b632_11ea_8bbb_acde48001122row6_col0\" class=\"data row6 col0\" >body_html</td>\n",
       "                        <td id=\"T_cc18c526_b632_11ea_8bbb_acde48001122row6_col1\" class=\"data row6 col1\" >9</td>\n",
       "            </tr>\n",
       "            <tr>\n",
       "                        <th id=\"T_cc18c526_b632_11ea_8bbb_acde48001122level0_row7\" class=\"row_heading level0 row7\" >7</th>\n",
       "                        <td id=\"T_cc18c526_b632_11ea_8bbb_acde48001122row7_col0\" class=\"data row7 col0\" >permalink</td>\n",
       "                        <td id=\"T_cc18c526_b632_11ea_8bbb_acde48001122row7_col1\" class=\"data row7 col1\" >9</td>\n",
       "            </tr>\n",
       "            <tr>\n",
       "                        <th id=\"T_cc18c526_b632_11ea_8bbb_acde48001122level0_row8\" class=\"row_heading level0 row8\" >8</th>\n",
       "                        <td id=\"T_cc18c526_b632_11ea_8bbb_acde48001122row8_col0\" class=\"data row8 col0\" >name</td>\n",
       "                        <td id=\"T_cc18c526_b632_11ea_8bbb_acde48001122row8_col1\" class=\"data row8 col1\" >0</td>\n",
       "            </tr>\n",
       "            <tr>\n",
       "                        <th id=\"T_cc18c526_b632_11ea_8bbb_acde48001122level0_row9\" class=\"row_heading level0 row9\" >9</th>\n",
       "                        <td id=\"T_cc18c526_b632_11ea_8bbb_acde48001122row9_col0\" class=\"data row9 col0\" >created</td>\n",
       "                        <td id=\"T_cc18c526_b632_11ea_8bbb_acde48001122row9_col1\" class=\"data row9 col1\" >9</td>\n",
       "            </tr>\n",
       "            <tr>\n",
       "                        <th id=\"T_cc18c526_b632_11ea_8bbb_acde48001122level0_row10\" class=\"row_heading level0 row10\" >10</th>\n",
       "                        <td id=\"T_cc18c526_b632_11ea_8bbb_acde48001122row10_col0\" class=\"data row10 col0\" >created_utc</td>\n",
       "                        <td id=\"T_cc18c526_b632_11ea_8bbb_acde48001122row10_col1\" class=\"data row10 col1\" >9</td>\n",
       "            </tr>\n",
       "            <tr>\n",
       "                        <th id=\"T_cc18c526_b632_11ea_8bbb_acde48001122level0_row11\" class=\"row_heading level0 row11\" >11</th>\n",
       "                        <td id=\"T_cc18c526_b632_11ea_8bbb_acde48001122row11_col0\" class=\"data row11 col0\" >subreddit</td>\n",
       "                        <td id=\"T_cc18c526_b632_11ea_8bbb_acde48001122row11_col1\" class=\"data row11 col1\" >9</td>\n",
       "            </tr>\n",
       "            <tr>\n",
       "                        <th id=\"T_cc18c526_b632_11ea_8bbb_acde48001122level0_row12\" class=\"row_heading level0 row12\" >12</th>\n",
       "                        <td id=\"T_cc18c526_b632_11ea_8bbb_acde48001122row12_col0\" class=\"data row12 col0\" >link_id</td>\n",
       "                        <td id=\"T_cc18c526_b632_11ea_8bbb_acde48001122row12_col1\" class=\"data row12 col1\" >9</td>\n",
       "            </tr>\n",
       "            <tr>\n",
       "                        <th id=\"T_cc18c526_b632_11ea_8bbb_acde48001122level0_row13\" class=\"row_heading level0 row13\" >13</th>\n",
       "                        <td id=\"T_cc18c526_b632_11ea_8bbb_acde48001122row13_col0\" class=\"data row13 col0\" >type</td>\n",
       "                        <td id=\"T_cc18c526_b632_11ea_8bbb_acde48001122row13_col1\" class=\"data row13 col1\" >0</td>\n",
       "            </tr>\n",
       "    </tbody></table>"
      ],
      "text/plain": [
       "<pandas.io.formats.style.Styler at 0x7f92b852a210>"
      ]
     },
     "execution_count": 54,
     "metadata": {},
     "output_type": "execute_result"
    }
   ],
   "source": [
    "# show nulls\n",
    "null_a.style.apply(highlight_nulls, subset=['null_count'])"
   ]
  },
  {
   "cell_type": "markdown",
   "metadata": {},
   "source": [
    "#### Example of column content\n",
    "\n",
    "+ I will check to see if the 9's are all the same rows\n",
    "\n",
    "\n",
    "+ Just like the 'Posts' data, the 'author_fullname' has only a small amount of data missing. It is also not so useful. I included it so I can check if the content is coming from a small nuber of authors or many. Also useful to see if authore were posting in both subreddits. So I will change the name to 'anonymous'"
   ]
  },
  {
   "cell_type": "code",
   "execution_count": 55,
   "metadata": {},
   "outputs": [],
   "source": [
    "# implement decisions from above\n",
    "\n",
    "# rename missing authors to anonymous\n",
    "comments_df.loc[comments_df['author_fullname'].isnull(),'author_fullname'] = 'anonymous'"
   ]
  },
  {
   "cell_type": "code",
   "execution_count": 56,
   "metadata": {},
   "outputs": [
    {
     "data": {
      "text/html": [
       "<div>\n",
       "<style scoped>\n",
       "    .dataframe tbody tr th:only-of-type {\n",
       "        vertical-align: middle;\n",
       "    }\n",
       "\n",
       "    .dataframe tbody tr th {\n",
       "        vertical-align: top;\n",
       "    }\n",
       "\n",
       "    .dataframe thead th {\n",
       "        text-align: right;\n",
       "    }\n",
       "</style>\n",
       "<table border=\"1\" class=\"dataframe\">\n",
       "  <thead>\n",
       "    <tr style=\"text-align: right;\">\n",
       "      <th></th>\n",
       "      <th>ups</th>\n",
       "      <th>id</th>\n",
       "      <th>author</th>\n",
       "      <th>score</th>\n",
       "      <th>author_fullname</th>\n",
       "      <th>body</th>\n",
       "      <th>body_html</th>\n",
       "      <th>permalink</th>\n",
       "      <th>name</th>\n",
       "      <th>created</th>\n",
       "      <th>created_utc</th>\n",
       "      <th>subreddit</th>\n",
       "      <th>link_id</th>\n",
       "      <th>type</th>\n",
       "    </tr>\n",
       "  </thead>\n",
       "  <tbody>\n",
       "    <tr>\n",
       "      <th>383</th>\n",
       "      <td>NaN</td>\n",
       "      <td>fv4qeus</td>\n",
       "      <td>NaN</td>\n",
       "      <td>NaN</td>\n",
       "      <td>anonymous</td>\n",
       "      <td>NaN</td>\n",
       "      <td>NaN</td>\n",
       "      <td>NaN</td>\n",
       "      <td>t1_fv4qeus</td>\n",
       "      <td>NaN</td>\n",
       "      <td>NaN</td>\n",
       "      <td>NaN</td>\n",
       "      <td>NaN</td>\n",
       "      <td>comment</td>\n",
       "    </tr>\n",
       "    <tr>\n",
       "      <th>738</th>\n",
       "      <td>NaN</td>\n",
       "      <td>fulyqjp</td>\n",
       "      <td>NaN</td>\n",
       "      <td>NaN</td>\n",
       "      <td>anonymous</td>\n",
       "      <td>NaN</td>\n",
       "      <td>NaN</td>\n",
       "      <td>NaN</td>\n",
       "      <td>t1_fulyqjp</td>\n",
       "      <td>NaN</td>\n",
       "      <td>NaN</td>\n",
       "      <td>NaN</td>\n",
       "      <td>NaN</td>\n",
       "      <td>comment</td>\n",
       "    </tr>\n",
       "    <tr>\n",
       "      <th>1898</th>\n",
       "      <td>NaN</td>\n",
       "      <td>fs6hoxv</td>\n",
       "      <td>NaN</td>\n",
       "      <td>NaN</td>\n",
       "      <td>anonymous</td>\n",
       "      <td>NaN</td>\n",
       "      <td>NaN</td>\n",
       "      <td>NaN</td>\n",
       "      <td>t1_fs6hoxv</td>\n",
       "      <td>NaN</td>\n",
       "      <td>NaN</td>\n",
       "      <td>NaN</td>\n",
       "      <td>NaN</td>\n",
       "      <td>comment</td>\n",
       "    </tr>\n",
       "    <tr>\n",
       "      <th>3291</th>\n",
       "      <td>NaN</td>\n",
       "      <td>fq8yf5s</td>\n",
       "      <td>NaN</td>\n",
       "      <td>NaN</td>\n",
       "      <td>anonymous</td>\n",
       "      <td>NaN</td>\n",
       "      <td>NaN</td>\n",
       "      <td>NaN</td>\n",
       "      <td>t1_fq8yf5s</td>\n",
       "      <td>NaN</td>\n",
       "      <td>NaN</td>\n",
       "      <td>NaN</td>\n",
       "      <td>NaN</td>\n",
       "      <td>comment</td>\n",
       "    </tr>\n",
       "    <tr>\n",
       "      <th>3411</th>\n",
       "      <td>NaN</td>\n",
       "      <td>fpvn5dt</td>\n",
       "      <td>NaN</td>\n",
       "      <td>NaN</td>\n",
       "      <td>anonymous</td>\n",
       "      <td>NaN</td>\n",
       "      <td>NaN</td>\n",
       "      <td>NaN</td>\n",
       "      <td>t1_fpvn5dt</td>\n",
       "      <td>NaN</td>\n",
       "      <td>NaN</td>\n",
       "      <td>NaN</td>\n",
       "      <td>NaN</td>\n",
       "      <td>comment</td>\n",
       "    </tr>\n",
       "    <tr>\n",
       "      <th>3870</th>\n",
       "      <td>NaN</td>\n",
       "      <td>fphs336</td>\n",
       "      <td>NaN</td>\n",
       "      <td>NaN</td>\n",
       "      <td>anonymous</td>\n",
       "      <td>NaN</td>\n",
       "      <td>NaN</td>\n",
       "      <td>NaN</td>\n",
       "      <td>t1_fphs336</td>\n",
       "      <td>NaN</td>\n",
       "      <td>NaN</td>\n",
       "      <td>NaN</td>\n",
       "      <td>NaN</td>\n",
       "      <td>comment</td>\n",
       "    </tr>\n",
       "    <tr>\n",
       "      <th>4440</th>\n",
       "      <td>NaN</td>\n",
       "      <td>fog1z3m</td>\n",
       "      <td>NaN</td>\n",
       "      <td>NaN</td>\n",
       "      <td>anonymous</td>\n",
       "      <td>NaN</td>\n",
       "      <td>NaN</td>\n",
       "      <td>NaN</td>\n",
       "      <td>t1_fog1z3m</td>\n",
       "      <td>NaN</td>\n",
       "      <td>NaN</td>\n",
       "      <td>NaN</td>\n",
       "      <td>NaN</td>\n",
       "      <td>comment</td>\n",
       "    </tr>\n",
       "    <tr>\n",
       "      <th>4732</th>\n",
       "      <td>NaN</td>\n",
       "      <td>fnvlpt4</td>\n",
       "      <td>NaN</td>\n",
       "      <td>NaN</td>\n",
       "      <td>anonymous</td>\n",
       "      <td>NaN</td>\n",
       "      <td>NaN</td>\n",
       "      <td>NaN</td>\n",
       "      <td>t1_fnvlpt4</td>\n",
       "      <td>NaN</td>\n",
       "      <td>NaN</td>\n",
       "      <td>NaN</td>\n",
       "      <td>NaN</td>\n",
       "      <td>comment</td>\n",
       "    </tr>\n",
       "    <tr>\n",
       "      <th>6233</th>\n",
       "      <td>NaN</td>\n",
       "      <td>flqz56l</td>\n",
       "      <td>NaN</td>\n",
       "      <td>NaN</td>\n",
       "      <td>anonymous</td>\n",
       "      <td>NaN</td>\n",
       "      <td>NaN</td>\n",
       "      <td>NaN</td>\n",
       "      <td>t1_flqz56l</td>\n",
       "      <td>NaN</td>\n",
       "      <td>NaN</td>\n",
       "      <td>NaN</td>\n",
       "      <td>NaN</td>\n",
       "      <td>comment</td>\n",
       "    </tr>\n",
       "  </tbody>\n",
       "</table>\n",
       "</div>"
      ],
      "text/plain": [
       "      ups       id author  score author_fullname body body_html permalink  \\\n",
       "383   NaN  fv4qeus    NaN    NaN       anonymous  NaN       NaN       NaN   \n",
       "738   NaN  fulyqjp    NaN    NaN       anonymous  NaN       NaN       NaN   \n",
       "1898  NaN  fs6hoxv    NaN    NaN       anonymous  NaN       NaN       NaN   \n",
       "3291  NaN  fq8yf5s    NaN    NaN       anonymous  NaN       NaN       NaN   \n",
       "3411  NaN  fpvn5dt    NaN    NaN       anonymous  NaN       NaN       NaN   \n",
       "3870  NaN  fphs336    NaN    NaN       anonymous  NaN       NaN       NaN   \n",
       "4440  NaN  fog1z3m    NaN    NaN       anonymous  NaN       NaN       NaN   \n",
       "4732  NaN  fnvlpt4    NaN    NaN       anonymous  NaN       NaN       NaN   \n",
       "6233  NaN  flqz56l    NaN    NaN       anonymous  NaN       NaN       NaN   \n",
       "\n",
       "            name  created  created_utc subreddit link_id     type  \n",
       "383   t1_fv4qeus      NaN          NaN       NaN     NaN  comment  \n",
       "738   t1_fulyqjp      NaN          NaN       NaN     NaN  comment  \n",
       "1898  t1_fs6hoxv      NaN          NaN       NaN     NaN  comment  \n",
       "3291  t1_fq8yf5s      NaN          NaN       NaN     NaN  comment  \n",
       "3411  t1_fpvn5dt      NaN          NaN       NaN     NaN  comment  \n",
       "3870  t1_fphs336      NaN          NaN       NaN     NaN  comment  \n",
       "4440  t1_fog1z3m      NaN          NaN       NaN     NaN  comment  \n",
       "4732  t1_fnvlpt4      NaN          NaN       NaN     NaN  comment  \n",
       "6233  t1_flqz56l      NaN          NaN       NaN     NaN  comment  "
      ]
     },
     "execution_count": 56,
     "metadata": {},
     "output_type": "execute_result"
    }
   ],
   "source": [
    "comments_df.loc[comments_df['ups'].isnull(),]"
   ]
  },
  {
   "cell_type": "code",
   "execution_count": 57,
   "metadata": {},
   "outputs": [],
   "source": [
    "# They are all the same so I will remove these rows. It accounts for less tha 0.1% of the data.\n",
    "\n",
    "# drop missing rows\n",
    "comments_df.drop(comments_df.loc[comments_df['ups'].isnull(),].index, axis=0, inplace=True)"
   ]
  },
  {
   "cell_type": "code",
   "execution_count": 58,
   "metadata": {},
   "outputs": [
    {
     "data": {
      "text/html": [
       "<style  type=\"text/css\" >\n",
       "</style><table id=\"T_cc20190c_b632_11ea_8bbb_acde48001122\" ><thead>    <tr>        <th class=\"blank level0\" ></th>        <th class=\"col_heading level0 col0\" >column</th>        <th class=\"col_heading level0 col1\" >null_count</th>    </tr></thead><tbody>\n",
       "                <tr>\n",
       "                        <th id=\"T_cc20190c_b632_11ea_8bbb_acde48001122level0_row0\" class=\"row_heading level0 row0\" >0</th>\n",
       "                        <td id=\"T_cc20190c_b632_11ea_8bbb_acde48001122row0_col0\" class=\"data row0 col0\" >ups</td>\n",
       "                        <td id=\"T_cc20190c_b632_11ea_8bbb_acde48001122row0_col1\" class=\"data row0 col1\" >0</td>\n",
       "            </tr>\n",
       "            <tr>\n",
       "                        <th id=\"T_cc20190c_b632_11ea_8bbb_acde48001122level0_row1\" class=\"row_heading level0 row1\" >1</th>\n",
       "                        <td id=\"T_cc20190c_b632_11ea_8bbb_acde48001122row1_col0\" class=\"data row1 col0\" >id</td>\n",
       "                        <td id=\"T_cc20190c_b632_11ea_8bbb_acde48001122row1_col1\" class=\"data row1 col1\" >0</td>\n",
       "            </tr>\n",
       "            <tr>\n",
       "                        <th id=\"T_cc20190c_b632_11ea_8bbb_acde48001122level0_row2\" class=\"row_heading level0 row2\" >2</th>\n",
       "                        <td id=\"T_cc20190c_b632_11ea_8bbb_acde48001122row2_col0\" class=\"data row2 col0\" >author</td>\n",
       "                        <td id=\"T_cc20190c_b632_11ea_8bbb_acde48001122row2_col1\" class=\"data row2 col1\" >0</td>\n",
       "            </tr>\n",
       "            <tr>\n",
       "                        <th id=\"T_cc20190c_b632_11ea_8bbb_acde48001122level0_row3\" class=\"row_heading level0 row3\" >3</th>\n",
       "                        <td id=\"T_cc20190c_b632_11ea_8bbb_acde48001122row3_col0\" class=\"data row3 col0\" >score</td>\n",
       "                        <td id=\"T_cc20190c_b632_11ea_8bbb_acde48001122row3_col1\" class=\"data row3 col1\" >0</td>\n",
       "            </tr>\n",
       "            <tr>\n",
       "                        <th id=\"T_cc20190c_b632_11ea_8bbb_acde48001122level0_row4\" class=\"row_heading level0 row4\" >4</th>\n",
       "                        <td id=\"T_cc20190c_b632_11ea_8bbb_acde48001122row4_col0\" class=\"data row4 col0\" >author_fullname</td>\n",
       "                        <td id=\"T_cc20190c_b632_11ea_8bbb_acde48001122row4_col1\" class=\"data row4 col1\" >0</td>\n",
       "            </tr>\n",
       "            <tr>\n",
       "                        <th id=\"T_cc20190c_b632_11ea_8bbb_acde48001122level0_row5\" class=\"row_heading level0 row5\" >5</th>\n",
       "                        <td id=\"T_cc20190c_b632_11ea_8bbb_acde48001122row5_col0\" class=\"data row5 col0\" >body</td>\n",
       "                        <td id=\"T_cc20190c_b632_11ea_8bbb_acde48001122row5_col1\" class=\"data row5 col1\" >0</td>\n",
       "            </tr>\n",
       "            <tr>\n",
       "                        <th id=\"T_cc20190c_b632_11ea_8bbb_acde48001122level0_row6\" class=\"row_heading level0 row6\" >6</th>\n",
       "                        <td id=\"T_cc20190c_b632_11ea_8bbb_acde48001122row6_col0\" class=\"data row6 col0\" >body_html</td>\n",
       "                        <td id=\"T_cc20190c_b632_11ea_8bbb_acde48001122row6_col1\" class=\"data row6 col1\" >0</td>\n",
       "            </tr>\n",
       "            <tr>\n",
       "                        <th id=\"T_cc20190c_b632_11ea_8bbb_acde48001122level0_row7\" class=\"row_heading level0 row7\" >7</th>\n",
       "                        <td id=\"T_cc20190c_b632_11ea_8bbb_acde48001122row7_col0\" class=\"data row7 col0\" >permalink</td>\n",
       "                        <td id=\"T_cc20190c_b632_11ea_8bbb_acde48001122row7_col1\" class=\"data row7 col1\" >0</td>\n",
       "            </tr>\n",
       "            <tr>\n",
       "                        <th id=\"T_cc20190c_b632_11ea_8bbb_acde48001122level0_row8\" class=\"row_heading level0 row8\" >8</th>\n",
       "                        <td id=\"T_cc20190c_b632_11ea_8bbb_acde48001122row8_col0\" class=\"data row8 col0\" >name</td>\n",
       "                        <td id=\"T_cc20190c_b632_11ea_8bbb_acde48001122row8_col1\" class=\"data row8 col1\" >0</td>\n",
       "            </tr>\n",
       "            <tr>\n",
       "                        <th id=\"T_cc20190c_b632_11ea_8bbb_acde48001122level0_row9\" class=\"row_heading level0 row9\" >9</th>\n",
       "                        <td id=\"T_cc20190c_b632_11ea_8bbb_acde48001122row9_col0\" class=\"data row9 col0\" >created</td>\n",
       "                        <td id=\"T_cc20190c_b632_11ea_8bbb_acde48001122row9_col1\" class=\"data row9 col1\" >0</td>\n",
       "            </tr>\n",
       "            <tr>\n",
       "                        <th id=\"T_cc20190c_b632_11ea_8bbb_acde48001122level0_row10\" class=\"row_heading level0 row10\" >10</th>\n",
       "                        <td id=\"T_cc20190c_b632_11ea_8bbb_acde48001122row10_col0\" class=\"data row10 col0\" >created_utc</td>\n",
       "                        <td id=\"T_cc20190c_b632_11ea_8bbb_acde48001122row10_col1\" class=\"data row10 col1\" >0</td>\n",
       "            </tr>\n",
       "            <tr>\n",
       "                        <th id=\"T_cc20190c_b632_11ea_8bbb_acde48001122level0_row11\" class=\"row_heading level0 row11\" >11</th>\n",
       "                        <td id=\"T_cc20190c_b632_11ea_8bbb_acde48001122row11_col0\" class=\"data row11 col0\" >subreddit</td>\n",
       "                        <td id=\"T_cc20190c_b632_11ea_8bbb_acde48001122row11_col1\" class=\"data row11 col1\" >0</td>\n",
       "            </tr>\n",
       "            <tr>\n",
       "                        <th id=\"T_cc20190c_b632_11ea_8bbb_acde48001122level0_row12\" class=\"row_heading level0 row12\" >12</th>\n",
       "                        <td id=\"T_cc20190c_b632_11ea_8bbb_acde48001122row12_col0\" class=\"data row12 col0\" >link_id</td>\n",
       "                        <td id=\"T_cc20190c_b632_11ea_8bbb_acde48001122row12_col1\" class=\"data row12 col1\" >0</td>\n",
       "            </tr>\n",
       "            <tr>\n",
       "                        <th id=\"T_cc20190c_b632_11ea_8bbb_acde48001122level0_row13\" class=\"row_heading level0 row13\" >13</th>\n",
       "                        <td id=\"T_cc20190c_b632_11ea_8bbb_acde48001122row13_col0\" class=\"data row13 col0\" >type</td>\n",
       "                        <td id=\"T_cc20190c_b632_11ea_8bbb_acde48001122row13_col1\" class=\"data row13 col1\" >0</td>\n",
       "            </tr>\n",
       "    </tbody></table>"
      ],
      "text/plain": [
       "<pandas.io.formats.style.Styler at 0x7f92a860ed10>"
      ]
     },
     "execution_count": 58,
     "metadata": {},
     "output_type": "execute_result"
    }
   ],
   "source": [
    "# Check to see if there are any nulls\n",
    "\n",
    "null_a = pd.DataFrame(comments_df.isnull().sum())\n",
    "null_a.reset_index(inplace=True)\n",
    "null_a.rename(columns={0:'null_count', 'index':'column'}, inplace=True)\n",
    "null_a.style.apply(highlight_nulls, subset=['null_count'])"
   ]
  },
  {
   "cell_type": "markdown",
   "metadata": {},
   "source": [
    "### observation\n",
    "+ nulls have been reviewed and processed"
   ]
  },
  {
   "cell_type": "markdown",
   "metadata": {},
   "source": [
    "---"
   ]
  },
  {
   "cell_type": "markdown",
   "metadata": {},
   "source": [
    "## 4.3 Summary Statistics"
   ]
  },
  {
   "cell_type": "code",
   "execution_count": 59,
   "metadata": {},
   "outputs": [
    {
     "data": {
      "text/html": [
       "<div>\n",
       "<style scoped>\n",
       "    .dataframe tbody tr th:only-of-type {\n",
       "        vertical-align: middle;\n",
       "    }\n",
       "\n",
       "    .dataframe tbody tr th {\n",
       "        vertical-align: top;\n",
       "    }\n",
       "\n",
       "    .dataframe thead th {\n",
       "        text-align: right;\n",
       "    }\n",
       "</style>\n",
       "<table border=\"1\" class=\"dataframe\">\n",
       "  <thead>\n",
       "    <tr style=\"text-align: right;\">\n",
       "      <th></th>\n",
       "      <th>ups</th>\n",
       "      <th>score</th>\n",
       "      <th>created</th>\n",
       "      <th>created_utc</th>\n",
       "    </tr>\n",
       "  </thead>\n",
       "  <tbody>\n",
       "    <tr>\n",
       "      <th>count</th>\n",
       "      <td>6942.000000</td>\n",
       "      <td>6942.000000</td>\n",
       "      <td>6.942000e+03</td>\n",
       "      <td>6.942000e+03</td>\n",
       "    </tr>\n",
       "    <tr>\n",
       "      <th>mean</th>\n",
       "      <td>10.055460</td>\n",
       "      <td>10.055460</td>\n",
       "      <td>1.588856e+09</td>\n",
       "      <td>1.588828e+09</td>\n",
       "    </tr>\n",
       "    <tr>\n",
       "      <th>std</th>\n",
       "      <td>38.765319</td>\n",
       "      <td>38.765319</td>\n",
       "      <td>2.411817e+06</td>\n",
       "      <td>2.411817e+06</td>\n",
       "    </tr>\n",
       "    <tr>\n",
       "      <th>min</th>\n",
       "      <td>-73.000000</td>\n",
       "      <td>-73.000000</td>\n",
       "      <td>1.584572e+09</td>\n",
       "      <td>1.584544e+09</td>\n",
       "    </tr>\n",
       "    <tr>\n",
       "      <th>25%</th>\n",
       "      <td>1.000000</td>\n",
       "      <td>1.000000</td>\n",
       "      <td>1.586688e+09</td>\n",
       "      <td>1.586660e+09</td>\n",
       "    </tr>\n",
       "    <tr>\n",
       "      <th>50%</th>\n",
       "      <td>2.000000</td>\n",
       "      <td>2.000000</td>\n",
       "      <td>1.588955e+09</td>\n",
       "      <td>1.588926e+09</td>\n",
       "    </tr>\n",
       "    <tr>\n",
       "      <th>75%</th>\n",
       "      <td>5.000000</td>\n",
       "      <td>5.000000</td>\n",
       "      <td>1.590967e+09</td>\n",
       "      <td>1.590939e+09</td>\n",
       "    </tr>\n",
       "    <tr>\n",
       "      <th>max</th>\n",
       "      <td>1363.000000</td>\n",
       "      <td>1363.000000</td>\n",
       "      <td>1.592784e+09</td>\n",
       "      <td>1.592755e+09</td>\n",
       "    </tr>\n",
       "  </tbody>\n",
       "</table>\n",
       "</div>"
      ],
      "text/plain": [
       "               ups        score       created   created_utc\n",
       "count  6942.000000  6942.000000  6.942000e+03  6.942000e+03\n",
       "mean     10.055460    10.055460  1.588856e+09  1.588828e+09\n",
       "std      38.765319    38.765319  2.411817e+06  2.411817e+06\n",
       "min     -73.000000   -73.000000  1.584572e+09  1.584544e+09\n",
       "25%       1.000000     1.000000  1.586688e+09  1.586660e+09\n",
       "50%       2.000000     2.000000  1.588955e+09  1.588926e+09\n",
       "75%       5.000000     5.000000  1.590967e+09  1.590939e+09\n",
       "max    1363.000000  1363.000000  1.592784e+09  1.592755e+09"
      ]
     },
     "execution_count": 59,
     "metadata": {},
     "output_type": "execute_result"
    }
   ],
   "source": [
    "# Check datascience subreddit\n",
    "\n",
    "comments_df.loc[comments_df['subreddit']=='datascience'].describe()"
   ]
  },
  {
   "cell_type": "code",
   "execution_count": 60,
   "metadata": {
    "scrolled": true
   },
   "outputs": [
    {
     "data": {
      "text/html": [
       "<div>\n",
       "<style scoped>\n",
       "    .dataframe tbody tr th:only-of-type {\n",
       "        vertical-align: middle;\n",
       "    }\n",
       "\n",
       "    .dataframe tbody tr th {\n",
       "        vertical-align: top;\n",
       "    }\n",
       "\n",
       "    .dataframe thead th {\n",
       "        text-align: right;\n",
       "    }\n",
       "</style>\n",
       "<table border=\"1\" class=\"dataframe\">\n",
       "  <thead>\n",
       "    <tr style=\"text-align: right;\">\n",
       "      <th></th>\n",
       "      <th>ups</th>\n",
       "      <th>score</th>\n",
       "      <th>created</th>\n",
       "      <th>created_utc</th>\n",
       "    </tr>\n",
       "  </thead>\n",
       "  <tbody>\n",
       "    <tr>\n",
       "      <th>count</th>\n",
       "      <td>2379.000000</td>\n",
       "      <td>2379.000000</td>\n",
       "      <td>2.379000e+03</td>\n",
       "      <td>2.379000e+03</td>\n",
       "    </tr>\n",
       "    <tr>\n",
       "      <th>mean</th>\n",
       "      <td>3.772594</td>\n",
       "      <td>3.772594</td>\n",
       "      <td>1.586507e+09</td>\n",
       "      <td>1.586479e+09</td>\n",
       "    </tr>\n",
       "    <tr>\n",
       "      <th>std</th>\n",
       "      <td>5.989617</td>\n",
       "      <td>5.989617</td>\n",
       "      <td>4.267305e+06</td>\n",
       "      <td>4.267305e+06</td>\n",
       "    </tr>\n",
       "    <tr>\n",
       "      <th>min</th>\n",
       "      <td>-12.000000</td>\n",
       "      <td>-12.000000</td>\n",
       "      <td>1.578608e+09</td>\n",
       "      <td>1.578579e+09</td>\n",
       "    </tr>\n",
       "    <tr>\n",
       "      <th>25%</th>\n",
       "      <td>1.000000</td>\n",
       "      <td>1.000000</td>\n",
       "      <td>1.582494e+09</td>\n",
       "      <td>1.582465e+09</td>\n",
       "    </tr>\n",
       "    <tr>\n",
       "      <th>50%</th>\n",
       "      <td>2.000000</td>\n",
       "      <td>2.000000</td>\n",
       "      <td>1.587089e+09</td>\n",
       "      <td>1.587061e+09</td>\n",
       "    </tr>\n",
       "    <tr>\n",
       "      <th>75%</th>\n",
       "      <td>4.000000</td>\n",
       "      <td>4.000000</td>\n",
       "      <td>1.590322e+09</td>\n",
       "      <td>1.590293e+09</td>\n",
       "    </tr>\n",
       "    <tr>\n",
       "      <th>max</th>\n",
       "      <td>103.000000</td>\n",
       "      <td>103.000000</td>\n",
       "      <td>1.592785e+09</td>\n",
       "      <td>1.592757e+09</td>\n",
       "    </tr>\n",
       "  </tbody>\n",
       "</table>\n",
       "</div>"
      ],
      "text/plain": [
       "               ups        score       created   created_utc\n",
       "count  2379.000000  2379.000000  2.379000e+03  2.379000e+03\n",
       "mean      3.772594     3.772594  1.586507e+09  1.586479e+09\n",
       "std       5.989617     5.989617  4.267305e+06  4.267305e+06\n",
       "min     -12.000000   -12.000000  1.578608e+09  1.578579e+09\n",
       "25%       1.000000     1.000000  1.582494e+09  1.582465e+09\n",
       "50%       2.000000     2.000000  1.587089e+09  1.587061e+09\n",
       "75%       4.000000     4.000000  1.590322e+09  1.590293e+09\n",
       "max     103.000000   103.000000  1.592785e+09  1.592757e+09"
      ]
     },
     "execution_count": 60,
     "metadata": {},
     "output_type": "execute_result"
    }
   ],
   "source": [
    "# check analytics subreddit\n",
    "\n",
    "comments_df.loc[comments_df['subreddit']=='analytics'].describe()"
   ]
  },
  {
   "cell_type": "code",
   "execution_count": 61,
   "metadata": {
    "scrolled": false
   },
   "outputs": [
    {
     "data": {
      "image/png": "[encoded data removed]",
      "text/plain": [
       "<Figure size 720x720 with 2 Axes>"
      ]
     },
     "metadata": {
      "needs_background": "light"
     },
     "output_type": "display_data"
    }
   ],
   "source": [
    "# plot a boxplot of the \n",
    "\n",
    "fig = plt.figure(figsize=(10,10))\n",
    "ax1 = fig.add_subplot(121)\n",
    "ax2 = fig.add_subplot(122)\n",
    "fig.suptitle('Scores of comments made')\n",
    "ax1.boxplot(comments_df['score'].loc[comments_df['subreddit']=='datascience'])\n",
    "ax2.boxplot(comments_df['score'].loc[comments_df['subreddit']=='analytics'])\n",
    "ax1.set_title('Data Science comments score')\n",
    "ax2.set_title('Analytics comments score');\n"
   ]
  },
  {
   "cell_type": "markdown",
   "metadata": {},
   "source": [
    "## Observations\n",
    "+ The Distributions are on different scales but are actually quite similar. \n",
    "\n",
    "\n",
    "+ The gap between the 25% and 75% is 78 for data science\n",
    "+ The gap between the 25% and 75% is 16 for analytics\n",
    "+ Similar reasons to the Post boxplots\n",
    "\n",
    "    \n",
    "+ Interestingly there are more negative values, it is likely that they arent as well moderated like the posts.\n",
    "\n",
    "#### NB it is clear that score and ups are the same so i will drop ups ans score is a better description of how its calulated"
   ]
  },
  {
   "cell_type": "code",
   "execution_count": 62,
   "metadata": {},
   "outputs": [],
   "source": [
    "# drop 'ups' column\n",
    "comments_df.drop(columns='ups', inplace=True);"
   ]
  },
  {
   "cell_type": "code",
   "execution_count": 63,
   "metadata": {},
   "outputs": [
    {
     "data": {
      "image/png": "[encoded data removed]",
      "text/plain": [
       "<Figure size 720x720 with 2 Axes>"
      ]
     },
     "metadata": {
      "needs_background": "light"
     },
     "output_type": "display_data"
    }
   ],
   "source": [
    "# plot histogram for score distribution\n",
    "\n",
    "fig,(ax1, ax2) = plt.subplots(1,2, figsize=(10,10))\n",
    "fig.suptitle('Comments score distribution')\n",
    "\n",
    "sns.distplot(comments_df['score'].loc[comments_df['subreddit']=='datascience'], bins=60, ax=ax1)\n",
    "sns.distplot(comments_df['score'].loc[comments_df['subreddit']=='analytics'], ax=ax2)\n",
    "ax1.set_title('Data Science score')\n",
    "ax2.set_title('Analytics score');"
   ]
  },
  {
   "cell_type": "markdown",
   "metadata": {},
   "source": [
    "### Observations on the Histograms. \n",
    "\n",
    "+ The distribution shape for both scores is similar\n",
    "+ The distribution is not normal it looks like a poisson distribution\n",
    "+ It has a positive skew\n",
    "\n",
    "\n",
    "This is probably because its more likely because if a score is to low and rececive a lot of down votes then it will be removed thus it would be missing from my data and preventing a normal distribution."
   ]
  },
  {
   "cell_type": "markdown",
   "metadata": {},
   "source": [
    "---"
   ]
  },
  {
   "cell_type": "markdown",
   "metadata": {},
   "source": [
    "# 5.0 Investigate word counts and post length"
   ]
  },
  {
   "cell_type": "markdown",
   "metadata": {},
   "source": [
    "## 5.1 Combine the posts and comments to analyse the text"
   ]
  },
  {
   "cell_type": "code",
   "execution_count": 64,
   "metadata": {},
   "outputs": [],
   "source": [
    "# create a new dataframe with important columns from posts df\n",
    "df_p = posts_df[['id','selftext','subreddit','type', 'permalink','author']]"
   ]
  },
  {
   "cell_type": "code",
   "execution_count": 65,
   "metadata": {},
   "outputs": [
    {
     "data": {
      "text/plain": [
       "(1204, 6)"
      ]
     },
     "execution_count": 65,
     "metadata": {},
     "output_type": "execute_result"
    }
   ],
   "source": [
    "df_p.shape"
   ]
  },
  {
   "cell_type": "code",
   "execution_count": 66,
   "metadata": {},
   "outputs": [
    {
     "data": {
      "text/plain": [
       "(9321, 4)"
      ]
     },
     "execution_count": 66,
     "metadata": {},
     "output_type": "execute_result"
    }
   ],
   "source": [
    "# create a new dataframe with important columns from comments df\n",
    "\n",
    "df_c = pd.DataFrame(comments_df[['body', 'subreddit','type','author']])\n",
    "df_c.shape"
   ]
  },
  {
   "cell_type": "code",
   "execution_count": 67,
   "metadata": {},
   "outputs": [],
   "source": [
    "# add missing columns from comments dataframe\n",
    "df_c['permalink'] = \"Missing\"\n",
    "df_c['id'] = \"Missing\""
   ]
  },
  {
   "cell_type": "code",
   "execution_count": 68,
   "metadata": {},
   "outputs": [],
   "source": [
    "# remane to enable tables to join\n",
    "df_p = df_p.rename(columns={'selftext':'body'})"
   ]
  },
  {
   "cell_type": "code",
   "execution_count": 69,
   "metadata": {},
   "outputs": [],
   "source": [
    "# Join together\n",
    "all_df = df_p.append(df_c)"
   ]
  },
  {
   "cell_type": "code",
   "execution_count": 70,
   "metadata": {},
   "outputs": [
    {
     "data": {
      "text/plain": [
       "(10525, 6)"
      ]
     },
     "execution_count": 70,
     "metadata": {},
     "output_type": "execute_result"
    }
   ],
   "source": [
    "# check it worked\n",
    "all_df.shape"
   ]
  },
  {
   "cell_type": "code",
   "execution_count": 71,
   "metadata": {},
   "outputs": [
    {
     "data": {
      "text/plain": [
       "(10525, 6)"
      ]
     },
     "execution_count": 71,
     "metadata": {},
     "output_type": "execute_result"
    }
   ],
   "source": [
    "# drop the index\n",
    "all_df.reset_index(drop=True, inplace=True)\n",
    "all_df.shape"
   ]
  },
  {
   "cell_type": "markdown",
   "metadata": {},
   "source": [
    "### Create a column with the number of words in it"
   ]
  },
  {
   "cell_type": "code",
   "execution_count": 72,
   "metadata": {},
   "outputs": [
    {
     "data": {
      "text/plain": [
       "(10525, 7)"
      ]
     },
     "execution_count": 72,
     "metadata": {},
     "output_type": "execute_result"
    }
   ],
   "source": [
    "all_df['len'] =[len(re.findall(r'\\w+', x)) for x in all_df['body'].tolist()]\n",
    "all_df.shape"
   ]
  },
  {
   "cell_type": "code",
   "execution_count": 73,
   "metadata": {},
   "outputs": [
    {
     "data": {
      "text/plain": [
       "count    7503.000000\n",
       "mean       84.311342\n",
       "std       108.202494\n",
       "min         0.000000\n",
       "25%        20.000000\n",
       "50%        51.000000\n",
       "75%       108.500000\n",
       "max      2164.000000\n",
       "Name: len, dtype: float64"
      ]
     },
     "execution_count": 73,
     "metadata": {},
     "output_type": "execute_result"
    }
   ],
   "source": [
    "# describe the datacience length of post\n",
    "all_df['len'].loc[all_df['subreddit']=='datascience'].describe()"
   ]
  },
  {
   "cell_type": "code",
   "execution_count": 74,
   "metadata": {},
   "outputs": [
    {
     "data": {
      "text/plain": [
       "count    3022.000000\n",
       "mean       79.176042\n",
       "std       110.868970\n",
       "min         0.000000\n",
       "25%        23.250000\n",
       "50%        51.000000\n",
       "75%       100.000000\n",
       "max      3068.000000\n",
       "Name: len, dtype: float64"
      ]
     },
     "execution_count": 74,
     "metadata": {},
     "output_type": "execute_result"
    }
   ],
   "source": [
    "# describe the datacience length of post\n",
    "all_df['len'].loc[all_df['subreddit']=='analytics'].describe()"
   ]
  },
  {
   "cell_type": "markdown",
   "metadata": {},
   "source": [
    "### Observations\n",
    "\n",
    "+ Data Science post are on average 5 words longer than "
   ]
  },
  {
   "cell_type": "code",
   "execution_count": 75,
   "metadata": {},
   "outputs": [
    {
     "data": {
      "image/png": "[encoded data removed]",
      "text/plain": [
       "<Figure size 720x720 with 2 Axes>"
      ]
     },
     "metadata": {
      "needs_background": "light"
     },
     "output_type": "display_data"
    }
   ],
   "source": [
    "# create histogram of the words length\n",
    "\n",
    "fig,(ax1, ax2) = plt.subplots(1,2, figsize=(10,10), sharey=True)\n",
    "fig.suptitle('Histograms of the length words in a post or comment reply')\n",
    "sns.distplot(all_df['len'].loc[all_df['subreddit']=='datascience'], ax=ax1)\n",
    "sns.distplot(all_df['len'].loc[all_df['subreddit']=='analytics'], ax=ax2);\n",
    "\n",
    "# name columns\n",
    "ax1.set_xlabel('datascience')\n",
    "ax2.set_xlabel('analytics');"
   ]
  },
  {
   "cell_type": "markdown",
   "metadata": {},
   "source": [
    "### Observations\n",
    "\n",
    "+ Distribution of both is similar\n",
    "+ positive skew \n",
    "+ similar to poission distribution"
   ]
  },
  {
   "cell_type": "code",
   "execution_count": 76,
   "metadata": {},
   "outputs": [
    {
     "data": {
      "image/png": "[encoded data removed]",
      "text/plain": [
       "<Figure size 720x720 with 2 Axes>"
      ]
     },
     "metadata": {
      "needs_background": "light"
     },
     "output_type": "display_data"
    }
   ],
   "source": [
    "# Create a boxplot to show distribution and outliers for data science and analytics length of posts\n",
    "\n",
    "fig = plt.figure(figsize=(10,10))\n",
    "ax1 = fig.add_subplot(121)\n",
    "ax2 = fig.add_subplot(122, sharey=ax1)\n",
    "fig.suptitle('Boxplots of the length words in a posts or comment reply')\n",
    "ax1.boxplot(all_df['len'].loc[all_df['subreddit']=='datascience'])\n",
    "ax2.boxplot(all_df['len'].loc[all_df['subreddit']=='analytics'])\n",
    "ax1.set_title('Data Science')\n",
    "ax2.set_title('Analytics');"
   ]
  },
  {
   "cell_type": "markdown",
   "metadata": {},
   "source": [
    "## 5.2 Investigate Outliers"
   ]
  },
  {
   "cell_type": "code",
   "execution_count": 77,
   "metadata": {},
   "outputs": [
    {
     "data": {
      "text/html": [
       "<div>\n",
       "<style scoped>\n",
       "    .dataframe tbody tr th:only-of-type {\n",
       "        vertical-align: middle;\n",
       "    }\n",
       "\n",
       "    .dataframe tbody tr th {\n",
       "        vertical-align: top;\n",
       "    }\n",
       "\n",
       "    .dataframe thead th {\n",
       "        text-align: right;\n",
       "    }\n",
       "</style>\n",
       "<table border=\"1\" class=\"dataframe\">\n",
       "  <thead>\n",
       "    <tr style=\"text-align: right;\">\n",
       "      <th></th>\n",
       "      <th>id</th>\n",
       "      <th>body</th>\n",
       "      <th>subreddit</th>\n",
       "      <th>type</th>\n",
       "      <th>permalink</th>\n",
       "      <th>author</th>\n",
       "      <th>len</th>\n",
       "    </tr>\n",
       "  </thead>\n",
       "  <tbody>\n",
       "    <tr>\n",
       "      <th>368</th>\n",
       "      <td>fzweaf</td>\n",
       "      <td>First - [I also published this on Medium if yo...</td>\n",
       "      <td>datascience</td>\n",
       "      <td>post</td>\n",
       "      <td>/r/datascience/comments/fzweaf/my_giant_data_q...</td>\n",
       "      <td>TB_R</td>\n",
       "      <td>2164</td>\n",
       "    </tr>\n",
       "    <tr>\n",
       "      <th>580</th>\n",
       "      <td>hbeoyt</td>\n",
       "      <td>Forecasting the dynamics of revenue, audience,...</td>\n",
       "      <td>analytics</td>\n",
       "      <td>post</td>\n",
       "      <td>/r/analytics/comments/hbeoyt/how_to_forecast_k...</td>\n",
       "      <td>unab0mber</td>\n",
       "      <td>3068</td>\n",
       "    </tr>\n",
       "  </tbody>\n",
       "</table>\n",
       "</div>"
      ],
      "text/plain": [
       "         id                                               body    subreddit  \\\n",
       "368  fzweaf  First - [I also published this on Medium if yo...  datascience   \n",
       "580  hbeoyt  Forecasting the dynamics of revenue, audience,...    analytics   \n",
       "\n",
       "     type                                          permalink     author   len  \n",
       "368  post  /r/datascience/comments/fzweaf/my_giant_data_q...       TB_R  2164  \n",
       "580  post  /r/analytics/comments/hbeoyt/how_to_forecast_k...  unab0mber  3068  "
      ]
     },
     "execution_count": 77,
     "metadata": {},
     "output_type": "execute_result"
    }
   ],
   "source": [
    "# Find long posts\n",
    "all_df.loc[all_df['len'] > 2000]"
   ]
  },
  {
   "cell_type": "code",
   "execution_count": 78,
   "metadata": {},
   "outputs": [
    {
     "data": {
      "text/plain": [
       "'/r/datascience/comments/fzweaf/my_giant_data_quality_checklist/'"
      ]
     },
     "execution_count": 78,
     "metadata": {},
     "output_type": "execute_result"
    }
   ],
   "source": [
    "all_df.iloc[368,4]"
   ]
  },
  {
   "cell_type": "code",
   "execution_count": 79,
   "metadata": {},
   "outputs": [
    {
     "data": {
      "text/plain": [
       "'/r/analytics/comments/hbeoyt/how_to_forecast_key_product_metrics_through/'"
      ]
     },
     "execution_count": 79,
     "metadata": {},
     "output_type": "execute_result"
    }
   ],
   "source": [
    "all_df.iloc[580,4]"
   ]
  },
  {
   "cell_type": "markdown",
   "metadata": {},
   "source": [
    "# Outliers\n",
    "\n",
    "Whilst these are outliers they are genuine posts and therfore I will leave them in.\n",
    "\n",
    "I checked the original data points:\n",
    "\n",
    "+ [my_giant_data_quality_checklist](https://www.reddit.com/r/datascience/comments/fzweaf/my_giant_data_quality_checklist/)\n",
    "\n",
    "\n",
    "+ [how_to_forecast_key_product_metrics_through](https://www.reddit.com/r/analytics/comments/hbeoyt/how_to_forecast_key_product_metrics_through/)\n"
   ]
  },
  {
   "cell_type": "markdown",
   "metadata": {},
   "source": [
    "---"
   ]
  },
  {
   "cell_type": "markdown",
   "metadata": {},
   "source": [
    "## 5.3 Author cross contamination check\n",
    "\n",
    "I want to check that the posts in the subreddits are being written by the different people. A high number would mean that my data would be potentially diluted. They may have to be removed as the workds they use maybe specific to them and not the reddit."
   ]
  },
  {
   "cell_type": "code",
   "execution_count": 80,
   "metadata": {},
   "outputs": [],
   "source": [
    "# Get list of authors from the datascience reddit\n",
    "authors_ds = list(all_df.loc[all_df['subreddit'] == 'datascience']['author'])"
   ]
  },
  {
   "cell_type": "code",
   "execution_count": 81,
   "metadata": {},
   "outputs": [],
   "source": [
    "# Get list of authors from the analytics reddit\n",
    "authors_analytics = list(all_df.loc[all_df['subreddit'] == 'analytics']['author'])"
   ]
  },
  {
   "cell_type": "code",
   "execution_count": 82,
   "metadata": {},
   "outputs": [
    {
     "name": "stdout",
     "output_type": "stream",
     "text": [
      "Highest number of duplicate post 1\n",
      "Total number of posts from members in both reddits: 199\n",
      "Number of dual memberships 199\n"
     ]
    }
   ],
   "source": [
    "# Loop through both lists and get authors and their number of times they have posted in the both reddits\n",
    "contributors = {}\n",
    "for author in authors_analytics:\n",
    "    for author2 in authors_ds:\n",
    "        if author == author2:\n",
    "            contributors[author] = contributors.get('author',0) + 1\n",
    "\n",
    "# print the highest number of duplicated posters            \n",
    "print(f\"Highest number of duplicate post {contributors[max(contributors, key=lambda key: contributors[key])]}\")\n",
    "print(f\"Total number of posts from members in both reddits: {sum(contributors.values())}\")\n",
    "print(f\"Number of dual memberships {len(contributors.keys())}\")"
   ]
  },
  {
   "cell_type": "markdown",
   "metadata": {},
   "source": [
    "## Observation\n",
    "\n",
    "+ There is some overlap but its very insignificant so I can proceed without adjustments. \n",
    "+ It is good to know that there is only 199 active dual members so the data isnt compromised by bias."
   ]
  },
  {
   "cell_type": "markdown",
   "metadata": {},
   "source": [
    "---"
   ]
  },
  {
   "cell_type": "markdown",
   "metadata": {},
   "source": [
    "## 5.4 Investigate the frequecy of words "
   ]
  },
  {
   "cell_type": "markdown",
   "metadata": {},
   "source": [
    "I will look to see if there are words which appear frequently in the two subreddits. \n",
    "\n",
    "+ I will use countvectoriser to get the words\n",
    "\n",
    "\n",
    "+ Then compare the top 10 to see if there are any similarities or differences\n",
    "\n",
    "\n",
    "+ I will check the n_grams for 1,1, 1,2 1,3 \n",
    "    + This is because these fields often have a lot of terms and tools like data science\n",
    "    + I dont want to miss these key terms"
   ]
  },
  {
   "cell_type": "markdown",
   "metadata": {},
   "source": [
    "### 5.4.1 Data Science Countvectorizer"
   ]
  },
  {
   "cell_type": "code",
   "execution_count": 83,
   "metadata": {},
   "outputs": [],
   "source": [
    "# split by reddit\n",
    "ds_body = all_df.loc[all_df['subreddit'] == 'datascience', 'body']\n",
    "analytics_body = all_df.loc[all_df['subreddit'] == 'analytics', 'body']"
   ]
  },
  {
   "cell_type": "code",
   "execution_count": 84,
   "metadata": {},
   "outputs": [],
   "source": [
    "# get word counter for Data science"
   ]
  },
  {
   "cell_type": "code",
   "execution_count": 85,
   "metadata": {},
   "outputs": [],
   "source": [
    "# Instantiate a CountVectorizer\n",
    "cvec1 = CountVectorizer(stop_words='english')"
   ]
  },
  {
   "cell_type": "code",
   "execution_count": 86,
   "metadata": {},
   "outputs": [
    {
     "data": {
      "text/plain": [
       "CountVectorizer(analyzer='word', binary=False, decode_error='strict',\n",
       "                dtype=<class 'numpy.int64'>, encoding='utf-8', input='content',\n",
       "                lowercase=True, max_df=1.0, max_features=None, min_df=1,\n",
       "                ngram_range=(1, 1), preprocessor=None, stop_words='english',\n",
       "                strip_accents=None, token_pattern='(?u)\\\\b\\\\w\\\\w+\\\\b',\n",
       "                tokenizer=None, vocabulary=None)"
      ]
     },
     "execution_count": 86,
     "metadata": {},
     "output_type": "execute_result"
    }
   ],
   "source": [
    "# Fit the vectorizer on our text\n",
    "cvec1.fit(ds_body)"
   ]
  },
  {
   "cell_type": "code",
   "execution_count": 87,
   "metadata": {},
   "outputs": [
    {
     "name": "stdout",
     "output_type": "stream",
     "text": [
      "<class 'scipy.sparse.csr.csr_matrix'>\n"
     ]
    }
   ],
   "source": [
    "# Transform the corpus into a sparse matrix\n",
    "X_train = cvec1.transform(ds_body)\n",
    "print(type(X_train))"
   ]
  },
  {
   "cell_type": "code",
   "execution_count": 88,
   "metadata": {},
   "outputs": [],
   "source": [
    "# Convert X_train into a DataFrame\n",
    "ds_words = pd.DataFrame(X_train.toarray(),\n",
    "                   columns=cvec1.get_feature_names())"
   ]
  },
  {
   "cell_type": "code",
   "execution_count": 89,
   "metadata": {},
   "outputs": [
    {
     "data": {
      "text/plain": [
       "(7503, 18637)"
      ]
     },
     "execution_count": 89,
     "metadata": {},
     "output_type": "execute_result"
    }
   ],
   "source": [
    "ds_words.shape"
   ]
  },
  {
   "cell_type": "code",
   "execution_count": 90,
   "metadata": {},
   "outputs": [],
   "source": [
    "# Show the top 15 analytic words for n_gram (1,1)\n",
    "\n",
    "top_ds_df = pd.DataFrame(ds_words.sum())\n",
    "top_ds_df.reset_index(inplace=True)\n",
    "top_ds_df.rename(columns={0:'count', 'index':'word'}, inplace=True)\n",
    "top_ds_1 = top_ds_df.sort_values(by='count', ascending=False).head(10)"
   ]
  },
  {
   "cell_type": "code",
   "execution_count": 91,
   "metadata": {},
   "outputs": [
    {
     "data": {
      "text/html": [
       "<div>\n",
       "<style scoped>\n",
       "    .dataframe tbody tr th:only-of-type {\n",
       "        vertical-align: middle;\n",
       "    }\n",
       "\n",
       "    .dataframe tbody tr th {\n",
       "        vertical-align: top;\n",
       "    }\n",
       "\n",
       "    .dataframe thead th {\n",
       "        text-align: right;\n",
       "    }\n",
       "</style>\n",
       "<table border=\"1\" class=\"dataframe\">\n",
       "  <thead>\n",
       "    <tr style=\"text-align: right;\">\n",
       "      <th></th>\n",
       "      <th>word</th>\n",
       "      <th>count</th>\n",
       "    </tr>\n",
       "  </thead>\n",
       "  <tbody>\n",
       "    <tr>\n",
       "      <th>4635</th>\n",
       "      <td>data</td>\n",
       "      <td>7768</td>\n",
       "    </tr>\n",
       "    <tr>\n",
       "      <th>14804</th>\n",
       "      <td>science</td>\n",
       "      <td>2828</td>\n",
       "    </tr>\n",
       "    <tr>\n",
       "      <th>9986</th>\n",
       "      <td>like</td>\n",
       "      <td>2275</td>\n",
       "    </tr>\n",
       "    <tr>\n",
       "      <th>18406</th>\n",
       "      <td>work</td>\n",
       "      <td>2211</td>\n",
       "    </tr>\n",
       "    <tr>\n",
       "      <th>9495</th>\n",
       "      <td>just</td>\n",
       "      <td>1958</td>\n",
       "    </tr>\n",
       "    <tr>\n",
       "      <th>16877</th>\n",
       "      <td>time</td>\n",
       "      <td>1752</td>\n",
       "    </tr>\n",
       "    <tr>\n",
       "      <th>5525</th>\n",
       "      <td>don</td>\n",
       "      <td>1606</td>\n",
       "    </tr>\n",
       "    <tr>\n",
       "      <th>9390</th>\n",
       "      <td>job</td>\n",
       "      <td>1581</td>\n",
       "    </tr>\n",
       "    <tr>\n",
       "      <th>12308</th>\n",
       "      <td>people</td>\n",
       "      <td>1534</td>\n",
       "    </tr>\n",
       "    <tr>\n",
       "      <th>9639</th>\n",
       "      <td>know</td>\n",
       "      <td>1446</td>\n",
       "    </tr>\n",
       "  </tbody>\n",
       "</table>\n",
       "</div>"
      ],
      "text/plain": [
       "          word  count\n",
       "4635      data   7768\n",
       "14804  science   2828\n",
       "9986      like   2275\n",
       "18406     work   2211\n",
       "9495      just   1958\n",
       "16877     time   1752\n",
       "5525       don   1606\n",
       "9390       job   1581\n",
       "12308   people   1534\n",
       "9639      know   1446"
      ]
     },
     "execution_count": 91,
     "metadata": {},
     "output_type": "execute_result"
    }
   ],
   "source": [
    "top_ds_1"
   ]
  },
  {
   "cell_type": "code",
   "execution_count": 92,
   "metadata": {},
   "outputs": [
    {
     "data": {
      "image/png": "[encoded data removed]",
      "text/plain": [
       "<Figure size 1440x864 with 1 Axes>"
      ]
     },
     "metadata": {
      "needs_background": "light"
     },
     "output_type": "display_data"
    }
   ],
   "source": [
    "# plot bar graph of top word frequencies\n",
    "\n",
    "fig = plt.figure(figsize=(20, 12))\n",
    "ax = fig.add_subplot()\n",
    "top_ds_1.plot(x=\"word\",y='count', kind='barh', ax=ax)\n",
    "ax.set_title(\"Most frequent words in Datascience text\", fontsize=20, verticalalignment='bottom')\n",
    "ax.set_xlabel(\"Count\");"
   ]
  },
  {
   "cell_type": "markdown",
   "metadata": {},
   "source": [
    "# observation\n",
    "\n",
    "+ data, science, like, work are the most frequent indivisual words "
   ]
  },
  {
   "cell_type": "markdown",
   "metadata": {},
   "source": [
    "---"
   ]
  },
  {
   "cell_type": "markdown",
   "metadata": {},
   "source": [
    "### 5.4.2 Analytics Countvectorizer"
   ]
  },
  {
   "cell_type": "code",
   "execution_count": 93,
   "metadata": {},
   "outputs": [],
   "source": [
    "# Instantiate a CountVectorizer\n",
    "cvec2 = CountVectorizer(stop_words='english')"
   ]
  },
  {
   "cell_type": "code",
   "execution_count": 94,
   "metadata": {},
   "outputs": [
    {
     "data": {
      "text/plain": [
       "CountVectorizer(analyzer='word', binary=False, decode_error='strict',\n",
       "                dtype=<class 'numpy.int64'>, encoding='utf-8', input='content',\n",
       "                lowercase=True, max_df=1.0, max_features=None, min_df=1,\n",
       "                ngram_range=(1, 1), preprocessor=None, stop_words='english',\n",
       "                strip_accents=None, token_pattern='(?u)\\\\b\\\\w\\\\w+\\\\b',\n",
       "                tokenizer=None, vocabulary=None)"
      ]
     },
     "execution_count": 94,
     "metadata": {},
     "output_type": "execute_result"
    }
   ],
   "source": [
    "# Fit the vectorizer on our text\n",
    "cvec2.fit(analytics_body)"
   ]
  },
  {
   "cell_type": "code",
   "execution_count": 95,
   "metadata": {},
   "outputs": [
    {
     "name": "stdout",
     "output_type": "stream",
     "text": [
      "<class 'scipy.sparse.csr.csr_matrix'>\n"
     ]
    }
   ],
   "source": [
    "# Transform the corpus into a sparse matrix\n",
    "X_train = cvec2.transform(analytics_body)\n",
    "print(type(X_train))"
   ]
  },
  {
   "cell_type": "code",
   "execution_count": 96,
   "metadata": {},
   "outputs": [],
   "source": [
    "# Convert X_train into a DataFrame\n",
    "analytics_words = pd.DataFrame(X_train.toarray(),\n",
    "                   columns=cvec2.get_feature_names())"
   ]
  },
  {
   "cell_type": "code",
   "execution_count": 97,
   "metadata": {},
   "outputs": [
    {
     "data": {
      "text/plain": [
       "(3022, 10075)"
      ]
     },
     "execution_count": 97,
     "metadata": {},
     "output_type": "execute_result"
    }
   ],
   "source": [
    "# check rows still correct\n",
    "analytics_words.shape"
   ]
  },
  {
   "cell_type": "code",
   "execution_count": 98,
   "metadata": {},
   "outputs": [
    {
     "data": {
      "text/html": [
       "<div>\n",
       "<style scoped>\n",
       "    .dataframe tbody tr th:only-of-type {\n",
       "        vertical-align: middle;\n",
       "    }\n",
       "\n",
       "    .dataframe tbody tr th {\n",
       "        vertical-align: top;\n",
       "    }\n",
       "\n",
       "    .dataframe thead th {\n",
       "        text-align: right;\n",
       "    }\n",
       "</style>\n",
       "<table border=\"1\" class=\"dataframe\">\n",
       "  <thead>\n",
       "    <tr style=\"text-align: right;\">\n",
       "      <th></th>\n",
       "      <th>word</th>\n",
       "      <th>count</th>\n",
       "    </tr>\n",
       "  </thead>\n",
       "  <tbody>\n",
       "    <tr>\n",
       "      <th>2435</th>\n",
       "      <td>data</td>\n",
       "      <td>2300</td>\n",
       "    </tr>\n",
       "    <tr>\n",
       "      <th>721</th>\n",
       "      <td>analytics</td>\n",
       "      <td>1404</td>\n",
       "    </tr>\n",
       "    <tr>\n",
       "      <th>5291</th>\n",
       "      <td>like</td>\n",
       "      <td>803</td>\n",
       "    </tr>\n",
       "    <tr>\n",
       "      <th>9948</th>\n",
       "      <td>work</td>\n",
       "      <td>691</td>\n",
       "    </tr>\n",
       "    <tr>\n",
       "      <th>5047</th>\n",
       "      <td>just</td>\n",
       "      <td>663</td>\n",
       "    </tr>\n",
       "    <tr>\n",
       "      <th>4105</th>\n",
       "      <td>google</td>\n",
       "      <td>653</td>\n",
       "    </tr>\n",
       "    <tr>\n",
       "      <th>9127</th>\n",
       "      <td>time</td>\n",
       "      <td>600</td>\n",
       "    </tr>\n",
       "    <tr>\n",
       "      <th>9771</th>\n",
       "      <td>want</td>\n",
       "      <td>577</td>\n",
       "    </tr>\n",
       "    <tr>\n",
       "      <th>9553</th>\n",
       "      <td>use</td>\n",
       "      <td>576</td>\n",
       "    </tr>\n",
       "    <tr>\n",
       "      <th>1450</th>\n",
       "      <td>business</td>\n",
       "      <td>566</td>\n",
       "    </tr>\n",
       "  </tbody>\n",
       "</table>\n",
       "</div>"
      ],
      "text/plain": [
       "           word  count\n",
       "2435       data   2300\n",
       "721   analytics   1404\n",
       "5291       like    803\n",
       "9948       work    691\n",
       "5047       just    663\n",
       "4105     google    653\n",
       "9127       time    600\n",
       "9771       want    577\n",
       "9553        use    576\n",
       "1450   business    566"
      ]
     },
     "execution_count": 98,
     "metadata": {},
     "output_type": "execute_result"
    }
   ],
   "source": [
    "# Show the top 15 analytic words\n",
    "\n",
    "top_an_df = pd.DataFrame(analytics_words.sum())\n",
    "top_an_df.reset_index(inplace=True)\n",
    "top_an_df.rename(columns={0:'count', 'index':'word'}, inplace=True)\n",
    "top_an_1 = top_an_df.sort_values(by='count', ascending=False).head(10)\n",
    "top_an_1"
   ]
  },
  {
   "cell_type": "code",
   "execution_count": 99,
   "metadata": {
    "scrolled": false
   },
   "outputs": [
    {
     "data": {
      "image/png": "[encoded data removed]",
      "text/plain": [
       "<Figure size 1440x864 with 1 Axes>"
      ]
     },
     "metadata": {
      "needs_background": "light"
     },
     "output_type": "display_data"
    }
   ],
   "source": [
    "# plot bar graph of top word frequencies\n",
    "\n",
    "fig = plt.figure(figsize=(20, 12))\n",
    "ax = fig.add_subplot()\n",
    "top_an_1.plot(x=\"word\",y='count', kind='barh', ax=ax)\n",
    "ax.set_title(\"Most frequent words in Analytics text\", fontsize=20, verticalalignment='bottom')\n",
    "ax.set_xlabel(\"Count\");"
   ]
  },
  {
   "cell_type": "markdown",
   "metadata": {},
   "source": [
    "### observation\n",
    "\n",
    "+ data, analytics, like, work are the most frequent indivisual words "
   ]
  },
  {
   "cell_type": "markdown",
   "metadata": {},
   "source": [
    "---"
   ]
  },
  {
   "cell_type": "markdown",
   "metadata": {},
   "source": [
    "### Repeat to allow 2-3 words patterns"
   ]
  },
  {
   "cell_type": "code",
   "execution_count": 100,
   "metadata": {},
   "outputs": [],
   "source": [
    "# Instantiate a CountVectorizer\n",
    "cvec3 = CountVectorizer(stop_words='english', ngram_range=(2,3))"
   ]
  },
  {
   "cell_type": "code",
   "execution_count": 101,
   "metadata": {},
   "outputs": [
    {
     "data": {
      "text/plain": [
       "CountVectorizer(analyzer='word', binary=False, decode_error='strict',\n",
       "                dtype=<class 'numpy.int64'>, encoding='utf-8', input='content',\n",
       "                lowercase=True, max_df=1.0, max_features=None, min_df=1,\n",
       "                ngram_range=(2, 3), preprocessor=None, stop_words='english',\n",
       "                strip_accents=None, token_pattern='(?u)\\\\b\\\\w\\\\w+\\\\b',\n",
       "                tokenizer=None, vocabulary=None)"
      ]
     },
     "execution_count": 101,
     "metadata": {},
     "output_type": "execute_result"
    }
   ],
   "source": [
    "# Fit the vectorizer on our text\n",
    "cvec3.fit(ds_body)"
   ]
  },
  {
   "cell_type": "code",
   "execution_count": 102,
   "metadata": {},
   "outputs": [
    {
     "name": "stdout",
     "output_type": "stream",
     "text": [
      "<class 'scipy.sparse.csr.csr_matrix'>\n"
     ]
    }
   ],
   "source": [
    "# Transform the corpus into a sparse matrix\n",
    "X_train = cvec3.transform(ds_body)\n",
    "print(type(X_train))"
   ]
  },
  {
   "cell_type": "code",
   "execution_count": 103,
   "metadata": {},
   "outputs": [],
   "source": [
    "# Convert X_train into a DataFrame\n",
    "ds_words = pd.DataFrame(X_train.toarray(),\n",
    "                   columns=cvec3.get_feature_names())"
   ]
  },
  {
   "cell_type": "code",
   "execution_count": 104,
   "metadata": {},
   "outputs": [
    {
     "data": {
      "text/plain": [
       "(7503, 460371)"
      ]
     },
     "execution_count": 104,
     "metadata": {},
     "output_type": "execute_result"
    }
   ],
   "source": [
    "ds_words.shape"
   ]
  },
  {
   "cell_type": "code",
   "execution_count": 105,
   "metadata": {},
   "outputs": [],
   "source": [
    "# Show the top 15 analytic words for n_gram (1,1)\n",
    "\n",
    "top_ds_df = pd.DataFrame(ds_words.sum())\n",
    "top_ds_df.reset_index(inplace=True)\n",
    "top_ds_df.rename(columns={0:'count', 'index':'word'}, inplace=True)\n",
    "top_ds_1 = top_ds_df.sort_values(by='count', ascending=False).head(10)"
   ]
  },
  {
   "cell_type": "code",
   "execution_count": 106,
   "metadata": {},
   "outputs": [
    {
     "data": {
      "text/html": [
       "<div>\n",
       "<style scoped>\n",
       "    .dataframe tbody tr th:only-of-type {\n",
       "        vertical-align: middle;\n",
       "    }\n",
       "\n",
       "    .dataframe tbody tr th {\n",
       "        vertical-align: top;\n",
       "    }\n",
       "\n",
       "    .dataframe thead th {\n",
       "        text-align: right;\n",
       "    }\n",
       "</style>\n",
       "<table border=\"1\" class=\"dataframe\">\n",
       "  <thead>\n",
       "    <tr style=\"text-align: right;\">\n",
       "      <th></th>\n",
       "      <th>word</th>\n",
       "      <th>count</th>\n",
       "    </tr>\n",
       "  </thead>\n",
       "  <tbody>\n",
       "    <tr>\n",
       "      <th>92481</th>\n",
       "      <td>data science</td>\n",
       "      <td>2469</td>\n",
       "    </tr>\n",
       "    <tr>\n",
       "      <th>93427</th>\n",
       "      <td>data scientist</td>\n",
       "      <td>845</td>\n",
       "    </tr>\n",
       "    <tr>\n",
       "      <th>183987</th>\n",
       "      <td>https www</td>\n",
       "      <td>502</td>\n",
       "    </tr>\n",
       "    <tr>\n",
       "      <th>238841</th>\n",
       "      <td>machine learning</td>\n",
       "      <td>481</td>\n",
       "    </tr>\n",
       "    <tr>\n",
       "      <th>93863</th>\n",
       "      <td>data scientists</td>\n",
       "      <td>441</td>\n",
       "    </tr>\n",
       "    <tr>\n",
       "      <th>89187</th>\n",
       "      <td>data analyst</td>\n",
       "      <td>258</td>\n",
       "    </tr>\n",
       "    <tr>\n",
       "      <th>16671</th>\n",
       "      <td>amp x200b</td>\n",
       "      <td>254</td>\n",
       "    </tr>\n",
       "    <tr>\n",
       "      <th>115969</th>\n",
       "      <td>don know</td>\n",
       "      <td>252</td>\n",
       "    </tr>\n",
       "    <tr>\n",
       "      <th>89052</th>\n",
       "      <td>data analysis</td>\n",
       "      <td>177</td>\n",
       "    </tr>\n",
       "    <tr>\n",
       "      <th>90406</th>\n",
       "      <td>data engineering</td>\n",
       "      <td>156</td>\n",
       "    </tr>\n",
       "  </tbody>\n",
       "</table>\n",
       "</div>"
      ],
      "text/plain": [
       "                    word  count\n",
       "92481       data science   2469\n",
       "93427     data scientist    845\n",
       "183987         https www    502\n",
       "238841  machine learning    481\n",
       "93863    data scientists    441\n",
       "89187       data analyst    258\n",
       "16671          amp x200b    254\n",
       "115969          don know    252\n",
       "89052      data analysis    177\n",
       "90406   data engineering    156"
      ]
     },
     "execution_count": 106,
     "metadata": {},
     "output_type": "execute_result"
    }
   ],
   "source": [
    "top_ds_1"
   ]
  },
  {
   "cell_type": "code",
   "execution_count": 107,
   "metadata": {},
   "outputs": [
    {
     "data": {
      "image/png": "[encoded data removed]",
      "text/plain": [
       "<Figure size 1440x864 with 1 Axes>"
      ]
     },
     "metadata": {
      "needs_background": "light"
     },
     "output_type": "display_data"
    }
   ],
   "source": [
    "# plot bar graph of top word frequencies\n",
    "\n",
    "fig = plt.figure(figsize=(20, 12))\n",
    "ax = fig.add_subplot()\n",
    "top_ds_1.plot(x=\"word\",y='count', kind='barh', ax=ax)\n",
    "ax.set_title(\"Most frequent words in Datascience text\", fontsize=20, verticalalignment='bottom')\n",
    "ax.set_xlabel(\"Count\");"
   ]
  },
  {
   "cell_type": "markdown",
   "metadata": {},
   "source": [
    "### Observations\n",
    "\n",
    "+ This is much more informative the single words\n",
    "\n",
    "\n",
    "+ Key themes and topics that are being discussed can clearly be seen to be forming\n",
    "    + machine learning, don know, data engineering\n",
    "    + data analysis does appear"
   ]
  },
  {
   "cell_type": "markdown",
   "metadata": {},
   "source": [
    "---"
   ]
  },
  {
   "cell_type": "markdown",
   "metadata": {},
   "source": [
    "### Repeat for Analytics"
   ]
  },
  {
   "cell_type": "code",
   "execution_count": 108,
   "metadata": {},
   "outputs": [],
   "source": [
    "# Instantiate a CountVectorizer\n",
    "cvec4 = CountVectorizer(stop_words='english', ngram_range=(2,3))"
   ]
  },
  {
   "cell_type": "code",
   "execution_count": 109,
   "metadata": {},
   "outputs": [
    {
     "data": {
      "text/plain": [
       "CountVectorizer(analyzer='word', binary=False, decode_error='strict',\n",
       "                dtype=<class 'numpy.int64'>, encoding='utf-8', input='content',\n",
       "                lowercase=True, max_df=1.0, max_features=None, min_df=1,\n",
       "                ngram_range=(2, 3), preprocessor=None, stop_words='english',\n",
       "                strip_accents=None, token_pattern='(?u)\\\\b\\\\w\\\\w+\\\\b',\n",
       "                tokenizer=None, vocabulary=None)"
      ]
     },
     "execution_count": 109,
     "metadata": {},
     "output_type": "execute_result"
    }
   ],
   "source": [
    "# Fit the vectorizer on our text\n",
    "cvec4.fit(analytics_body)"
   ]
  },
  {
   "cell_type": "code",
   "execution_count": 110,
   "metadata": {},
   "outputs": [
    {
     "name": "stdout",
     "output_type": "stream",
     "text": [
      "<class 'scipy.sparse.csr.csr_matrix'>\n"
     ]
    }
   ],
   "source": [
    "# Transform the corpus into a sparse matrix\n",
    "X_train = cvec4.transform(analytics_body)\n",
    "print(type(X_train))"
   ]
  },
  {
   "cell_type": "code",
   "execution_count": 111,
   "metadata": {},
   "outputs": [],
   "source": [
    "# Convert X_train into a DataFrame\n",
    "analytics_words = pd.DataFrame(X_train.toarray(),\n",
    "                   columns=cvec4.get_feature_names())"
   ]
  },
  {
   "cell_type": "code",
   "execution_count": 112,
   "metadata": {},
   "outputs": [
    {
     "data": {
      "text/plain": [
       "(3022, 183117)"
      ]
     },
     "execution_count": 112,
     "metadata": {},
     "output_type": "execute_result"
    }
   ],
   "source": [
    "# check rows still correct\n",
    "analytics_words.shape"
   ]
  },
  {
   "cell_type": "code",
   "execution_count": 113,
   "metadata": {},
   "outputs": [
    {
     "data": {
      "text/html": [
       "<div>\n",
       "<style scoped>\n",
       "    .dataframe tbody tr th:only-of-type {\n",
       "        vertical-align: middle;\n",
       "    }\n",
       "\n",
       "    .dataframe tbody tr th {\n",
       "        vertical-align: top;\n",
       "    }\n",
       "\n",
       "    .dataframe thead th {\n",
       "        text-align: right;\n",
       "    }\n",
       "</style>\n",
       "<table border=\"1\" class=\"dataframe\">\n",
       "  <thead>\n",
       "    <tr style=\"text-align: right;\">\n",
       "      <th></th>\n",
       "      <th>word</th>\n",
       "      <th>count</th>\n",
       "    </tr>\n",
       "  </thead>\n",
       "  <tbody>\n",
       "    <tr>\n",
       "      <th>68522</th>\n",
       "      <td>google analytics</td>\n",
       "      <td>226</td>\n",
       "    </tr>\n",
       "    <tr>\n",
       "      <th>38704</th>\n",
       "      <td>data analyst</td>\n",
       "      <td>163</td>\n",
       "    </tr>\n",
       "    <tr>\n",
       "      <th>40498</th>\n",
       "      <td>data science</td>\n",
       "      <td>152</td>\n",
       "    </tr>\n",
       "    <tr>\n",
       "      <th>7569</th>\n",
       "      <td>amp x200b</td>\n",
       "      <td>126</td>\n",
       "    </tr>\n",
       "    <tr>\n",
       "      <th>119730</th>\n",
       "      <td>power bi</td>\n",
       "      <td>113</td>\n",
       "    </tr>\n",
       "    <tr>\n",
       "      <th>38834</th>\n",
       "      <td>data analytics</td>\n",
       "      <td>112</td>\n",
       "    </tr>\n",
       "    <tr>\n",
       "      <th>21963</th>\n",
       "      <td>business analytics</td>\n",
       "      <td>81</td>\n",
       "    </tr>\n",
       "    <tr>\n",
       "      <th>40927</th>\n",
       "      <td>data studio</td>\n",
       "      <td>77</td>\n",
       "    </tr>\n",
       "    <tr>\n",
       "      <th>68729</th>\n",
       "      <td>google com</td>\n",
       "      <td>74</td>\n",
       "    </tr>\n",
       "    <tr>\n",
       "      <th>38633</th>\n",
       "      <td>data analysis</td>\n",
       "      <td>74</td>\n",
       "    </tr>\n",
       "  </tbody>\n",
       "</table>\n",
       "</div>"
      ],
      "text/plain": [
       "                      word  count\n",
       "68522     google analytics    226\n",
       "38704         data analyst    163\n",
       "40498         data science    152\n",
       "7569             amp x200b    126\n",
       "119730            power bi    113\n",
       "38834       data analytics    112\n",
       "21963   business analytics     81\n",
       "40927          data studio     77\n",
       "68729           google com     74\n",
       "38633        data analysis     74"
      ]
     },
     "execution_count": 113,
     "metadata": {},
     "output_type": "execute_result"
    }
   ],
   "source": [
    "# Show the top 15 analytic words\n",
    "\n",
    "top_an_df = pd.DataFrame(analytics_words.sum())\n",
    "top_an_df.reset_index(inplace=True)\n",
    "top_an_df.rename(columns={0:'count', 'index':'word'}, inplace=True)\n",
    "top_an_3 = top_an_df.sort_values(by='count', ascending=False).head(10)\n",
    "top_an_3"
   ]
  },
  {
   "cell_type": "code",
   "execution_count": 114,
   "metadata": {
    "scrolled": false
   },
   "outputs": [
    {
     "data": {
      "image/png": "[encoded data removed]",
      "text/plain": [
       "<Figure size 1440x864 with 1 Axes>"
      ]
     },
     "metadata": {
      "needs_background": "light"
     },
     "output_type": "display_data"
    }
   ],
   "source": [
    "# plot bar graph of top word frequencies\n",
    "\n",
    "fig = plt.figure(figsize=(20, 12))\n",
    "ax = fig.add_subplot()\n",
    "top_an_3.plot(x=\"word\",y='count', kind='barh', ax=ax)\n",
    "ax.set_title(\"Most frequent words in Analytics text\", fontsize=20, verticalalignment='bottom')\n",
    "ax.set_xlabel(\"Count\");"
   ]
  },
  {
   "cell_type": "markdown",
   "metadata": {},
   "source": [
    "### Observations\n",
    "\n",
    "+ This is much more informative the single words\n",
    "\n",
    "\n",
    "+ Key themes and topics that are being discussed can clearly be seen to be forming\n",
    "    + google analytics, data analyst, business anlaytics, data studio\n",
    "    + data science also appears"
   ]
  },
  {
   "cell_type": "markdown",
   "metadata": {},
   "source": [
    "---"
   ]
  },
  {
   "cell_type": "markdown",
   "metadata": {},
   "source": [
    "### Save data"
   ]
  },
  {
   "cell_type": "code",
   "execution_count": 115,
   "metadata": {},
   "outputs": [],
   "source": [
    "posts_df.to_csv('./data/post_eda/posts.csv', index = False)\n",
    "comments_df.to_csv('./data/post_eda/comments.csv', index = False)"
   ]
  },
  {
   "cell_type": "markdown",
   "metadata": {},
   "source": [
    "---"
   ]
  },
  {
   "cell_type": "markdown",
   "metadata": {},
   "source": [
    "# 6.0 Insight"
   ]
  },
  {
   "cell_type": "markdown",
   "metadata": {},
   "source": [
    "### Does my EDA allow me to answer the problem statement fully or to a certain extent?\n",
    "\n",
    "+ There is still lots of unknowns and I would be unable to predict accurately. However I can answer my problem statement to a certain degree. I have found out the following:\n",
    "\n",
    "\n",
    "#### Data Science\n",
    "\n",
    "+ Average post lenght is 84\n",
    "\n",
    "Key phrases and words\n",
    "+ data science\n",
    "+ machine learning\n",
    "+ data engineering\n",
    "+ dont know - Show enquisitive nature?\n",
    "\n",
    "\n",
    "#### Anlaytics\n",
    "\n",
    "+ Average post lenght is 79 which is 5 Words less\n",
    "\n",
    "Key phrases and words\n",
    "+ google analytics\n",
    "+ data analyst\n",
    "+ power bi\n",
    "+ data studio\n",
    "\n",
    "\n",
    "They also both make reference to each others names: data science and analytics\n"
   ]
  }
 ],
 "metadata": {
  "kernelspec": {
   "display_name": "Python 3",
   "language": "python",
   "name": "python3"
  },
  "language_info": {
   "codemirror_mode": {
    "name": "ipython",
    "version": 3
   },
   "file_extension": ".py",
   "mimetype": "text/x-python",
   "name": "python",
   "nbconvert_exporter": "python",
   "pygments_lexer": "ipython3",
   "version": "3.7.6"
  }
 },
 "nbformat": 4,
 "nbformat_minor": 4
}
