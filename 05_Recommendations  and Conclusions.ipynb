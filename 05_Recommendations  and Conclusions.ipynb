{
 "cells": [
  {
   "cell_type": "markdown",
   "metadata": {},
   "source": [
    "# Conclusions and Recommendations"
   ]
  },
  {
   "cell_type": "markdown",
   "metadata": {},
   "source": [
    "### Contents:\n",
    "- [1.0 Model Overview](#1.0-Model-Overview)\n",
    "- [2.0 Key findings](#2.0-Key-findings)\n",
    "- [3.0 Conclusion and Recommendations](#3.0-Conclusion-and-Recommendations)\n",
    "- [4.0 Problem Statement](#4.0-Problem-Statement)\n",
    "- [5.0 Future Steps](#5.0-Future-Steps)"
   ]
  },
  {
   "cell_type": "markdown",
   "metadata": {},
   "source": [
    "---"
   ]
  },
  {
   "cell_type": "markdown",
   "metadata": {},
   "source": [
    "# 1.0 Model Overview"
   ]
  },
  {
   "cell_type": "markdown",
   "metadata": {},
   "source": [
    "#### Summary of key findings and conclusions from the models"
   ]
  },
  {
   "cell_type": "markdown",
   "metadata": {},
   "source": [
    "The problem statement highlights I need to find an accurate model to predict subreddit posts. After all this is a classification problem using NLP.\n",
    "\n",
    "So in the 03_Modeling workbook I found an accurate model with the following stats:\n",
    "\n",
    "#### Model\n",
    "    + TfidfVectorizer, Logistic Regression \n",
    "\n",
    "#### Stats\n",
    "    + roc auc score 0.859 vs 0.5 benchmark\n",
    "    + accuracy 0.826 vs 0.712 benchmark\n",
    "\n",
    "\n",
    "\n",
    "It was possible to derive key words from the model. However infering anything from them was hard and they werent very insightful.\n",
    "\n",
    "\n",
    "Therefore in the '04_Further Modelling' workbook I refined a model focused on delivering key words to infer better information at the expense of accuracy. I did this by forcing the model to look for 2 or 3 word phrases rather than singular words. I looked at the posts 'title' to analyse. This is a source of key words and terms. \n",
    "\n",
    "#### Model\n",
    "    + TfidfVectorizer, Logistic Regression \n",
    "\n",
    "#### Stats\n",
    "    + roc auc score 0.774 vs 0.859 prior model\n",
    "    + accuracy 0.71 vs 0.826 benchmark\n",
    "\n",
    "\n",
    "#### Decision \n",
    "\n",
    "To best answer my problem statement I chose the second model despite lower performance. The key words were much more insightful than the first. Therefore this will answer both parts of the problem statement.\n"
   ]
  },
  {
   "cell_type": "markdown",
   "metadata": {},
   "source": [
    "# 2.0 Key findings\n",
    "\n",
    "+ The average length of the posts is greater in the data science reddit. This could imply that they are more engaged as they write more.\n",
    "\n",
    "\n",
    "+ It is possible to distinguish between the two subreddits based on their language they use by using machine learning models.\n",
    "\n",
    "\n",
    "+ In my project there was a trade off in the accuracy of the model and the amout of transparency that the model provided. \n",
    "\n",
    "\n",
    "+ The final model uncovers some interesting themes that users were posting about in the sub reddits. As a result I can reccomend a course of action for the different stakeholders."
   ]
  },
  {
   "cell_type": "markdown",
   "metadata": {},
   "source": [
    "![data_structure](images/Final_chart_key_words_20_analytics.png)"
   ]
  },
  {
   "cell_type": "markdown",
   "metadata": {},
   "source": [
    "---"
   ]
  },
  {
   "cell_type": "markdown",
   "metadata": {},
   "source": [
    "![data_structure](images/Final_chart_key_words_20_data_science.png)"
   ]
  },
  {
   "cell_type": "markdown",
   "metadata": {},
   "source": [
    "### What do the words infer about the data science and analytics?\n",
    "\n",
    "#### Data science words:\n",
    "\n",
    "+ They are generally more technical and refer to building things. \n",
    "     \n",
    "     \n",
    "+ Data Engineers for example will focus on building data pipelines which data scsinetist can use. There is disussion in the forum of doing this themselves.\n",
    "     \n",
    "     \n",
    "+ Web apps are discussed with the intention of deploying machine learning models on the cloud for people to use. Easier to share than sending jupyter notebooks.\n",
    "     \n",
    "     \n",
    "+ Data visualisation is a big part of data science and building or creating your own is a discussed and help sort on the reddit forum\n",
    "     \n",
    "     \n",
    "+ Time series analysis is about analysing a constant stream of data and trying to predict the future such as stock market analysis. Again another technical role.\n",
    "     \n",
    "     \n",
    "+ Techncal skills discussed are python and juypter notebook which is popuplar in this community.\n",
    "     \n",
    "     \n",
    "#### Analytics  words:\n",
    "\n",
    "+ They are generally more web based focused and using tools to extract data to drive business behaviours. \n",
    "\n",
    "\n",
    "+ Google analytics suite of products is popular. So analysis of web traffic and customers and trying to increase sales conversion rates is important.\n",
    "     \n",
    "     \n",
    "+ Data studio is another google tools which allows custom dashboards. Its very customizable and allows data to be manipulated easily.\n",
    "     \n",
    "     \n",
    "+ Data warehousing is a more traditional data analysis tool for storing database records over time.\n"
   ]
  },
  {
   "cell_type": "markdown",
   "metadata": {},
   "source": [
    "---"
   ]
  },
  {
   "cell_type": "markdown",
   "metadata": {},
   "source": [
    "# 3.0 Conclusion and Recommendations"
   ]
  },
  {
   "cell_type": "markdown",
   "metadata": {},
   "source": [
    "## Project Stakeholder Evaluation"
   ]
  },
  {
   "cell_type": "markdown",
   "metadata": {},
   "source": [
    "### Insights for potential employees\n",
    "\n",
    "#### Looking at the key words \n",
    "\n",
    "+ If you are interested in making models and visualisation and are more hands on in the process datascience is a good fit for you.\n",
    "\n",
    "+ If you like using pre-existing software to analyse what is happening and quickly derive key business insights analytics will be a better fit for you.\n"
   ]
  },
  {
   "cell_type": "markdown",
   "metadata": {},
   "source": [
    "### Consequences for Education providers\n",
    "\n",
    "+ Education providers can see these results and can tailor there courses or update their existing syllabuses accordingly.\n",
    "\n",
    "+ Topics such as web app development, data engineering and Data Visulaisation could be come speceific courses to meet the interest of the data science community.\n",
    "\n",
    "+ The web analytics and google suite of products are very popular so focusing on these would be a good strategy."
   ]
  },
  {
   "cell_type": "markdown",
   "metadata": {},
   "source": [
    "### Thoughts for Employers\n",
    "\n",
    "+ Marketing new jobs should be in line with what the self clasified reddit groups are interested in.\n",
    "\n",
    "+ There is no point saying a job is 'Data Science' role when it has the characteristics of an analytics role. Both parties will end up unhappy.\n",
    "\n",
    "+ The correct classification of a role will lead to better applicants and the company will be taken seriously in the respective communities as they have shown their expertise in hiring for such roles."
   ]
  },
  {
   "cell_type": "markdown",
   "metadata": {},
   "source": [
    "---"
   ]
  },
  {
   "cell_type": "markdown",
   "metadata": {},
   "source": [
    "# 4.0 Problem Statement\n",
    "\n",
    "### I have answered my problem statement as I have achieved the follwoing 2 key points:\n",
    "\n",
    "+ Created an accurate model to distinguish between 2 reddit posts\n",
    "\n",
    "\n",
    "+ Created insights from it to enable some key differences about data science and analytics to be derived.\n"
   ]
  },
  {
   "cell_type": "markdown",
   "metadata": {},
   "source": [
    "---"
   ]
  },
  {
   "cell_type": "markdown",
   "metadata": {},
   "source": [
    "# 5.0 Future Steps\n",
    "\n",
    "\n",
    "1.0 Get more data from other reddits\n",
    "\n",
    "2.0 Get more data from other blogs, forums that have similar self classfifying distinctive splits. If they are not distinct then it could dilute the findings.\n",
    "\n",
    "3.0 Linkedin project\n",
    "+ Scrape public availible records which is legal sincs 2019 to add more to the model\n",
    "    + Can get job posts to get what skills companies are looking for in the roles\n",
    "    + Can get get profiles of people doing data science and analytics roles and see what skills they say they have.\n",
    "    + Then compare the two! see if they are alligned. \n",
    "    + Add findings to key word model to create a powerful self classification of the two roles."
   ]
  },
  {
   "cell_type": "markdown",
   "metadata": {},
   "source": [
    "---"
   ]
  }
 ],
 "metadata": {
  "kernelspec": {
   "display_name": "Python 3",
   "language": "python",
   "name": "python3"
  },
  "language_info": {
   "codemirror_mode": {
    "name": "ipython",
    "version": 3
   },
   "file_extension": ".py",
   "mimetype": "text/x-python",
   "name": "python",
   "nbconvert_exporter": "python",
   "pygments_lexer": "ipython3",
   "version": "3.7.6"
  }
 },
 "nbformat": 4,
 "nbformat_minor": 4
}
