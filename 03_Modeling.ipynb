{
 "cells": [
  {
   "cell_type": "markdown",
   "metadata": {},
   "source": [
    "# 03_Modeling"
   ]
  },
  {
   "cell_type": "code",
   "execution_count": 1,
   "metadata": {},
   "outputs": [],
   "source": [
    "# load libraries\n",
    "import numpy as np\n",
    "import pandas as pd\n",
    "import seaborn as sns\n",
    "import matplotlib.pyplot as plt\n",
    "from nltk.corpus import stopwords\n",
    "from sklearn import metrics\n",
    "from sklearn.model_selection import train_test_split, cross_val_score, GridSearchCV\n",
    "from sklearn.preprocessing import PolynomialFeatures, StandardScaler\n",
    "from sklearn.feature_extraction.text import CountVectorizer, TfidfVectorizer\n",
    "from sklearn.pipeline import Pipeline\n",
    "from sklearn.naive_bayes import MultinomialNB\n",
    "from nltk.stem import PorterStemmer, WordNetLemmatizer\n",
    "from nltk.tokenize import word_tokenize \n",
    "from sklearn.metrics import confusion_matrix, roc_auc_score\n",
    "import re\n",
    "from sklearn.linear_model import LogisticRegression\n",
    "\n",
    "\n",
    "%matplotlib inline"
   ]
  },
  {
   "cell_type": "markdown",
   "metadata": {},
   "source": [
    "### Contents:\n",
    "- [1.0 Data Import](#1.0-Data-Import-and-Cleaning)\n",
    "- [2.0 Model Choice](#2.0-Model-Choice)\n",
    "- [3.0 Pre-processing](#3.0-Pre-processing)\n",
    "    - [3.1 Clean](#Train-Summary-Statistics)\n",
    "    - [3.2 Create target class](#3.2-Create-target-class)\n",
    "    - [3.3 Baseline values](#3.3-Baseline-values)\n",
    "- [4.0 Modelling](#4.0-Modelling)\n",
    "    - [4.1 Set features and Cross train split](#4.1-Set-features-and-Cross-train-split)\n",
    "    - [4.2 Posts Modelling](#4.2-Posts-Modelling)\n",
    "        - [4.2.1 CountVectoriser & Logistic Regression](#4.2.1-CountVectoriser-&-Logistic-Regression)\n",
    "        - [4.2.2 CountVectoriser & MultinomialNB](#4.2.2-CountVectoriser-&-MultinomialNB)\n",
    "        - [4.2.3 TfidfVectorizer & Logistic Regression](#4.2.3-TfidfVectorizer-&-Logistic-Regression)\n",
    "        - [4.2.4 TfidfVectorizer & MultinomialNB](#4.2.4-TfidfVectorizer-&-MultinomialNB)\n",
    "    - [4.3 Combined Modelling](#4.3-Combined-Modelling)\n",
    "        - [4.3.1 CountVectoriser & Logistic Regression](#4.3.1-CountVectoriser-&-Logistic-Regression)\n",
    "        - [4.3.2 CountVectoriser & MultinomialNB](#4.3.2-CountVectoriser-&-MultinomialNB)\n",
    "        - [4.3.3 TfidfVectorizer & Logistic Regression](#4.3.3-TfidfVectorizer-&-Logistic-Regression)\n",
    "        - [4.3.4 TfidfVectorizer & MultinomialNB](#4.3.4-TfidfVectorizer-&-MultinomialNB)\n",
    "- [5.0 Analysis](#5.0-Analysis)\n",
    "- [6.0 Production Model](#6.0-Production-Model)\n",
    "    - [6.1 Production Model Anlaysis](#6.1-Production-Model-Analysis)\n",
    "    - [6.2 Feature Extraction](#6.2-Feature-Extraction)\n",
    "- [7.0 Summary](#7.0-Summary)"
   ]
  },
  {
   "cell_type": "markdown",
   "metadata": {},
   "source": [
    "# 1.0 Data Import"
   ]
  },
  {
   "cell_type": "markdown",
   "metadata": {},
   "source": [
    "#### Get Data"
   ]
  },
  {
   "cell_type": "code",
   "execution_count": 2,
   "metadata": {},
   "outputs": [],
   "source": [
    "# Retrieve data\n",
    "posts_df = pd.read_csv('./data/post_eda/posts.csv', index_col = False)\n",
    "comments_df = pd.read_csv('./data/post_eda/comments.csv', index_col = False)"
   ]
  },
  {
   "cell_type": "code",
   "execution_count": 3,
   "metadata": {},
   "outputs": [
    {
     "data": {
      "text/plain": [
       "((1204, 17), (9321, 13))"
      ]
     },
     "execution_count": 3,
     "metadata": {},
     "output_type": "execute_result"
    }
   ],
   "source": [
    "# check shape is still correct\n",
    "posts_df.shape, comments_df.shape"
   ]
  },
  {
   "cell_type": "code",
   "execution_count": 4,
   "metadata": {},
   "outputs": [
    {
     "data": {
      "text/plain": [
       "Index(['subreddit', 'selftext', 'author_fullname', 'title', 'name',\n",
       "       'upvote_ratio', 'category', 'score', 'created', 'selftext_html', 'id',\n",
       "       'author', 'num_comments', 'permalink', 'url', 'created_utc', 'type'],\n",
       "      dtype='object')"
      ]
     },
     "execution_count": 4,
     "metadata": {},
     "output_type": "execute_result"
    }
   ],
   "source": [
    "# check columns are still correct for posts\n",
    "posts_df.columns"
   ]
  },
  {
   "cell_type": "code",
   "execution_count": 5,
   "metadata": {
    "scrolled": true
   },
   "outputs": [
    {
     "data": {
      "text/plain": [
       "Index(['id', 'author', 'score', 'author_fullname', 'body', 'body_html',\n",
       "       'permalink', 'name', 'created', 'created_utc', 'subreddit', 'link_id',\n",
       "       'type'],\n",
       "      dtype='object')"
      ]
     },
     "execution_count": 5,
     "metadata": {},
     "output_type": "execute_result"
    }
   ],
   "source": [
    "# check columns are still correct for comments\n",
    "comments_df.columns"
   ]
  },
  {
   "cell_type": "markdown",
   "metadata": {},
   "source": [
    "---"
   ]
  },
  {
   "cell_type": "markdown",
   "metadata": {},
   "source": [
    "# Model Choice"
   ]
  },
  {
   "cell_type": "markdown",
   "metadata": {},
   "source": [
    "The models I used were Multinomial Naive Bayes and Logisitic regression\n",
    "\n",
    "#### Multinomial Naive Bayes\n",
    "\n",
    "Explanation\n",
    "+  Naive Bayes models estimate the conditional probability of a particular word being in a target class. The more the word occurs in the class the higher the probability it belongs to that class. It is based on the probabilities not the frequentist approach.\n",
    "\n",
    "Weakness\n",
    "+ It assumes that there is no relationships between words and they could occur in any order. Therefore it can lose so information as it doesnt take this into account.\n",
    "\n",
    "Reason for choosing\n",
    "+ This is renowned for being a very good for NLP model\n",
    "\n",
    "+ It is possible to get the features out afterwards which will be useful for inferential statistics\n",
    "\n",
    "+ The columns will be transformed into integer counts, so MultinomialNB works the best for this.\n",
    "\n",
    "\n",
    "\n",
    "#### Logistic regression\n",
    "\n",
    "Explanation\n",
    "+ Another classfication algorithm\n",
    "\n",
    "+ Uses a sigmoid function to classify anything with 0.5 probability and above to be a 1, and anything below 0.5 to be a 0\n",
    "\n",
    "\n",
    "Reason for choosing\n",
    "+ Coeffients of the features are interpretable which is not true about all models\n",
    "+ It i s an efficient model and good for classification problems\n",
    "+ Common so widely understood\n",
    "\n",
    "\n",
    "\n",
    "#### Measurement\n",
    "\n",
    "Accuracy\n",
    "+ This is the default method Scikit uses to score its test.\n",
    "\n",
    "AUC ROC\n",
    "+ this is the false positive rate plotted against the true positive rate. The closer to 1 the better.\n",
    "\n",
    "+ For the final model I will look at the AUC ROC curve and compare to the benchmrk"
   ]
  },
  {
   "cell_type": "markdown",
   "metadata": {},
   "source": [
    "## Other methods\n",
    "#### Stop words\n",
    "> Stop Words are words which do not contain important significance.\n",
    "\n",
    "Therefore I have chosen to remove stops words so they will not create noise in the models. However I will be using TFiFD which would have probably removed them anyway becuase they would have appeared in the the majority of the posts.\n",
    "\n",
    "They can be removed by adding the hyperparameter stop_words='english' into the CountVectorizer and the TfidfVectorizer. However I have cleaned them as part of the pre-processing. This is so I can see the effect and save time during the modeling process.\n",
    "\n",
    "#### Stemming\n",
    "> Stemming is the process of reducing inflection in words to their root forms such as mapping a group of words to the same stem even if the stem itself is not a valid word in the Language.\n",
    "\n",
    "### Below is an example"
   ]
  },
  {
   "cell_type": "code",
   "execution_count": 6,
   "metadata": {},
   "outputs": [
    {
     "name": "stdout",
     "output_type": "stream",
     "text": [
      "analytical  :  analyt\n",
      "analytics  :  analyt\n",
      "analysis  :  analysi\n",
      "analyse  :  analys\n",
      "science  :  scienc\n",
      "scientist  :  scientist\n"
     ]
    }
   ],
   "source": [
    "ps = PorterStemmer() \n",
    "  \n",
    "# choose some words to be stemmed \n",
    "words = [\"analytical\",\"analytics\",\"analysis\", \"analyse\",\"science\",\"scientist\"] \n",
    "  \n",
    "for w in words: \n",
    "    print(w, \" : \", ps.stem(w)) "
   ]
  },
  {
   "cell_type": "markdown",
   "metadata": {},
   "source": [
    "In demonstrations I have seen the stemming is quite crude. Therefore I will not use. I want to try and keep the word structures as much as possible."
   ]
  },
  {
   "cell_type": "markdown",
   "metadata": {},
   "source": [
    "#### Lemmatization\n",
    "\n",
    "> Lemmatization, unlike Stemming, reduces the inflected words properly ensuring that the root word belongs to the language. In Lemmatization root word is called Lemma. A lemma (plural lemmas or lemmata) is the canonical form, dictionary form, or citation form of a set of words.\n",
    "\n",
    "I will try this lemmatizing and see what the impact is.\n",
    "+ My concern is that the words analytics and analytical would be reduced to the same stem but have very different meanings but it also may have a better amalgamation and provide better results for the model.\n",
    "\n",
    "\n",
    "\n",
    "Source: [Datacamp](https://www.datacamp.com/community/tutorials/stemming-lemmatization-python)"
   ]
  },
  {
   "cell_type": "markdown",
   "metadata": {},
   "source": [
    "---"
   ]
  },
  {
   "cell_type": "markdown",
   "metadata": {},
   "source": [
    "# 3.0 Pre-processing"
   ]
  },
  {
   "cell_type": "markdown",
   "metadata": {},
   "source": [
    "## 3.1 Clean"
   ]
  },
  {
   "cell_type": "code",
   "execution_count": 7,
   "metadata": {},
   "outputs": [],
   "source": [
    "# Instantiate lemmatizer. (Same as above.)\n",
    "lemmatizer = WordNetLemmatizer()"
   ]
  },
  {
   "cell_type": "code",
   "execution_count": 8,
   "metadata": {},
   "outputs": [],
   "source": [
    "# Function to convert a raw text into clean data for the model\n",
    "\n",
    "def clean_text(text):\n",
    "    \n",
    "    # 1. Remove non-letters.\n",
    "    letters_only = re.sub(\"[^a-zA-Z]\", \" \", text)\n",
    "    \n",
    "    # 2. Convert to lower case, split into individual words.\n",
    "    words = letters_only.lower().split()\n",
    "    \n",
    "    # 3. Stop words could be removed as a hyperparameter later but I think it\n",
    "    # will be best to do it here and save on run time\n",
    "    stops = set(stopwords.words('english'))\n",
    "    meaningful_words = [w for w in words if not w in stops]\n",
    "    \n",
    "    # 4.Lemmatize the words\n",
    "    lemmatized_words = [lemmatizer.lemmatize(i) for i in meaningful_words]\n",
    "    \n",
    "    # 5. Join the words back into one string separated by space, \n",
    "    # and return the result.\n",
    "    return(\" \".join(lemmatized_words))\n"
   ]
  },
  {
   "cell_type": "code",
   "execution_count": 9,
   "metadata": {},
   "outputs": [
    {
     "name": "stdout",
     "output_type": "stream",
     "text": [
      "Hello all,\n",
      "\n",
      "I am a Data Scientist at a Fortune 500 company, with a PhD in Electrical Engineering. For the last 5 years, I thought myself Python and Data Science and progressed a lot in that arena. I wanted some change after 5 years in the same company and wanted to explore options. Amazon AWS Pro Serve sounded interesting as you get to work with different companies. I did not want to work on a deep Machine Learning Problem on my cubicle (after corona, for now home desk :) ). I was excited about meeting new people and potentially solving data problems for different industries.\n",
      "\n",
      "Am I making a right choice? Is Pro-serve considered to be same with, say \"Applied scientist\" role in AWS (asking in regards to: 1) career growth, 2) reputation and 3) financial) ? Is meeting new people and potentially gaining more exposure to different industries in Pro-serve a naive way of thinking? As we all know customer's behaviors can vary.\n",
      "\n",
      "All in all I thought, exposing myself to different people and industries, in the future can help me even become an independent consultant, yes? Whereas If I am an applied scientist, I need to be deeply involved in \"creating the AWS tools from scratch\" vs using them in the AWS Pro-serve role.\n",
      "\n",
      "If you have any experience with AWS Pro-serve data scientist roles, please chime in. Thanks in advance.\n",
      "\n",
      "Edit: Also I want to mention the bad work/life balance rumors AWS has. I, for some reason, assumed AWS pro-serve may be different, and hopefully more balanced. But I do not have enough evidence to say neither for sure.\n"
     ]
    }
   ],
   "source": [
    "# Check the before\n",
    "print(posts_df.iloc[1,1])"
   ]
  },
  {
   "cell_type": "code",
   "execution_count": 10,
   "metadata": {},
   "outputs": [
    {
     "name": "stdout",
     "output_type": "stream",
     "text": [
      "i'm a full-time data \"scientist\" and my work is basically split between SWE/Data Engineering and business analytics with some modelling thrown in. most data scientists don't do research and don't follow the scientific method. i know the job title today is basically a misnomer, but what were people thinking when they thought this kind of work resembled \"science\"? what did OG data scientists do that made their work scientific?\n"
     ]
    }
   ],
   "source": [
    "print(posts_df.iloc[35,1])"
   ]
  },
  {
   "cell_type": "code",
   "execution_count": 11,
   "metadata": {},
   "outputs": [],
   "source": [
    "posts_df['selftext'] = [clean_text(words) for words in posts_df['selftext']]"
   ]
  },
  {
   "cell_type": "code",
   "execution_count": 12,
   "metadata": {},
   "outputs": [
    {
     "name": "stdout",
     "output_type": "stream",
     "text": [
      "hello data scientist fortune company phd electrical engineering last year thought python data science progressed lot arena wanted change year company wanted explore option amazon aws pro serve sounded interesting get work different company want work deep machine learning problem cubicle corona home desk excited meeting new people potentially solving data problem different industry making right choice pro serve considered say applied scientist role aws asking regard career growth reputation financial meeting new people potentially gaining exposure different industry pro serve naive way thinking know customer behavior vary thought exposing different people industry future help even become independent consultant yes whereas applied scientist need deeply involved creating aws tool scratch v using aws pro serve role experience aws pro serve data scientist role please chime thanks advance edit also want mention bad work life balance rumor aws reason assumed aws pro serve may different hopefully balanced enough evidence say neither sure\n"
     ]
    }
   ],
   "source": [
    "# check after \n",
    "print(posts_df.iloc[1,1])"
   ]
  },
  {
   "cell_type": "code",
   "execution_count": 13,
   "metadata": {},
   "outputs": [
    {
     "name": "stdout",
     "output_type": "stream",
     "text": [
      "full time data scientist work basically split swe data engineering business analytics modelling thrown data scientist research follow scientific method know job title today basically misnomer people thinking thought kind work resembled science og data scientist made work scientific\n"
     ]
    }
   ],
   "source": [
    "# check after \n",
    "print(posts_df.iloc[35,1])"
   ]
  },
  {
   "cell_type": "markdown",
   "metadata": {},
   "source": [
    "---"
   ]
  },
  {
   "cell_type": "markdown",
   "metadata": {},
   "source": [
    "## 3.2 Create target class"
   ]
  },
  {
   "cell_type": "code",
   "execution_count": 14,
   "metadata": {},
   "outputs": [],
   "source": [
    "posts_df['target'] = [1 if x == 'datascience' else 0 for x in posts_df['subreddit']]"
   ]
  },
  {
   "cell_type": "code",
   "execution_count": 15,
   "metadata": {},
   "outputs": [],
   "source": [
    "comments_df['target'] = [1 if x == 'datascience' else 0 for x in comments_df['subreddit']]"
   ]
  },
  {
   "cell_type": "code",
   "execution_count": 16,
   "metadata": {},
   "outputs": [
    {
     "data": {
      "text/plain": [
       "0    643\n",
       "1    561\n",
       "Name: target, dtype: int64"
      ]
     },
     "execution_count": 16,
     "metadata": {},
     "output_type": "execute_result"
    }
   ],
   "source": [
    "posts_df['target'].value_counts()"
   ]
  },
  {
   "cell_type": "code",
   "execution_count": 17,
   "metadata": {},
   "outputs": [
    {
     "data": {
      "text/plain": [
       "1    6942\n",
       "0    2379\n",
       "Name: target, dtype: int64"
      ]
     },
     "execution_count": 17,
     "metadata": {},
     "output_type": "execute_result"
    }
   ],
   "source": [
    "comments_df['target'].value_counts()"
   ]
  },
  {
   "cell_type": "markdown",
   "metadata": {},
   "source": [
    "## 3.3 Baseline values"
   ]
  },
  {
   "cell_type": "code",
   "execution_count": 18,
   "metadata": {
    "scrolled": true
   },
   "outputs": [
    {
     "data": {
      "text/plain": [
       "0    0.534053\n",
       "1    0.465947\n",
       "Name: target, dtype: float64"
      ]
     },
     "execution_count": 18,
     "metadata": {},
     "output_type": "execute_result"
    }
   ],
   "source": [
    "posts_df['target'].value_counts(normalize=True)"
   ]
  },
  {
   "cell_type": "markdown",
   "metadata": {},
   "source": [
    "###  Observations\n",
    "Therefore if I said everything was in the analytics class then I would be correct 53% of the time."
   ]
  },
  {
   "cell_type": "code",
   "execution_count": 19,
   "metadata": {},
   "outputs": [
    {
     "data": {
      "text/plain": [
       "0    643\n",
       "1    561\n",
       "Name: target, dtype: int64"
      ]
     },
     "execution_count": 19,
     "metadata": {},
     "output_type": "execute_result"
    }
   ],
   "source": [
    "posts_df['target'].value_counts()"
   ]
  },
  {
   "cell_type": "code",
   "execution_count": 20,
   "metadata": {},
   "outputs": [
    {
     "data": {
      "text/plain": [
       "1    6942\n",
       "0    2379\n",
       "Name: target, dtype: int64"
      ]
     },
     "execution_count": 20,
     "metadata": {},
     "output_type": "execute_result"
    }
   ],
   "source": [
    "comments_df['target'].value_counts()"
   ]
  },
  {
   "cell_type": "code",
   "execution_count": 21,
   "metadata": {},
   "outputs": [],
   "source": [
    "# Create combined baseline score\n",
    "total_value = len(posts_df) + len(comments_df)\n",
    "total_1 = posts_df['target'].value_counts()[1] + comments_df['target'].value_counts()[1]\n",
    "total_0 = posts_df['target'].value_counts()[0] + comments_df['target'].value_counts()[0]"
   ]
  },
  {
   "cell_type": "code",
   "execution_count": 22,
   "metadata": {},
   "outputs": [
    {
     "data": {
      "text/plain": [
       "(0.7128741092636579, 0.28712589073634204)"
      ]
     },
     "execution_count": 22,
     "metadata": {},
     "output_type": "execute_result"
    }
   ],
   "source": [
    "total_1/total_value , total_0/total_value"
   ]
  },
  {
   "cell_type": "markdown",
   "metadata": {},
   "source": [
    "###  Observations\n",
    "\n",
    "Combined: If I said everything was in the Datascience class then I would be correct 71% of the time.\n",
    "\n",
    "It also hightlights I will need to stratify the data as there is a class inbalance, especially for the combined data.\n"
   ]
  },
  {
   "cell_type": "markdown",
   "metadata": {},
   "source": [
    "---"
   ]
  },
  {
   "cell_type": "code",
   "execution_count": 23,
   "metadata": {},
   "outputs": [],
   "source": [
    "# Save processed data\n",
    "posts_df.to_csv('./data/processed_posts/clean_posts.csv', index = False)"
   ]
  },
  {
   "cell_type": "markdown",
   "metadata": {},
   "source": [
    "---"
   ]
  },
  {
   "cell_type": "markdown",
   "metadata": {},
   "source": [
    "# 4.0 Modelling"
   ]
  },
  {
   "cell_type": "markdown",
   "metadata": {},
   "source": [
    "## 4.1 Set features and Cross train split\n"
   ]
  },
  {
   "cell_type": "code",
   "execution_count": 24,
   "metadata": {},
   "outputs": [],
   "source": [
    "X = posts_df['selftext'].tolist()\n",
    "y = posts_df['target']"
   ]
  },
  {
   "cell_type": "code",
   "execution_count": 25,
   "metadata": {},
   "outputs": [],
   "source": [
    "# cross train split"
   ]
  },
  {
   "cell_type": "code",
   "execution_count": 26,
   "metadata": {},
   "outputs": [],
   "source": [
    "X_train, X_test, y_train, y_test = train_test_split(X, y, stratify=y, random_state=42)"
   ]
  },
  {
   "cell_type": "code",
   "execution_count": 27,
   "metadata": {
    "scrolled": true
   },
   "outputs": [
    {
     "data": {
      "text/plain": [
       "(903, 301, 903, 301)"
      ]
     },
     "execution_count": 27,
     "metadata": {},
     "output_type": "execute_result"
    }
   ],
   "source": [
    "len(X_train), len(X_test), len(y_train), len(y_test)"
   ]
  },
  {
   "cell_type": "markdown",
   "metadata": {},
   "source": [
    "## 4.2 Posts Modelling"
   ]
  },
  {
   "cell_type": "markdown",
   "metadata": {},
   "source": [
    "###  4.2.1 CountVectoriser & Logistic Regression"
   ]
  },
  {
   "cell_type": "code",
   "execution_count": 28,
   "metadata": {},
   "outputs": [],
   "source": [
    "# cvec = CountVectorizer()"
   ]
  },
  {
   "cell_type": "code",
   "execution_count": 29,
   "metadata": {
    "scrolled": true
   },
   "outputs": [],
   "source": [
    "# cvec.fit(X_train)"
   ]
  },
  {
   "cell_type": "code",
   "execution_count": 30,
   "metadata": {},
   "outputs": [],
   "source": [
    "# Create models\n",
    "\n",
    "# try logistic regression"
   ]
  },
  {
   "cell_type": "code",
   "execution_count": 31,
   "metadata": {},
   "outputs": [],
   "source": [
    "pipe1 = Pipeline([\n",
    "    ('cvec', CountVectorizer()),\n",
    "    ('lr', LogisticRegression())\n",
    "])"
   ]
  },
  {
   "cell_type": "code",
   "execution_count": 32,
   "metadata": {},
   "outputs": [
    {
     "name": "stdout",
     "output_type": "stream",
     "text": [
      "0.8361080417434008\n",
      "CPU times: user 46.5 s, sys: 117 ms, total: 46.6 s\n",
      "Wall time: 46.7 s\n"
     ]
    }
   ],
   "source": [
    "%%time\n",
    "pipe_params = {\n",
    "    'cvec__max_features': [2000,3500],\n",
    "    'cvec__min_df': [2, 3],\n",
    "    'cvec__max_df': [0.85, .9],\n",
    "    'cvec__ngram_range': [(1,1),(1,2), (2,3)],\n",
    "    'cvec__stop_words':[\"english\"],\n",
    "    'lr__C': [1,0.1,0.01],\n",
    "    'lr__max_iter': [1000]\n",
    "}\n",
    "gs_cv = GridSearchCV(pipe1, param_grid=pipe_params)\n",
    "gs_cv.fit(X_train, y_train)\n",
    "print(gs_cv.best_score_)"
   ]
  },
  {
   "cell_type": "code",
   "execution_count": 33,
   "metadata": {},
   "outputs": [
    {
     "data": {
      "text/plain": [
       "0.9689922480620154"
      ]
     },
     "execution_count": 33,
     "metadata": {},
     "output_type": "execute_result"
    }
   ],
   "source": [
    "gs_cv.score(X_train, y_train)"
   ]
  },
  {
   "cell_type": "code",
   "execution_count": 34,
   "metadata": {},
   "outputs": [
    {
     "data": {
      "text/plain": [
       "0.8272425249169435"
      ]
     },
     "execution_count": 34,
     "metadata": {},
     "output_type": "execute_result"
    }
   ],
   "source": [
    "gs_cv.score(X_test, y_test)"
   ]
  },
  {
   "cell_type": "code",
   "execution_count": 35,
   "metadata": {},
   "outputs": [
    {
     "data": {
      "text/plain": [
       "{'cvec__max_df': 0.85,\n",
       " 'cvec__max_features': 3500,\n",
       " 'cvec__min_df': 2,\n",
       " 'cvec__ngram_range': (1, 2),\n",
       " 'cvec__stop_words': 'english',\n",
       " 'lr__C': 0.1,\n",
       " 'lr__max_iter': 1000}"
      ]
     },
     "execution_count": 35,
     "metadata": {},
     "output_type": "execute_result"
    }
   ],
   "source": [
    "gs_cv.best_params_"
   ]
  },
  {
   "cell_type": "markdown",
   "metadata": {},
   "source": [
    "---"
   ]
  },
  {
   "cell_type": "markdown",
   "metadata": {},
   "source": [
    "###  4.2.2 CountVectorizer & MultinomialNB"
   ]
  },
  {
   "cell_type": "code",
   "execution_count": 36,
   "metadata": {},
   "outputs": [],
   "source": [
    "pipe_mnb = Pipeline([\n",
    "    ('cvec', CountVectorizer()),\n",
    "    ('mnb', MultinomialNB())\n",
    "])"
   ]
  },
  {
   "cell_type": "code",
   "execution_count": 37,
   "metadata": {},
   "outputs": [],
   "source": [
    "pipe_params_mnb = {\n",
    "    'cvec__max_features': [1000,2000,3500],\n",
    "    'cvec__min_df': [2, 3],\n",
    "    'cvec__max_df': [0.85, .9],\n",
    "    'cvec__ngram_range': [(1,1),(1,2), (2,3)],\n",
    "    'cvec__stop_words':[\"english\"],\n",
    "    'mnb__alpha': [0.01,0.5,1.0],\n",
    "}"
   ]
  },
  {
   "cell_type": "code",
   "execution_count": 38,
   "metadata": {},
   "outputs": [
    {
     "name": "stdout",
     "output_type": "stream",
     "text": [
      "0.8294597912829957\n",
      "CPU times: user 1min 2s, sys: 132 ms, total: 1min 2s\n",
      "Wall time: 1min 2s\n"
     ]
    }
   ],
   "source": [
    "%%time\n",
    "gs_mnb = GridSearchCV(pipe_mnb, param_grid=pipe_params_mnb)\n",
    "gs_mnb.fit(X_train, y_train)\n",
    "print(gs_mnb.best_score_)"
   ]
  },
  {
   "cell_type": "code",
   "execution_count": 39,
   "metadata": {},
   "outputs": [
    {
     "data": {
      "text/plain": [
       "{'cvec__max_df': 0.85,\n",
       " 'cvec__max_features': 3500,\n",
       " 'cvec__min_df': 3,\n",
       " 'cvec__ngram_range': (1, 2),\n",
       " 'cvec__stop_words': 'english',\n",
       " 'mnb__alpha': 0.01}"
      ]
     },
     "execution_count": 39,
     "metadata": {},
     "output_type": "execute_result"
    }
   ],
   "source": [
    "gs_mnb.best_params_"
   ]
  },
  {
   "cell_type": "code",
   "execution_count": 40,
   "metadata": {},
   "outputs": [
    {
     "data": {
      "text/plain": [
       "0.9568106312292359"
      ]
     },
     "execution_count": 40,
     "metadata": {},
     "output_type": "execute_result"
    }
   ],
   "source": [
    "gs_mnb.score(X_train, y_train)"
   ]
  },
  {
   "cell_type": "code",
   "execution_count": 41,
   "metadata": {},
   "outputs": [
    {
     "data": {
      "text/plain": [
       "0.8471760797342193"
      ]
     },
     "execution_count": 41,
     "metadata": {},
     "output_type": "execute_result"
    }
   ],
   "source": [
    "gs_mnb.score(X_test, y_test)"
   ]
  },
  {
   "cell_type": "markdown",
   "metadata": {},
   "source": [
    "---"
   ]
  },
  {
   "cell_type": "markdown",
   "metadata": {},
   "source": [
    "###  4.2.3 TfidfVectorizer & Logistic Regression"
   ]
  },
  {
   "cell_type": "code",
   "execution_count": 42,
   "metadata": {},
   "outputs": [],
   "source": [
    "## Test out TF-iDF see if its better"
   ]
  },
  {
   "cell_type": "code",
   "execution_count": 43,
   "metadata": {},
   "outputs": [],
   "source": [
    "pipe2 = Pipeline([\n",
    "    ('tvec', TfidfVectorizer()),\n",
    "    ('lr', LogisticRegression())\n",
    "])"
   ]
  },
  {
   "cell_type": "code",
   "execution_count": 44,
   "metadata": {},
   "outputs": [],
   "source": [
    "pipe_params = {\n",
    "    'tvec__max_features': [1000,2000,3500],\n",
    "    'tvec__min_df': [2, 3],\n",
    "    'tvec__max_df': [.9, .95],\n",
    "    'tvec__ngram_range': [(1,1),(1,2), (2,3)],\n",
    "    'tvec__stop_words':[\"english\"],\n",
    "    'lr__C': [1,0.1,0.01],\n",
    "    'lr__max_iter': [1000]\n",
    "}"
   ]
  },
  {
   "cell_type": "code",
   "execution_count": 45,
   "metadata": {
    "scrolled": true
   },
   "outputs": [
    {
     "name": "stdout",
     "output_type": "stream",
     "text": [
      "0.8305524861878453\n",
      "CPU times: user 1min 5s, sys: 135 ms, total: 1min 6s\n",
      "Wall time: 1min 6s\n"
     ]
    }
   ],
   "source": [
    "%%time\n",
    "\n",
    "gs_tf = GridSearchCV(pipe2, param_grid=pipe_params)\n",
    "gs_tf.fit(X_train, y_train)\n",
    "print(gs_tf.best_score_)"
   ]
  },
  {
   "cell_type": "code",
   "execution_count": 46,
   "metadata": {},
   "outputs": [
    {
     "data": {
      "text/plain": [
       "0.9512735326688815"
      ]
     },
     "execution_count": 46,
     "metadata": {},
     "output_type": "execute_result"
    }
   ],
   "source": [
    "gs_tf.score(X_train, y_train)"
   ]
  },
  {
   "cell_type": "code",
   "execution_count": 47,
   "metadata": {},
   "outputs": [
    {
     "data": {
      "text/plain": [
       "0.8471760797342193"
      ]
     },
     "execution_count": 47,
     "metadata": {},
     "output_type": "execute_result"
    }
   ],
   "source": [
    "gs_tf.score(X_test, y_test)"
   ]
  },
  {
   "cell_type": "markdown",
   "metadata": {},
   "source": [
    "---"
   ]
  },
  {
   "cell_type": "markdown",
   "metadata": {},
   "source": [
    "###  4.2.4 TfidfVectorizer & MultinomialNB"
   ]
  },
  {
   "cell_type": "code",
   "execution_count": 48,
   "metadata": {},
   "outputs": [],
   "source": [
    "# try mnb"
   ]
  },
  {
   "cell_type": "code",
   "execution_count": 49,
   "metadata": {},
   "outputs": [],
   "source": [
    "pipe_mnb_tvec = Pipeline([\n",
    "    ('tvec', TfidfVectorizer()),\n",
    "    ('mnb', MultinomialNB())\n",
    "])"
   ]
  },
  {
   "cell_type": "code",
   "execution_count": 50,
   "metadata": {},
   "outputs": [],
   "source": [
    "pipe_params_mnb_tvec = {\n",
    "    'tvec__max_features': [500,1000,2000],\n",
    "    'tvec__min_df': [2, 3],\n",
    "    'tvec__max_df': [0.85,0.9],\n",
    "    'tvec__ngram_range': [(1,1), (1,2), (2,3)],\n",
    "    'tvec__stop_words':[\"english\"],\n",
    "    'mnb__alpha': [0.01,0.5,1.0]\n",
    "}"
   ]
  },
  {
   "cell_type": "code",
   "execution_count": 51,
   "metadata": {},
   "outputs": [
    {
     "name": "stdout",
     "output_type": "stream",
     "text": [
      "0.8261141804788213\n",
      "CPU times: user 1min 3s, sys: 133 ms, total: 1min 3s\n",
      "Wall time: 1min 3s\n"
     ]
    }
   ],
   "source": [
    "%%time\n",
    "gs_mnb_tvec = GridSearchCV(pipe_mnb_tvec, param_grid=pipe_params_mnb_tvec)\n",
    "gs_mnb_tvec.fit(X_train, y_train)\n",
    "print(gs_mnb_tvec.best_score_)"
   ]
  },
  {
   "cell_type": "code",
   "execution_count": 52,
   "metadata": {
    "scrolled": true
   },
   "outputs": [
    {
     "data": {
      "text/plain": [
       "Pipeline(memory=None,\n",
       "         steps=[('tvec',\n",
       "                 TfidfVectorizer(analyzer='word', binary=False,\n",
       "                                 decode_error='strict',\n",
       "                                 dtype=<class 'numpy.float64'>,\n",
       "                                 encoding='utf-8', input='content',\n",
       "                                 lowercase=True, max_df=0.85, max_features=1000,\n",
       "                                 min_df=2, ngram_range=(1, 2), norm='l2',\n",
       "                                 preprocessor=None, smooth_idf=True,\n",
       "                                 stop_words='english', strip_accents=None,\n",
       "                                 sublinear_tf=False,\n",
       "                                 token_pattern='(?u)\\\\b\\\\w\\\\w+\\\\b',\n",
       "                                 tokenizer=None, use_idf=True,\n",
       "                                 vocabulary=None)),\n",
       "                ('mnb',\n",
       "                 MultinomialNB(alpha=1.0, class_prior=None, fit_prior=True))],\n",
       "         verbose=False)"
      ]
     },
     "execution_count": 52,
     "metadata": {},
     "output_type": "execute_result"
    }
   ],
   "source": [
    "gs_mnb_tvec.best_estimator_"
   ]
  },
  {
   "cell_type": "code",
   "execution_count": 53,
   "metadata": {},
   "outputs": [
    {
     "data": {
      "text/plain": [
       "0.8981173864894795"
      ]
     },
     "execution_count": 53,
     "metadata": {},
     "output_type": "execute_result"
    }
   ],
   "source": [
    "gs_mnb_tvec.score(X_train, y_train)"
   ]
  },
  {
   "cell_type": "code",
   "execution_count": 54,
   "metadata": {},
   "outputs": [
    {
     "data": {
      "text/plain": [
       "0.8239202657807309"
      ]
     },
     "execution_count": 54,
     "metadata": {},
     "output_type": "execute_result"
    }
   ],
   "source": [
    "gs_mnb_tvec.score(X_test, y_test)"
   ]
  },
  {
   "cell_type": "markdown",
   "metadata": {},
   "source": [
    "---"
   ]
  },
  {
   "cell_type": "markdown",
   "metadata": {},
   "source": [
    "## Combined Modelling\n"
   ]
  },
  {
   "cell_type": "markdown",
   "metadata": {},
   "source": [
    "### Combine datasets"
   ]
  },
  {
   "cell_type": "code",
   "execution_count": 55,
   "metadata": {},
   "outputs": [
    {
     "data": {
      "text/plain": [
       "Index(['id', 'author', 'score', 'author_fullname', 'permalink', 'name',\n",
       "       'created', 'created_utc', 'subreddit', 'type', 'target'],\n",
       "      dtype='object')"
      ]
     },
     "execution_count": 55,
     "metadata": {},
     "output_type": "execute_result"
    }
   ],
   "source": [
    "## Join posts and comments to see if it impoves the scores\n",
    "comments_df.columns.intersection(posts_df.columns)"
   ]
  },
  {
   "cell_type": "code",
   "execution_count": 56,
   "metadata": {},
   "outputs": [],
   "source": [
    "cols_to_keep = ['selftext','author','author_fullname','score','title','id','subreddit','type','target']"
   ]
  },
  {
   "cell_type": "code",
   "execution_count": 57,
   "metadata": {},
   "outputs": [],
   "source": [
    "# Get the columns back from the posts and comments dataframes\n",
    "comments_df.rename(columns={'body':'selftext'}, inplace=True)"
   ]
  },
  {
   "cell_type": "code",
   "execution_count": 58,
   "metadata": {},
   "outputs": [],
   "source": [
    "comments_df['title'] = ''"
   ]
  },
  {
   "cell_type": "code",
   "execution_count": 59,
   "metadata": {},
   "outputs": [],
   "source": [
    "combined_df = posts_df[cols_to_keep].append(comments_df[cols_to_keep])"
   ]
  },
  {
   "cell_type": "code",
   "execution_count": 60,
   "metadata": {},
   "outputs": [],
   "source": [
    "combined_df.reset_index(drop=True, inplace=True)"
   ]
  },
  {
   "cell_type": "code",
   "execution_count": 61,
   "metadata": {},
   "outputs": [
    {
     "data": {
      "text/html": [
       "<div>\n",
       "<style scoped>\n",
       "    .dataframe tbody tr th:only-of-type {\n",
       "        vertical-align: middle;\n",
       "    }\n",
       "\n",
       "    .dataframe tbody tr th {\n",
       "        vertical-align: top;\n",
       "    }\n",
       "\n",
       "    .dataframe thead th {\n",
       "        text-align: right;\n",
       "    }\n",
       "</style>\n",
       "<table border=\"1\" class=\"dataframe\">\n",
       "  <thead>\n",
       "    <tr style=\"text-align: right;\">\n",
       "      <th></th>\n",
       "      <th>selftext</th>\n",
       "      <th>author</th>\n",
       "      <th>author_fullname</th>\n",
       "      <th>score</th>\n",
       "      <th>title</th>\n",
       "      <th>id</th>\n",
       "      <th>subreddit</th>\n",
       "      <th>type</th>\n",
       "      <th>target</th>\n",
       "    </tr>\n",
       "  </thead>\n",
       "  <tbody>\n",
       "    <tr>\n",
       "      <th>0</th>\n",
       "      <td>welcome week entering amp transitioning thread...</td>\n",
       "      <td>datascience-bot</td>\n",
       "      <td>t2_4l4cxw07</td>\n",
       "      <td>1.0</td>\n",
       "      <td>Weekly Entering &amp;amp; Transitioning Thread | 2...</td>\n",
       "      <td>hd5t6m</td>\n",
       "      <td>datascience</td>\n",
       "      <td>post</td>\n",
       "      <td>1</td>\n",
       "    </tr>\n",
       "    <tr>\n",
       "      <th>1</th>\n",
       "      <td>hello data scientist fortune company phd elect...</td>\n",
       "      <td>GreenerCar</td>\n",
       "      <td>t2_1jwhofnt</td>\n",
       "      <td>94.0</td>\n",
       "      <td>Amazon AWS Pro-Serve Data Scientist is it a go...</td>\n",
       "      <td>hcxeno</td>\n",
       "      <td>datascience</td>\n",
       "      <td>post</td>\n",
       "      <td>1</td>\n",
       "    </tr>\n",
       "    <tr>\n",
       "      <th>2</th>\n",
       "      <td>hi friend mine msc trying figure implementatio...</td>\n",
       "      <td>takathur</td>\n",
       "      <td>t2_3b84s1v5</td>\n",
       "      <td>4.0</td>\n",
       "      <td>Help with implementation of a paper about Imba...</td>\n",
       "      <td>hd4xlb</td>\n",
       "      <td>datascience</td>\n",
       "      <td>post</td>\n",
       "      <td>1</td>\n",
       "    </tr>\n",
       "    <tr>\n",
       "      <th>3</th>\n",
       "      <td>planning move toronto heard salary lower tax h...</td>\n",
       "      <td>remembr_this</td>\n",
       "      <td>t2_6ltcva0l</td>\n",
       "      <td>17.0</td>\n",
       "      <td>How are data science salaries in Montreal for ...</td>\n",
       "      <td>hcyrod</td>\n",
       "      <td>datascience</td>\n",
       "      <td>post</td>\n",
       "      <td>1</td>\n",
       "    </tr>\n",
       "    <tr>\n",
       "      <th>4</th>\n",
       "      <td>data science student even better data science ...</td>\n",
       "      <td>JDC_NITSUj</td>\n",
       "      <td>t2_12a3u30h</td>\n",
       "      <td>1.0</td>\n",
       "      <td>Seeking information about Data Science as a Un...</td>\n",
       "      <td>hd80l2</td>\n",
       "      <td>datascience</td>\n",
       "      <td>post</td>\n",
       "      <td>1</td>\n",
       "    </tr>\n",
       "  </tbody>\n",
       "</table>\n",
       "</div>"
      ],
      "text/plain": [
       "                                            selftext           author  \\\n",
       "0  welcome week entering amp transitioning thread...  datascience-bot   \n",
       "1  hello data scientist fortune company phd elect...       GreenerCar   \n",
       "2  hi friend mine msc trying figure implementatio...         takathur   \n",
       "3  planning move toronto heard salary lower tax h...     remembr_this   \n",
       "4  data science student even better data science ...       JDC_NITSUj   \n",
       "\n",
       "  author_fullname  score                                              title  \\\n",
       "0     t2_4l4cxw07    1.0  Weekly Entering &amp; Transitioning Thread | 2...   \n",
       "1     t2_1jwhofnt   94.0  Amazon AWS Pro-Serve Data Scientist is it a go...   \n",
       "2     t2_3b84s1v5    4.0  Help with implementation of a paper about Imba...   \n",
       "3     t2_6ltcva0l   17.0  How are data science salaries in Montreal for ...   \n",
       "4     t2_12a3u30h    1.0  Seeking information about Data Science as a Un...   \n",
       "\n",
       "       id    subreddit  type  target  \n",
       "0  hd5t6m  datascience  post       1  \n",
       "1  hcxeno  datascience  post       1  \n",
       "2  hd4xlb  datascience  post       1  \n",
       "3  hcyrod  datascience  post       1  \n",
       "4  hd80l2  datascience  post       1  "
      ]
     },
     "execution_count": 61,
     "metadata": {},
     "output_type": "execute_result"
    }
   ],
   "source": [
    "combined_df.head()"
   ]
  },
  {
   "cell_type": "code",
   "execution_count": 62,
   "metadata": {},
   "outputs": [
    {
     "data": {
      "text/html": [
       "<div>\n",
       "<style scoped>\n",
       "    .dataframe tbody tr th:only-of-type {\n",
       "        vertical-align: middle;\n",
       "    }\n",
       "\n",
       "    .dataframe tbody tr th {\n",
       "        vertical-align: top;\n",
       "    }\n",
       "\n",
       "    .dataframe thead th {\n",
       "        text-align: right;\n",
       "    }\n",
       "</style>\n",
       "<table border=\"1\" class=\"dataframe\">\n",
       "  <thead>\n",
       "    <tr style=\"text-align: right;\">\n",
       "      <th></th>\n",
       "      <th>selftext</th>\n",
       "      <th>author</th>\n",
       "      <th>author_fullname</th>\n",
       "      <th>score</th>\n",
       "      <th>title</th>\n",
       "      <th>id</th>\n",
       "      <th>subreddit</th>\n",
       "      <th>type</th>\n",
       "      <th>target</th>\n",
       "    </tr>\n",
       "  </thead>\n",
       "  <tbody>\n",
       "    <tr>\n",
       "      <th>10520</th>\n",
       "      <td>I'm willing to bet that you have some type of ...</td>\n",
       "      <td>againer</td>\n",
       "      <td>t2_3tddk</td>\n",
       "      <td>1.0</td>\n",
       "      <td></td>\n",
       "      <td>fdoh9qq</td>\n",
       "      <td>analytics</td>\n",
       "      <td>comment</td>\n",
       "      <td>0</td>\n",
       "    </tr>\n",
       "    <tr>\n",
       "      <th>10521</th>\n",
       "      <td>why are you comparing link clicks to sessions?...</td>\n",
       "      <td>SchruteFarmsPA</td>\n",
       "      <td>t2_8eq1x</td>\n",
       "      <td>1.0</td>\n",
       "      <td></td>\n",
       "      <td>fdpbgo2</td>\n",
       "      <td>analytics</td>\n",
       "      <td>comment</td>\n",
       "      <td>0</td>\n",
       "    </tr>\n",
       "    <tr>\n",
       "      <th>10522</th>\n",
       "      <td>I would suggest this approach, albeit a bit ho...</td>\n",
       "      <td>Derangedteddy</td>\n",
       "      <td>t2_19vluyoo</td>\n",
       "      <td>3.0</td>\n",
       "      <td></td>\n",
       "      <td>fdoufyv</td>\n",
       "      <td>analytics</td>\n",
       "      <td>comment</td>\n",
       "      <td>0</td>\n",
       "    </tr>\n",
       "    <tr>\n",
       "      <th>10523</th>\n",
       "      <td>This does not really sound like a seasonality ...</td>\n",
       "      <td>SlightOcelot</td>\n",
       "      <td>t2_1sh9yqtk</td>\n",
       "      <td>1.0</td>\n",
       "      <td></td>\n",
       "      <td>fdqguc9</td>\n",
       "      <td>analytics</td>\n",
       "      <td>comment</td>\n",
       "      <td>0</td>\n",
       "    </tr>\n",
       "    <tr>\n",
       "      <th>10524</th>\n",
       "      <td>Not sure if this would be too technical (altho...</td>\n",
       "      <td>Welcome2B_Here</td>\n",
       "      <td>t2_42o1yrn2</td>\n",
       "      <td>2.0</td>\n",
       "      <td></td>\n",
       "      <td>fdnhdiv</td>\n",
       "      <td>analytics</td>\n",
       "      <td>comment</td>\n",
       "      <td>0</td>\n",
       "    </tr>\n",
       "  </tbody>\n",
       "</table>\n",
       "</div>"
      ],
      "text/plain": [
       "                                                selftext          author  \\\n",
       "10520  I'm willing to bet that you have some type of ...         againer   \n",
       "10521  why are you comparing link clicks to sessions?...  SchruteFarmsPA   \n",
       "10522  I would suggest this approach, albeit a bit ho...   Derangedteddy   \n",
       "10523  This does not really sound like a seasonality ...    SlightOcelot   \n",
       "10524  Not sure if this would be too technical (altho...  Welcome2B_Here   \n",
       "\n",
       "      author_fullname  score title       id  subreddit     type  target  \n",
       "10520        t2_3tddk    1.0        fdoh9qq  analytics  comment       0  \n",
       "10521        t2_8eq1x    1.0        fdpbgo2  analytics  comment       0  \n",
       "10522     t2_19vluyoo    3.0        fdoufyv  analytics  comment       0  \n",
       "10523     t2_1sh9yqtk    1.0        fdqguc9  analytics  comment       0  \n",
       "10524     t2_42o1yrn2    2.0        fdnhdiv  analytics  comment       0  "
      ]
     },
     "execution_count": 62,
     "metadata": {},
     "output_type": "execute_result"
    }
   ],
   "source": [
    "combined_df.tail()"
   ]
  },
  {
   "cell_type": "markdown",
   "metadata": {},
   "source": [
    "### Cross train split"
   ]
  },
  {
   "cell_type": "code",
   "execution_count": 63,
   "metadata": {},
   "outputs": [],
   "source": [
    "X = combined_df['selftext'].tolist()\n",
    "y = combined_df['target']"
   ]
  },
  {
   "cell_type": "code",
   "execution_count": 64,
   "metadata": {},
   "outputs": [],
   "source": [
    "X_train, X_test, y_train, y_test = train_test_split(X, y, stratify=y, random_state=42)"
   ]
  },
  {
   "cell_type": "code",
   "execution_count": 65,
   "metadata": {
    "scrolled": true
   },
   "outputs": [
    {
     "data": {
      "text/plain": [
       "(7893, 2632, 7893, 2632)"
      ]
     },
     "execution_count": 65,
     "metadata": {},
     "output_type": "execute_result"
    }
   ],
   "source": [
    "len(X_train), len(X_test), len(y_train), len(y_test)"
   ]
  },
  {
   "cell_type": "markdown",
   "metadata": {},
   "source": [
    "###  4.3.1 CountVectoriser & Logistic Regression"
   ]
  },
  {
   "cell_type": "code",
   "execution_count": 66,
   "metadata": {},
   "outputs": [],
   "source": [
    "pipe_cb1 = Pipeline([\n",
    "    ('cvec_cb', CountVectorizer()),\n",
    "    ('lr', LogisticRegression())\n",
    "])"
   ]
  },
  {
   "cell_type": "code",
   "execution_count": 67,
   "metadata": {},
   "outputs": [
    {
     "name": "stdout",
     "output_type": "stream",
     "text": [
      "0.8161685653993198\n",
      "CPU times: user 5min 46s, sys: 1.76 s, total: 5min 48s\n",
      "Wall time: 5min 48s\n"
     ]
    }
   ],
   "source": [
    "%%time\n",
    "pipe_params_cb = {\n",
    "    'cvec_cb__max_features': [3000, 3500],\n",
    "    'cvec_cb__min_df': [4,5],\n",
    "    'cvec_cb__max_df': [0.8, 0.85],\n",
    "    'cvec_cb__ngram_range': [(1,1), (1,2), (2,3)],\n",
    "    'cvec_cb__stop_words':[\"english\"],\n",
    "    'lr__C': [1,0.1,0.01],\n",
    "    'lr__max_iter': [1000]\n",
    "}\n",
    "gs_cvec_cb = GridSearchCV(pipe_cb1, param_grid=pipe_params_cb)\n",
    "gs_cvec_cb.fit(X_train, y_train)\n",
    "print(gs_cvec_cb.best_score_)"
   ]
  },
  {
   "cell_type": "code",
   "execution_count": 68,
   "metadata": {},
   "outputs": [
    {
     "data": {
      "text/plain": [
       "{'cvec_cb__max_df': 0.8,\n",
       " 'cvec_cb__max_features': 3500,\n",
       " 'cvec_cb__min_df': 5,\n",
       " 'cvec_cb__ngram_range': (1, 2),\n",
       " 'cvec_cb__stop_words': 'english',\n",
       " 'lr__C': 0.1,\n",
       " 'lr__max_iter': 1000}"
      ]
     },
     "execution_count": 68,
     "metadata": {},
     "output_type": "execute_result"
    }
   ],
   "source": [
    "gs_cvec_cb.best_params_"
   ]
  },
  {
   "cell_type": "code",
   "execution_count": 69,
   "metadata": {},
   "outputs": [
    {
     "data": {
      "text/plain": [
       "0.8739389332319777"
      ]
     },
     "execution_count": 69,
     "metadata": {},
     "output_type": "execute_result"
    }
   ],
   "source": [
    "gs_cvec_cb.score(X_train, y_train)"
   ]
  },
  {
   "cell_type": "code",
   "execution_count": 70,
   "metadata": {},
   "outputs": [
    {
     "data": {
      "text/plain": [
       "0.8252279635258358"
      ]
     },
     "execution_count": 70,
     "metadata": {},
     "output_type": "execute_result"
    }
   ],
   "source": [
    "gs_cvec_cb.score(X_test, y_test)"
   ]
  },
  {
   "cell_type": "markdown",
   "metadata": {},
   "source": [
    "###  4.3.2 CountVectorizer & MultinomialNB"
   ]
  },
  {
   "cell_type": "code",
   "execution_count": 71,
   "metadata": {},
   "outputs": [],
   "source": [
    "pipe_cb_mnb = Pipeline([\n",
    "    ('cvec_cb', CountVectorizer()),\n",
    "    ('mnb', MultinomialNB())\n",
    "])"
   ]
  },
  {
   "cell_type": "code",
   "execution_count": 72,
   "metadata": {},
   "outputs": [],
   "source": [
    "pipe_params_cb_mnb = {\n",
    "    'cvec_cb__max_features': [3500, 4000],\n",
    "    'cvec_cb__min_df': [3, 4],\n",
    "    'cvec_cb__max_df': [0.85, .9],\n",
    "    'cvec_cb__ngram_range': [(1,1),(1,2),(2,3)],\n",
    "    'cvec_cb__stop_words':[\"english\"],\n",
    "    'mnb__alpha': [0.5,1.0,2.0],\n",
    "}"
   ]
  },
  {
   "cell_type": "code",
   "execution_count": 73,
   "metadata": {},
   "outputs": [
    {
     "name": "stdout",
     "output_type": "stream",
     "text": [
      "0.8195875684583223\n",
      "CPU times: user 5min 28s, sys: 1.52 s, total: 5min 30s\n",
      "Wall time: 5min 30s\n"
     ]
    }
   ],
   "source": [
    "%%time\n",
    "gs_cb_mnb = GridSearchCV(pipe_cb_mnb, param_grid=pipe_params_cb_mnb)\n",
    "gs_cb_mnb.fit(X_train, y_train)\n",
    "print(gs_cb_mnb.best_score_)"
   ]
  },
  {
   "cell_type": "code",
   "execution_count": 74,
   "metadata": {
    "scrolled": true
   },
   "outputs": [
    {
     "data": {
      "text/plain": [
       "{'cvec_cb__max_df': 0.85,\n",
       " 'cvec_cb__max_features': 4000,\n",
       " 'cvec_cb__min_df': 3,\n",
       " 'cvec_cb__ngram_range': (1, 2),\n",
       " 'cvec_cb__stop_words': 'english',\n",
       " 'mnb__alpha': 0.5}"
      ]
     },
     "execution_count": 74,
     "metadata": {},
     "output_type": "execute_result"
    }
   ],
   "source": [
    "gs_cb_mnb.best_params_"
   ]
  },
  {
   "cell_type": "code",
   "execution_count": 75,
   "metadata": {},
   "outputs": [
    {
     "data": {
      "text/plain": [
       "0.855188141391106"
      ]
     },
     "execution_count": 75,
     "metadata": {},
     "output_type": "execute_result"
    }
   ],
   "source": [
    "gs_cb_mnb.score(X_train, y_train)"
   ]
  },
  {
   "cell_type": "code",
   "execution_count": 76,
   "metadata": {},
   "outputs": [
    {
     "data": {
      "text/plain": [
       "0.8328267477203647"
      ]
     },
     "execution_count": 76,
     "metadata": {},
     "output_type": "execute_result"
    }
   ],
   "source": [
    "gs_cb_mnb.score(X_test, y_test)"
   ]
  },
  {
   "cell_type": "markdown",
   "metadata": {},
   "source": [
    "###  4.3.3 TfidfVectorizer & Logistic Regression"
   ]
  },
  {
   "cell_type": "code",
   "execution_count": 77,
   "metadata": {},
   "outputs": [],
   "source": [
    "pipe_cb2 = Pipeline([\n",
    "    ('tvec_cb', TfidfVectorizer()),\n",
    "    ('lr', LogisticRegression())\n",
    "])"
   ]
  },
  {
   "cell_type": "code",
   "execution_count": 78,
   "metadata": {},
   "outputs": [
    {
     "name": "stdout",
     "output_type": "stream",
     "text": [
      "0.8193352067816582\n",
      "CPU times: user 5min 38s, sys: 1.32 s, total: 5min 39s\n",
      "Wall time: 5min 39s\n"
     ]
    }
   ],
   "source": [
    "%%time\n",
    "pipe_params_tf_cb = {\n",
    "    'tvec_cb__max_features': [3000, 3500],\n",
    "    'tvec_cb__min_df': [4,5],\n",
    "    'tvec_cb__max_df': [0.8, 0.85],\n",
    "    'tvec_cb__ngram_range': [(1,1), (1,2), (2,3)],\n",
    "    'tvec_cb__stop_words':[\"english\"],\n",
    "    'lr__C': [1,0.1,0.01],\n",
    "    'lr__max_iter': [1000]\n",
    "}\n",
    "gs_tvec_cb = GridSearchCV(pipe_cb2, param_grid=pipe_params_tf_cb)\n",
    "gs_tvec_cb.fit(X_train, y_train)\n",
    "print(gs_tvec_cb.best_score_)"
   ]
  },
  {
   "cell_type": "code",
   "execution_count": 79,
   "metadata": {},
   "outputs": [
    {
     "data": {
      "text/plain": [
       "{'lr__C': 1,\n",
       " 'lr__max_iter': 1000,\n",
       " 'tvec_cb__max_df': 0.8,\n",
       " 'tvec_cb__max_features': 3000,\n",
       " 'tvec_cb__min_df': 4,\n",
       " 'tvec_cb__ngram_range': (1, 2),\n",
       " 'tvec_cb__stop_words': 'english'}"
      ]
     },
     "execution_count": 79,
     "metadata": {},
     "output_type": "execute_result"
    }
   ],
   "source": [
    "gs_tvec_cb.best_params_"
   ]
  },
  {
   "cell_type": "code",
   "execution_count": 80,
   "metadata": {},
   "outputs": [
    {
     "data": {
      "text/plain": [
       "0.8549347523121753"
      ]
     },
     "execution_count": 80,
     "metadata": {},
     "output_type": "execute_result"
    }
   ],
   "source": [
    "gs_tvec_cb.score(X_train, y_train)"
   ]
  },
  {
   "cell_type": "code",
   "execution_count": 81,
   "metadata": {},
   "outputs": [
    {
     "data": {
      "text/plain": [
       "0.8351063829787234"
      ]
     },
     "execution_count": 81,
     "metadata": {},
     "output_type": "execute_result"
    }
   ],
   "source": [
    "gs_tvec_cb.score(X_test, y_test)"
   ]
  },
  {
   "cell_type": "markdown",
   "metadata": {},
   "source": [
    "###  4.3.4 TfidfVectorizer & MultinomialNB"
   ]
  },
  {
   "cell_type": "code",
   "execution_count": 82,
   "metadata": {},
   "outputs": [],
   "source": [
    "pipe_cb_mnb_tf = Pipeline([\n",
    "    ('tvec_cb', TfidfVectorizer()),\n",
    "    ('mnb', MultinomialNB())\n",
    "])"
   ]
  },
  {
   "cell_type": "code",
   "execution_count": 83,
   "metadata": {},
   "outputs": [],
   "source": [
    "pipe_params_cb_mnb_tf = {\n",
    "    'tvec_cb__max_features': [3500, 4000],\n",
    "    'tvec_cb__min_df': [3, 4],\n",
    "    'tvec_cb__max_df': [0.85, .9],\n",
    "    'tvec_cb__ngram_range': [(1,1),(1,2),(2,3)],\n",
    "    'tvec_cb__stop_words':[\"english\"],\n",
    "    'mnb__alpha': [0.5,1.0,2.0],\n",
    "}"
   ]
  },
  {
   "cell_type": "code",
   "execution_count": 84,
   "metadata": {},
   "outputs": [
    {
     "name": "stdout",
     "output_type": "stream",
     "text": [
      "0.813000398930513\n",
      "CPU times: user 5min 28s, sys: 1.16 s, total: 5min 30s\n",
      "Wall time: 5min 30s\n"
     ]
    }
   ],
   "source": [
    "%%time\n",
    "gs_cb_mnb_tf = GridSearchCV(pipe_cb_mnb_tf, param_grid=pipe_params_cb_mnb_tf)\n",
    "gs_cb_mnb_tf.fit(X_train, y_train)\n",
    "print(gs_cb_mnb_tf.best_score_)"
   ]
  },
  {
   "cell_type": "code",
   "execution_count": 85,
   "metadata": {
    "scrolled": true
   },
   "outputs": [
    {
     "data": {
      "text/plain": [
       "{'mnb__alpha': 0.5,\n",
       " 'tvec_cb__max_df': 0.85,\n",
       " 'tvec_cb__max_features': 4000,\n",
       " 'tvec_cb__min_df': 4,\n",
       " 'tvec_cb__ngram_range': (1, 2),\n",
       " 'tvec_cb__stop_words': 'english'}"
      ]
     },
     "execution_count": 85,
     "metadata": {},
     "output_type": "execute_result"
    }
   ],
   "source": [
    "gs_cb_mnb_tf.best_params_"
   ]
  },
  {
   "cell_type": "code",
   "execution_count": 86,
   "metadata": {},
   "outputs": [
    {
     "data": {
      "text/plain": [
       "0.8421386038261751"
      ]
     },
     "execution_count": 86,
     "metadata": {},
     "output_type": "execute_result"
    }
   ],
   "source": [
    "gs_cb_mnb_tf.score(X_train, y_train)"
   ]
  },
  {
   "cell_type": "code",
   "execution_count": 87,
   "metadata": {},
   "outputs": [
    {
     "data": {
      "text/plain": [
       "0.8229483282674772"
      ]
     },
     "execution_count": 87,
     "metadata": {},
     "output_type": "execute_result"
    }
   ],
   "source": [
    "gs_cb_mnb_tf.score(X_test, y_test)"
   ]
  },
  {
   "cell_type": "markdown",
   "metadata": {},
   "source": [
    "---"
   ]
  },
  {
   "cell_type": "markdown",
   "metadata": {},
   "source": [
    "## 5.0 Analysis"
   ]
  },
  {
   "cell_type": "markdown",
   "metadata": {},
   "source": [
    "### Model Scores\n",
    "\n",
    "|Data|Tokeniser|Model|Train Set Score|Train Set Score|\n",
    "|---|---|---|---|---|\n",
    "||Baseline|0.534|\n",
    "||Combined Baseline|0.712|\n",
    "|Posts|CountVectorizer|LogisticRegression|0.836|0.827|\n",
    "|Posts|CountVectorizer|MultinomialNB|0.829|0.847|\n",
    "|Posts|TfidfVectorizer|LogisticRegression|0.831|0.847|\n",
    "|Posts|TfidfVectorizer|MultinomialNB|0.826|0.823|\n",
    "|Combined|CountVectorizer|LogisticRegression|0.816|0.825|\n",
    "|Combined|CountVectorizer|MultinomialNB|0.820|0.832|\n",
    "|Combined|TfidfVectorizer|LogisticRegression|0.819|0.835|\n",
    "|Combined|TfidfVectorizer|MultinomialNB|0.813|0.823|\n",
    "\n",
    "Scores are the mean accuracy on the given data and labels.\n",
    "\n",
    "#### Overall\n",
    "\n",
    "+ The scores are all very close together\n",
    "+ Generally there is not much overfitting which is good\n",
    "\n",
    "#### Posts vs Combined\n",
    "\n",
    "+ There was more overfitting in the posts data\n",
    "+ The post data alone is more accurate than the Combined data. \n",
    "\n",
    "+ However I have decided to pick the Combined data. This is because the combined data is more likely to generalise better over unseen data. \n",
    "+ Also there is not a large gap between the two accuracy scores it gives me some flexibilty to be subjective.\n",
    " \n",
    "#### TfidfVectorizer vs CountVectorizer\n",
    " + I suspected TfidfVectorizer was going to be a better fit as it tends to favour more unique words.\n",
    " + However CountVectorizer performed well it on the modelling scores also\n",
    " \n",
    " #### Key point: \n",
    " + I will choose TfidfVectorizer as it has the highest score and also I like that it penalises words that appear too often. It should be better at picking key words. With the two reddits similar by nature this should be important.\n",
    " \n",
    "#### Logistic Regression vs Multinomial Naive Bayes\n",
    "+ Logistic Regression seems to be slighlty more accurate than MultinomialNB Regression on combined count vectorizer\n",
    "+ There is not much difference but I will select Logistic Regression due to the highest score on the combined data.\n",
    " \n",
    " \n",
    "#### Production Model\n",
    "+ Combined Data, TfidfVectorizer, Logistic Regression "
   ]
  },
  {
   "cell_type": "markdown",
   "metadata": {},
   "source": [
    "---"
   ]
  },
  {
   "cell_type": "markdown",
   "metadata": {},
   "source": [
    "# 6.0 Production Model"
   ]
  },
  {
   "cell_type": "code",
   "execution_count": 88,
   "metadata": {},
   "outputs": [],
   "source": [
    "predictions = gs_tvec_cb.predict(X_test)"
   ]
  },
  {
   "cell_type": "code",
   "execution_count": 89,
   "metadata": {},
   "outputs": [
    {
     "data": {
      "text/plain": [
       "0.8351063829787234"
      ]
     },
     "execution_count": 89,
     "metadata": {},
     "output_type": "execute_result"
    }
   ],
   "source": [
    "gs_tvec_cb.score(X_test, y_test)"
   ]
  },
  {
   "cell_type": "code",
   "execution_count": 90,
   "metadata": {
    "scrolled": true
   },
   "outputs": [
    {
     "data": {
      "text/plain": [
       "{'cvec_cb__max_df': 0.85,\n",
       " 'cvec_cb__max_features': 4000,\n",
       " 'cvec_cb__min_df': 3,\n",
       " 'cvec_cb__ngram_range': (1, 2),\n",
       " 'cvec_cb__stop_words': 'english',\n",
       " 'mnb__alpha': 0.5}"
      ]
     },
     "execution_count": 90,
     "metadata": {},
     "output_type": "execute_result"
    }
   ],
   "source": [
    "# best parameters for the model\n",
    "gs_cb_mnb.best_params_"
   ]
  },
  {
   "cell_type": "markdown",
   "metadata": {},
   "source": [
    "# 6.1 Production Model Analysis"
   ]
  },
  {
   "cell_type": "code",
   "execution_count": 91,
   "metadata": {},
   "outputs": [
    {
     "data": {
      "text/plain": [
       "array([[ 386,  370],\n",
       "       [  64, 1812]])"
      ]
     },
     "execution_count": 91,
     "metadata": {},
     "output_type": "execute_result"
    }
   ],
   "source": [
    "# Get confusion matrix score\n",
    "confusion_matrix(y_test, predictions)"
   ]
  },
  {
   "cell_type": "code",
   "execution_count": 92,
   "metadata": {},
   "outputs": [],
   "source": [
    "tn, fp, fn, tp = confusion_matrix(y_test, predictions).ravel()"
   ]
  },
  {
   "cell_type": "code",
   "execution_count": 93,
   "metadata": {},
   "outputs": [
    {
     "name": "stdout",
     "output_type": "stream",
     "text": [
      "True Negatives: 386\n",
      "False Positives: 370\n",
      "False Negatives: 64\n",
      "True Positives: 1812\n"
     ]
    }
   ],
   "source": [
    "print(\"True Negatives: %s\" % tn)\n",
    "print(\"False Positives: %s\" % fp)\n",
    "print(\"False Negatives: %s\" % fn)\n",
    "print(\"True Positives: %s\" % tp)"
   ]
  },
  {
   "cell_type": "code",
   "execution_count": 94,
   "metadata": {},
   "outputs": [
    {
     "data": {
      "text/html": [
       "<div>\n",
       "<style scoped>\n",
       "    .dataframe tbody tr th:only-of-type {\n",
       "        vertical-align: middle;\n",
       "    }\n",
       "\n",
       "    .dataframe tbody tr th {\n",
       "        vertical-align: top;\n",
       "    }\n",
       "\n",
       "    .dataframe thead th {\n",
       "        text-align: right;\n",
       "    }\n",
       "</style>\n",
       "<table border=\"1\" class=\"dataframe\">\n",
       "  <thead>\n",
       "    <tr style=\"text-align: right;\">\n",
       "      <th></th>\n",
       "      <th>true_values</th>\n",
       "      <th>pred_probs</th>\n",
       "    </tr>\n",
       "  </thead>\n",
       "  <tbody>\n",
       "    <tr>\n",
       "      <th>8988</th>\n",
       "      <td>0</td>\n",
       "      <td>0.770985</td>\n",
       "    </tr>\n",
       "    <tr>\n",
       "      <th>9138</th>\n",
       "      <td>0</td>\n",
       "      <td>0.696519</td>\n",
       "    </tr>\n",
       "    <tr>\n",
       "      <th>828</th>\n",
       "      <td>0</td>\n",
       "      <td>0.001737</td>\n",
       "    </tr>\n",
       "    <tr>\n",
       "      <th>1731</th>\n",
       "      <td>1</td>\n",
       "      <td>0.439657</td>\n",
       "    </tr>\n",
       "    <tr>\n",
       "      <th>9740</th>\n",
       "      <td>0</td>\n",
       "      <td>0.000888</td>\n",
       "    </tr>\n",
       "    <tr>\n",
       "      <th>...</th>\n",
       "      <td>...</td>\n",
       "      <td>...</td>\n",
       "    </tr>\n",
       "    <tr>\n",
       "      <th>8155</th>\n",
       "      <td>0</td>\n",
       "      <td>0.999934</td>\n",
       "    </tr>\n",
       "    <tr>\n",
       "      <th>4608</th>\n",
       "      <td>1</td>\n",
       "      <td>0.999967</td>\n",
       "    </tr>\n",
       "    <tr>\n",
       "      <th>704</th>\n",
       "      <td>0</td>\n",
       "      <td>0.437692</td>\n",
       "    </tr>\n",
       "    <tr>\n",
       "      <th>7949</th>\n",
       "      <td>1</td>\n",
       "      <td>1.000000</td>\n",
       "    </tr>\n",
       "    <tr>\n",
       "      <th>4271</th>\n",
       "      <td>1</td>\n",
       "      <td>0.005567</td>\n",
       "    </tr>\n",
       "  </tbody>\n",
       "</table>\n",
       "<p>2632 rows × 2 columns</p>\n",
       "</div>"
      ],
      "text/plain": [
       "      true_values  pred_probs\n",
       "8988            0    0.770985\n",
       "9138            0    0.696519\n",
       "828             0    0.001737\n",
       "1731            1    0.439657\n",
       "9740            0    0.000888\n",
       "...           ...         ...\n",
       "8155            0    0.999934\n",
       "4608            1    0.999967\n",
       "704             0    0.437692\n",
       "7949            1    1.000000\n",
       "4271            1    0.005567\n",
       "\n",
       "[2632 rows x 2 columns]"
      ]
     },
     "execution_count": 94,
     "metadata": {},
     "output_type": "execute_result"
    }
   ],
   "source": [
    "# Create a dataframe of true values of our test set and predicted probabilities based on our model.\n",
    "pred_proba = [i[1] for i in gs_cb_mnb.predict_proba(X_test)]\n",
    "pred_df = pd.DataFrame({'true_values': y_test,\n",
    "                        'pred_probs':pred_proba})\n",
    "pred_df"
   ]
  },
  {
   "cell_type": "code",
   "execution_count": 95,
   "metadata": {},
   "outputs": [
    {
     "data": {
      "text/plain": [
       "list"
      ]
     },
     "execution_count": 95,
     "metadata": {},
     "output_type": "execute_result"
    }
   ],
   "source": [
    "type(pred_proba)"
   ]
  },
  {
   "cell_type": "code",
   "execution_count": 96,
   "metadata": {},
   "outputs": [],
   "source": [
    "# Define function to calculate sensitivity. (True positive rate.)\n",
    "def TPR(df, true_col, pred_prob_col, threshold):\n",
    "    true_positive = df[(df[true_col] == 1) & (df[pred_prob_col] >= threshold)].shape[0]\n",
    "    false_negative = df[(df[true_col] == 1) & (df[pred_prob_col] < threshold)].shape[0]\n",
    "    return true_positive / (true_positive + false_negative)\n",
    "    \n",
    "\n",
    "# Define function to calculate 1 - specificity. (False positive rate.)\n",
    "def FPR(df, true_col, pred_prob_col, threshold):\n",
    "    true_negative = df[(df[true_col] == 0) & (df[pred_prob_col] <= threshold)].shape[0]\n",
    "    false_positive = df[(df[true_col] == 0) & (df[pred_prob_col] > threshold)].shape[0]\n",
    "    return 1 - (true_negative / (true_negative + false_positive))"
   ]
  },
  {
   "cell_type": "code",
   "execution_count": 97,
   "metadata": {
    "scrolled": false
   },
   "outputs": [
    {
     "data": {
      "image/png": "[encoded data removed]",
      "text/plain": [
       "<Figure size 720x504 with 1 Axes>"
      ]
     },
     "metadata": {
      "needs_background": "light"
     },
     "output_type": "display_data"
    }
   ],
   "source": [
    "# Create figure.\n",
    "plt.figure(figsize = (10,7))\n",
    "\n",
    "# Create threshold values. (Dashed red line in image.)\n",
    "thresholds = np.linspace(0, 1, 200)\n",
    "    \n",
    "# Calculate sensitivity & 1-specificity for each threshold between 0 and 1.\n",
    "tpr_values = [TPR(pred_df, 'true_values', 'pred_probs', prob) for prob in thresholds]\n",
    "fpr_values = [FPR(pred_df, 'true_values', 'pred_probs', prob) for prob in thresholds]\n",
    "\n",
    "# Plot ROC curve.\n",
    "plt.plot(fpr_values, # False Positive Rate on X-axis\n",
    "         tpr_values, # True Positive Rate on Y-axis\n",
    "         label='ROC Curve')\n",
    "\n",
    "# Plot baseline. (Perfect overlap between the two populations.)\n",
    "plt.plot(np.linspace(0, 1, 200),\n",
    "         np.linspace(0, 1, 200),\n",
    "         label='baseline',\n",
    "         linestyle='--')\n",
    "\n",
    "# Label axes.\n",
    "plt.title(f'ROC Curve with AUC = {round(roc_auc_score(pred_df[\"true_values\"], pred_df[\"pred_probs\"]),3)}', fontsize=22)\n",
    "plt.ylabel('Sensitivity', fontsize=18)\n",
    "plt.xlabel('1 - Specificity', fontsize=18)\n",
    "\n",
    "# Create legend.\n",
    "plt.legend(fontsize=16);"
   ]
  },
  {
   "cell_type": "markdown",
   "metadata": {},
   "source": [
    "### Compare with baseline curve"
   ]
  },
  {
   "cell_type": "code",
   "execution_count": 98,
   "metadata": {},
   "outputs": [],
   "source": [
    "# baseline predicts everything to be 1"
   ]
  },
  {
   "cell_type": "code",
   "execution_count": 99,
   "metadata": {},
   "outputs": [
    {
     "data": {
      "text/plain": [
       "1    1876\n",
       "0     756\n",
       "Name: target, dtype: int64"
      ]
     },
     "execution_count": 99,
     "metadata": {},
     "output_type": "execute_result"
    }
   ],
   "source": [
    "y_test.value_counts()"
   ]
  },
  {
   "cell_type": "code",
   "execution_count": 100,
   "metadata": {},
   "outputs": [],
   "source": [
    "baseline_preds = [[0,0],[756,1876]]"
   ]
  },
  {
   "cell_type": "code",
   "execution_count": 101,
   "metadata": {},
   "outputs": [],
   "source": [
    "# create a truth table\n",
    "tn, fp, fn, tp = baseline_preds[0][0],baseline_preds[1][0],baseline_preds[0][1],baseline_preds[1][1]"
   ]
  },
  {
   "cell_type": "code",
   "execution_count": 102,
   "metadata": {},
   "outputs": [
    {
     "name": "stdout",
     "output_type": "stream",
     "text": [
      "True Negatives: 0\n",
      "False Positives: 756\n",
      "False Negatives: 0\n",
      "True Positives: 1876\n"
     ]
    }
   ],
   "source": [
    "print(\"True Negatives: %s\" % tn)\n",
    "print(\"False Positives: %s\" % fp)\n",
    "print(\"False Negatives: %s\" % fn)\n",
    "print(\"True Positives: %s\" % tp)"
   ]
  },
  {
   "cell_type": "code",
   "execution_count": 103,
   "metadata": {},
   "outputs": [],
   "source": [
    "pred_probs = [total_1/total_value]*(1876+756)"
   ]
  },
  {
   "cell_type": "code",
   "execution_count": 104,
   "metadata": {},
   "outputs": [],
   "source": [
    "# Create a dataframe of true values of our test set and predicted probabilities based on our model.\n",
    "pred_df = pd.DataFrame({'true_values': y_test,\n",
    "                        'pred_probs':pred_probs})\n",
    "pred_df;"
   ]
  },
  {
   "cell_type": "code",
   "execution_count": 105,
   "metadata": {},
   "outputs": [
    {
     "data": {
      "image/png": "[encoded data removed]",
      "text/plain": [
       "<Figure size 720x504 with 1 Axes>"
      ]
     },
     "metadata": {
      "needs_background": "light"
     },
     "output_type": "display_data"
    }
   ],
   "source": [
    "# Create figure.\n",
    "plt.figure(figsize = (10,7))\n",
    "\n",
    "# Create threshold values. (Dashed red line in image.)\n",
    "thresholds = np.linspace(0, 1, 200)\n",
    "    \n",
    "# Calculate sensitivity & 1-specificity for each threshold between 0 and 1.\n",
    "tpr_values = [TPR(pred_df, 'true_values', 'pred_probs', prob) for prob in thresholds]\n",
    "fpr_values = [FPR(pred_df, 'true_values', 'pred_probs', prob) for prob in thresholds]\n",
    "\n",
    "# Plot ROC curve.\n",
    "plt.plot(fpr_values, # False Positive Rate on X-axis\n",
    "         tpr_values, # True Positive Rate on Y-axis\n",
    "         label='ROC Curve')\n",
    "\n",
    "# Plot baseline. (Perfect overlap between the two populations.)\n",
    "plt.plot(np.linspace(0, 1, 200),\n",
    "         np.linspace(0, 1, 200),\n",
    "         label='baseline',\n",
    "         linestyle='--')\n",
    "\n",
    "# Label axes.\n",
    "plt.title(f'ROC Curve with AUC = {round(roc_auc_score(pred_df[\"true_values\"], pred_df[\"pred_probs\"]),3)}', fontsize=22)\n",
    "plt.ylabel('Sensitivity', fontsize=18)\n",
    "plt.xlabel('1 - Specificity', fontsize=18)\n",
    "\n",
    "# Create legend.\n",
    "plt.legend(fontsize=16);"
   ]
  },
  {
   "cell_type": "markdown",
   "metadata": {},
   "source": [
    "## Observation Model Vs Baseline\n",
    "\n",
    "Our model outperforms the benchmark by:\n",
    "    \n",
    "    + roc auc score 0.859 vs 0.5\n",
    "    + accuracy 0.826 vs 0.712"
   ]
  },
  {
   "cell_type": "markdown",
   "metadata": {},
   "source": [
    "---"
   ]
  },
  {
   "cell_type": "markdown",
   "metadata": {},
   "source": [
    "## 6.2 Feature Extraction"
   ]
  },
  {
   "cell_type": "code",
   "execution_count": 106,
   "metadata": {},
   "outputs": [
    {
     "data": {
      "text/plain": [
       "Pipeline(memory=None,\n",
       "         steps=[('tvec_cb',\n",
       "                 TfidfVectorizer(analyzer='word', binary=False,\n",
       "                                 decode_error='strict',\n",
       "                                 dtype=<class 'numpy.float64'>,\n",
       "                                 encoding='utf-8', input='content',\n",
       "                                 lowercase=True, max_df=0.8, max_features=3000,\n",
       "                                 min_df=4, ngram_range=(1, 2), norm='l2',\n",
       "                                 preprocessor=None, smooth_idf=True,\n",
       "                                 stop_words='english', strip_accents=None,\n",
       "                                 sublinear_tf=False,\n",
       "                                 token_pattern='(?u)\\\\b\\\\w\\\\w+\\\\b',\n",
       "                                 tokenizer=None, use_idf=True,\n",
       "                                 vocabulary=None)),\n",
       "                ('lr',\n",
       "                 LogisticRegression(C=1, class_weight=None, dual=False,\n",
       "                                    fit_intercept=True, intercept_scaling=1,\n",
       "                                    l1_ratio=None, max_iter=1000,\n",
       "                                    multi_class='auto', n_jobs=None,\n",
       "                                    penalty='l2', random_state=None,\n",
       "                                    solver='lbfgs', tol=0.0001, verbose=0,\n",
       "                                    warm_start=False))],\n",
       "         verbose=False)"
      ]
     },
     "execution_count": 106,
     "metadata": {},
     "output_type": "execute_result"
    }
   ],
   "source": [
    "## Get details of best model\n",
    "gs_tvec_best = gs_tvec_cb.best_estimator_\n",
    "gs_tvec_best"
   ]
  },
  {
   "cell_type": "code",
   "execution_count": 107,
   "metadata": {},
   "outputs": [
    {
     "data": {
      "text/plain": [
       "{'tvec_cb': TfidfVectorizer(analyzer='word', binary=False, decode_error='strict',\n",
       "                 dtype=<class 'numpy.float64'>, encoding='utf-8',\n",
       "                 input='content', lowercase=True, max_df=0.8, max_features=3000,\n",
       "                 min_df=4, ngram_range=(1, 2), norm='l2', preprocessor=None,\n",
       "                 smooth_idf=True, stop_words='english', strip_accents=None,\n",
       "                 sublinear_tf=False, token_pattern='(?u)\\\\b\\\\w\\\\w+\\\\b',\n",
       "                 tokenizer=None, use_idf=True, vocabulary=None),\n",
       " 'lr': LogisticRegression(C=1, class_weight=None, dual=False, fit_intercept=True,\n",
       "                    intercept_scaling=1, l1_ratio=None, max_iter=1000,\n",
       "                    multi_class='auto', n_jobs=None, penalty='l2',\n",
       "                    random_state=None, solver='lbfgs', tol=0.0001, verbose=0,\n",
       "                    warm_start=False)}"
      ]
     },
     "execution_count": 107,
     "metadata": {},
     "output_type": "execute_result"
    }
   ],
   "source": [
    "# pull out the information about the step the pipeline took\n",
    "named_steps = gs_tvec_best.named_steps\n",
    "named_steps"
   ]
  },
  {
   "cell_type": "code",
   "execution_count": 108,
   "metadata": {},
   "outputs": [
    {
     "data": {
      "text/plain": [
       "3000"
      ]
     },
     "execution_count": 108,
     "metadata": {},
     "output_type": "execute_result"
    }
   ],
   "source": [
    "# check features match the models max_features\n",
    "len(named_steps['tvec_cb'].get_feature_names())"
   ]
  },
  {
   "cell_type": "code",
   "execution_count": 109,
   "metadata": {},
   "outputs": [],
   "source": [
    "# store the features\n",
    "feature_names = named_steps['tvec_cb'].get_feature_names();"
   ]
  },
  {
   "cell_type": "code",
   "execution_count": 110,
   "metadata": {},
   "outputs": [],
   "source": [
    "# Transforming our x_train data using our fit cvec. Currently stored as a sparse matrix \n",
    "# And converting the result to a DataFrame.\n",
    "X_train_tvec = pd.DataFrame(named_steps['tvec_cb'].transform(X_train).todense(),\n",
    "                       columns=named_steps['tvec_cb'].get_feature_names())"
   ]
  },
  {
   "cell_type": "code",
   "execution_count": 111,
   "metadata": {},
   "outputs": [
    {
     "data": {
      "text/plain": [
       "(7893, 3000)"
      ]
     },
     "execution_count": 111,
     "metadata": {},
     "output_type": "execute_result"
    }
   ],
   "source": [
    "# Check sparse matrix has not been transformed\n",
    "X_train_tvec.shape"
   ]
  },
  {
   "cell_type": "code",
   "execution_count": 112,
   "metadata": {},
   "outputs": [],
   "source": [
    "# Get the counts or the weighs of the model\n",
    "word_counts = X_train_tvec.sum(axis=0)"
   ]
  },
  {
   "cell_type": "code",
   "execution_count": 113,
   "metadata": {},
   "outputs": [],
   "source": [
    "X_train_tvec.reset_index(drop=True, inplace=True)\n",
    "y_train.reset_index(drop=True, inplace=True)"
   ]
  },
  {
   "cell_type": "code",
   "execution_count": 115,
   "metadata": {},
   "outputs": [],
   "source": [
    "# Lets look through some of the categories common words\n",
    "common_words = []\n",
    "cw_dict = {}\n",
    "for i in range(2):\n",
    "    word_count = X_train_tvec.loc[y_train==i].sum(axis=0)\n",
    "    cw_dict[i] = word_count\n",
    "    cw = word_count.sort_values(ascending = False).head(20)\n",
    "    common_words.extend(cw.index)\n",
    "    \n",
    "analytics_tvec_df = pd.DataFrame(cw_dict[0])\n",
    "ds_tvec_df = pd.DataFrame(cw_dict[1])"
   ]
  },
  {
   "cell_type": "markdown",
   "metadata": {},
   "source": [
    "#### Get Analytics key words"
   ]
  },
  {
   "cell_type": "code",
   "execution_count": null,
   "metadata": {},
   "outputs": [],
   "source": [
    "analytics_tvec_df.reset_index(level=0, inplace=True)\n",
    "analytics_tvec_df.rename(columns={0:'weight','index':\"words\"},inplace=True)"
   ]
  },
  {
   "cell_type": "code",
   "execution_count": null,
   "metadata": {},
   "outputs": [],
   "source": [
    "analysis_tvec_tp15 = analytics_tvec_df.sort_values('weight', ascending=False).head(15)"
   ]
  },
  {
   "cell_type": "code",
   "execution_count": null,
   "metadata": {},
   "outputs": [],
   "source": [
    "plt.figure(figsize=(20, 10))\n",
    "ax = sns.barplot(x=\"words\", y=\"weight\", data=analysis_tvec_tp15)\n",
    "ax.set_title('Shows the weight of the top 15 key words for data analytics', fontdict={'fontsize':30});\n"
   ]
  },
  {
   "cell_type": "markdown",
   "metadata": {},
   "source": [
    "#### Get Data Science key words"
   ]
  },
  {
   "cell_type": "code",
   "execution_count": null,
   "metadata": {},
   "outputs": [],
   "source": [
    "ds_tvec_df.reset_index(level=0, inplace=True)\n",
    "ds_tvec_df.rename(columns={0:'weight','index':\"words\"},inplace=True)"
   ]
  },
  {
   "cell_type": "code",
   "execution_count": null,
   "metadata": {},
   "outputs": [],
   "source": [
    "ds_tvec_tp15 = ds_tvec_df.sort_values('weight', ascending=False).head(15)"
   ]
  },
  {
   "cell_type": "code",
   "execution_count": null,
   "metadata": {
    "scrolled": false
   },
   "outputs": [],
   "source": [
    "plt.figure(figsize=(20, 10))\n",
    "ax = sns.barplot(x=\"words\", y=\"weight\", data=ds_tvec_tp15)\n",
    "ax.set_title('Shows the weight of the top 15 key words for data science', fontdict={'fontsize':30});"
   ]
  },
  {
   "cell_type": "markdown",
   "metadata": {},
   "source": [
    "---"
   ]
  },
  {
   "cell_type": "markdown",
   "metadata": {},
   "source": [
    "# 7.0 Summary"
   ]
  },
  {
   "cell_type": "markdown",
   "metadata": {},
   "source": [
    "### Good News...\n",
    "\n",
    "+ The model is very good at predicting which post is came from which reddit.\n",
    "\n",
    "\n",
    "+ Using the combined data was good at preventing overfitting\n",
    "\n",
    "\n",
    "+ The key words are similar but this reinforces the idea that the two subject matters do have overlap\n",
    "\n",
    "\n",
    "### Bad news...\n",
    "\n",
    "\n",
    "+ The key words might be good for the model but are to general to infer too much from.\n",
    "\n",
    "\n",
    "### Next steps\n",
    "\n",
    "\n",
    "+ I will do some extra supplementary analysis on the 'title' to see if there are further key words which can be extracted"
   ]
  }
 ],
 "metadata": {
  "kernelspec": {
   "display_name": "Python 3",
   "language": "python",
   "name": "python3"
  },
  "language_info": {
   "codemirror_mode": {
    "name": "ipython",
    "version": 3
   },
   "file_extension": ".py",
   "mimetype": "text/x-python",
   "name": "python",
   "nbconvert_exporter": "python",
   "pygments_lexer": "ipython3",
   "version": "3.7.6"
  }
 },
 "nbformat": 4,
 "nbformat_minor": 4
}
