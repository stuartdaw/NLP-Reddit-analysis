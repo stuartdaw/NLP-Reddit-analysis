{
 "cells": [
  {
   "cell_type": "markdown",
   "metadata": {},
   "source": [
    "# 04 Further Modelling"
   ]
  },
  {
   "cell_type": "markdown",
   "metadata": {},
   "source": [
    "# Aim of the workbook\n",
    "\n",
    "\n",
    "\n",
    "\n",
    "+ The aim of the workbook is to investigate whether i can re run some models focusing on finding key works rather than model accuracy if i may have some further insights\n",
    "\n",
    "\n",
    "+ I will investigate the 'title' of the post and see if that provides a more condensed look at the post and key words.\n",
    "\n"
   ]
  },
  {
   "cell_type": "markdown",
   "metadata": {},
   "source": [
    "---"
   ]
  },
  {
   "cell_type": "code",
   "execution_count": 1,
   "metadata": {},
   "outputs": [],
   "source": [
    "# load libraries\n",
    "import numpy as np\n",
    "import pandas as pd\n",
    "import seaborn as sns\n",
    "import matplotlib.pyplot as plt\n",
    "from nltk.corpus import stopwords\n",
    "from sklearn import metrics\n",
    "from sklearn.model_selection import train_test_split, cross_val_score, GridSearchCV\n",
    "from sklearn.preprocessing import PolynomialFeatures, StandardScaler\n",
    "from sklearn.feature_extraction.text import CountVectorizer, TfidfVectorizer\n",
    "from sklearn.pipeline import Pipeline\n",
    "from sklearn.naive_bayes import MultinomialNB\n",
    "from nltk.stem import PorterStemmer, WordNetLemmatizer\n",
    "from nltk.tokenize import word_tokenize \n",
    "from sklearn.metrics import confusion_matrix, roc_auc_score\n",
    "import re\n",
    "from sklearn.linear_model import LogisticRegression\n",
    "\n",
    "\n",
    "%matplotlib inline"
   ]
  },
  {
   "cell_type": "markdown",
   "metadata": {},
   "source": [
    "---"
   ]
  },
  {
   "cell_type": "markdown",
   "metadata": {},
   "source": [
    "### Contents:\n",
    "- [1.0 Data Import](#1.0-Data-Import-and-Cleaning)\n",
    "- [2.0 Model Choice](#2.0-Model-Choice)\n",
    "- [3.0 Pre-processing](#3.0-Pre-processing)\n",
    "    - [3.1 Cleaning](#3.1-Cleaning)\n",
    "    - [3.2 Create target class](#3.2-Create-target-class)\n",
    "    - [3.3 Baseline values](#3.3-Baseline-values)\n",
    "- [4.0 Modelling](#4.0-Modelling)\n",
    "    - [4.1 Set features and Cross train split](#4.1-Set-features-and-Cross-train-split)\n",
    "    - [4.2 TfidfVectorizer & Logistic Regressiong](#4.2-TfidfVectorizer-&-Logistic-Regression)\n",
    "- [5.0 Production Model](#5.0-Production-Model)\n",
    "- [6.0 Production Model Analysis](#6.0-Production-Model-Analysis)\n",
    "- [7.0 Feature Extraction](#7.0-Feature-Extraction)    \n",
    "- [8.0 Evaluation and Inferential meanings](#8.0-Evaluation-and-Inferential-meanings)\n",
    "- [9.0 Summary](#9.0-Summary)"
   ]
  },
  {
   "cell_type": "markdown",
   "metadata": {},
   "source": [
    "# 1.0 Data Import"
   ]
  },
  {
   "cell_type": "markdown",
   "metadata": {},
   "source": [
    "#### Get Data"
   ]
  },
  {
   "cell_type": "code",
   "execution_count": 2,
   "metadata": {},
   "outputs": [],
   "source": [
    "# Retrieve data\n",
    "clean_posts = pd.read_csv('./data/processed_posts/clean_posts.csv', index_col = False)"
   ]
  },
  {
   "cell_type": "code",
   "execution_count": 3,
   "metadata": {},
   "outputs": [
    {
     "data": {
      "text/plain": [
       "(1204, 18)"
      ]
     },
     "execution_count": 3,
     "metadata": {},
     "output_type": "execute_result"
    }
   ],
   "source": [
    "# check shape is still correct\n",
    "clean_posts.shape"
   ]
  },
  {
   "cell_type": "code",
   "execution_count": 4,
   "metadata": {},
   "outputs": [],
   "source": [
    "# check columns are still correct for posts\n",
    "clean_posts## 3.1 Clean\n",
    "\n",
    "# Instantiate lemmatizer. (Same as above.)\n",
    "lemmatizer = WordNetLemmatizer()\n",
    "\n",
    "# Function to convert a raw text into clean data for the model\n",
    "\n",
    "def clean_text(text):\n",
    "    \n",
    "    # 1. Remove non-letters.\n",
    "    letters_only = re.sub(\"[^a-zA-Z]\", \" \", text)\n",
    "    \n",
    "    # 2. Convert to lower case, split into individual words.\n",
    "    words = letters_only.lower().split()\n",
    "    \n",
    "    # 3. Stop words could be removed as a hyperparameter later but I think it\n",
    "    # will be best to do it here and save on run time\n",
    "    stops = set(stopwords.words('english'))\n",
    "    meaningful_words = [w for w in words if not w in stops]\n",
    "    \n",
    "    # 4.Lemmatize the words\n",
    "    lemmatized_words = [lemmatizer.lemmatize(i) for i in meaningful_words]\n",
    "    \n",
    "    # 5. Join the words back into one string separated by space, \n",
    "    # and return the result.\n",
    "    return(\" \".join(lemmatized_words))"
   ]
  },
  {
   "cell_type": "markdown",
   "metadata": {},
   "source": [
    "---"
   ]
  },
  {
   "cell_type": "markdown",
   "metadata": {},
   "source": [
    "# 2.0 Model Choice"
   ]
  },
  {
   "cell_type": "markdown",
   "metadata": {},
   "source": [
    "+ I will use the same model for the reasone as previously discussed in the previous notebook.\n",
    "\n",
    "+ I will use TfidfVectorizer becuase i want to find unique words to help with the data science problem at hand\n",
    "\n",
    "+ I will force the model to search for groupings as well. So the n grams will be 2,3"
   ]
  },
  {
   "cell_type": "markdown",
   "metadata": {},
   "source": [
    "---"
   ]
  },
  {
   "cell_type": "markdown",
   "metadata": {},
   "source": [
    "# 3.0 Pre-processing"
   ]
  },
  {
   "cell_type": "markdown",
   "metadata": {},
   "source": [
    "## 3.1 Cleaning"
   ]
  },
  {
   "cell_type": "code",
   "execution_count": 5,
   "metadata": {},
   "outputs": [],
   "source": [
    "### Previously the 'titles' werent cleaned so I will do this now."
   ]
  },
  {
   "cell_type": "code",
   "execution_count": 6,
   "metadata": {},
   "outputs": [],
   "source": [
    "# Instantiate lemmatizer. (Same as above.)\n",
    "lemmatizer = WordNetLemmatizer()"
   ]
  },
  {
   "cell_type": "code",
   "execution_count": 7,
   "metadata": {},
   "outputs": [],
   "source": [
    "# Function to convert a raw text into clean data for the model\n",
    "\n",
    "def clean_text(text):\n",
    "    \n",
    "    # 1. Remove non-letters.\n",
    "    letters_only = re.sub(\"[^a-zA-Z]\", \" \", text)\n",
    "    \n",
    "    # 2. Convert to lower case, split into individual words.\n",
    "    words = letters_only.lower().split()\n",
    "    \n",
    "    # 3. Stop words could be removed as a hyperparameter later but I think it\n",
    "    # will be best to do it here and save on run time\n",
    "    stops = set(stopwords.words('english'))\n",
    "    meaningful_words = [w for w in words if not w in stops]\n",
    "    \n",
    "    # 4.Lemmatize the words\n",
    "    lemmatized_words = [lemmatizer.lemmatize(i) for i in meaningful_words]\n",
    "    \n",
    "    # 5. Join the words back into one string separated by space, \n",
    "    # and return the result.\n",
    "    return(\" \".join(lemmatized_words))"
   ]
  },
  {
   "cell_type": "code",
   "execution_count": 8,
   "metadata": {},
   "outputs": [
    {
     "name": "stdout",
     "output_type": "stream",
     "text": [
      "Amazon AWS Pro-Serve Data Scientist is it a good role?\n"
     ]
    }
   ],
   "source": [
    "# Check the before\n",
    "print(clean_posts.iloc[1,3])"
   ]
  },
  {
   "cell_type": "code",
   "execution_count": 9,
   "metadata": {
    "scrolled": true
   },
   "outputs": [
    {
     "name": "stdout",
     "output_type": "stream",
     "text": [
      "Why is Data Science considered a \"science\"\n"
     ]
    }
   ],
   "source": [
    "print(clean_posts.iloc[35,3])"
   ]
  },
  {
   "cell_type": "code",
   "execution_count": 10,
   "metadata": {},
   "outputs": [],
   "source": [
    "clean_posts['title'] = [clean_text(words) for words in clean_posts['title']]"
   ]
  },
  {
   "cell_type": "code",
   "execution_count": 11,
   "metadata": {},
   "outputs": [
    {
     "name": "stdout",
     "output_type": "stream",
     "text": [
      "amazon aws pro serve data scientist good role\n"
     ]
    }
   ],
   "source": [
    "# Check after\n",
    "print(clean_posts.iloc[1,3])"
   ]
  },
  {
   "cell_type": "code",
   "execution_count": 12,
   "metadata": {
    "scrolled": true
   },
   "outputs": [
    {
     "name": "stdout",
     "output_type": "stream",
     "text": [
      "data science considered science\n"
     ]
    }
   ],
   "source": [
    "print(clean_posts.iloc[35,3])"
   ]
  },
  {
   "cell_type": "code",
   "execution_count": 13,
   "metadata": {},
   "outputs": [
    {
     "data": {
      "text/plain": [
       "(1204, 18)"
      ]
     },
     "execution_count": 13,
     "metadata": {},
     "output_type": "execute_result"
    }
   ],
   "source": [
    "clean_posts.shape"
   ]
  },
  {
   "cell_type": "markdown",
   "metadata": {},
   "source": [
    "---"
   ]
  },
  {
   "cell_type": "code",
   "execution_count": 14,
   "metadata": {},
   "outputs": [
    {
     "data": {
      "text/plain": [
       "Int64Index([0, 60, 103, 156, 202, 233, 264, 297, 331, 349, 371, 401, 433, 525], dtype='int64')"
      ]
     },
     "execution_count": 14,
     "metadata": {},
     "output_type": "execute_result"
    }
   ],
   "source": [
    "clean_posts.loc[clean_posts['author'] == 'datascience-bot'].index"
   ]
  },
  {
   "cell_type": "code",
   "execution_count": 15,
   "metadata": {},
   "outputs": [],
   "source": [
    "clean_posts.drop(clean_posts.loc[clean_posts['author'] == 'datascience-bot'].index, inplace=True)"
   ]
  },
  {
   "cell_type": "code",
   "execution_count": null,
   "metadata": {},
   "outputs": [],
   "source": []
  },
  {
   "cell_type": "code",
   "execution_count": null,
   "metadata": {},
   "outputs": [],
   "source": []
  },
  {
   "cell_type": "markdown",
   "metadata": {},
   "source": [
    "---"
   ]
  },
  {
   "cell_type": "markdown",
   "metadata": {},
   "source": [
    "## 3.2 Create target class"
   ]
  },
  {
   "cell_type": "markdown",
   "metadata": {},
   "source": [
    "+ Completed in previous workbook"
   ]
  },
  {
   "cell_type": "markdown",
   "metadata": {},
   "source": [
    "## 3.3 Baseline values"
   ]
  },
  {
   "cell_type": "code",
   "execution_count": 16,
   "metadata": {
    "scrolled": true
   },
   "outputs": [
    {
     "data": {
      "text/plain": [
       "0    643\n",
       "1    547\n",
       "Name: target, dtype: int64"
      ]
     },
     "execution_count": 16,
     "metadata": {},
     "output_type": "execute_result"
    }
   ],
   "source": [
    "clean_posts['target'].value_counts()"
   ]
  },
  {
   "cell_type": "code",
   "execution_count": 17,
   "metadata": {
    "scrolled": true
   },
   "outputs": [
    {
     "data": {
      "text/plain": [
       "0    0.540336\n",
       "1    0.459664\n",
       "Name: target, dtype: float64"
      ]
     },
     "execution_count": 17,
     "metadata": {},
     "output_type": "execute_result"
    }
   ],
   "source": [
    "clean_posts['target'].value_counts(normalize=True)"
   ]
  },
  {
   "cell_type": "markdown",
   "metadata": {},
   "source": [
    "###  Observations\n",
    "Therefore if I said everything was in the analytics class then I would be correct 53% of the time."
   ]
  },
  {
   "cell_type": "markdown",
   "metadata": {},
   "source": [
    "---"
   ]
  },
  {
   "cell_type": "markdown",
   "metadata": {},
   "source": [
    "# 4.0 Modelling"
   ]
  },
  {
   "cell_type": "markdown",
   "metadata": {},
   "source": [
    "### 4.1 Set features and Cross train split"
   ]
  },
  {
   "cell_type": "code",
   "execution_count": 18,
   "metadata": {},
   "outputs": [],
   "source": [
    "X = clean_posts['title'].tolist()\n",
    "y = clean_posts['target']"
   ]
  },
  {
   "cell_type": "code",
   "execution_count": 19,
   "metadata": {},
   "outputs": [],
   "source": [
    "# cross train split"
   ]
  },
  {
   "cell_type": "code",
   "execution_count": 20,
   "metadata": {},
   "outputs": [],
   "source": [
    "X_train, X_test, y_train, y_test = train_test_split(X, y, stratify=y, random_state=42)"
   ]
  },
  {
   "cell_type": "code",
   "execution_count": 21,
   "metadata": {
    "scrolled": true
   },
   "outputs": [
    {
     "data": {
      "text/plain": [
       "(892, 298, 892, 298)"
      ]
     },
     "execution_count": 21,
     "metadata": {},
     "output_type": "execute_result"
    }
   ],
   "source": [
    "len(X_train), len(X_test), len(y_train), len(y_test)"
   ]
  },
  {
   "cell_type": "markdown",
   "metadata": {},
   "source": [
    "###  4.2 TfidfVectorizer & Logistic Regression"
   ]
  },
  {
   "cell_type": "code",
   "execution_count": 22,
   "metadata": {},
   "outputs": [],
   "source": [
    "pipe2 = Pipeline([\n",
    "    ('tvec', TfidfVectorizer()),\n",
    "    ('lr', LogisticRegression())\n",
    "])"
   ]
  },
  {
   "cell_type": "code",
   "execution_count": 23,
   "metadata": {},
   "outputs": [],
   "source": [
    "pipe_params = {\n",
    "    'tvec__max_features': [100, 200, 300],\n",
    "    'tvec__min_df': [2, 3],\n",
    "    'tvec__max_df': [0.3,0.4, 0.5, 0.6, 0.7],\n",
    "    'tvec__ngram_range': [(2,3)],\n",
    "    'tvec__stop_words':[\"english\"],\n",
    "    'lr__C': [1,0.1,0.01],\n",
    "    'lr__max_iter': [1000]\n",
    "}"
   ]
  },
  {
   "cell_type": "code",
   "execution_count": 24,
   "metadata": {
    "scrolled": true
   },
   "outputs": [
    {
     "name": "stdout",
     "output_type": "stream",
     "text": [
      "0.6950787772267906\n",
      "CPU times: user 8.61 s, sys: 11.9 ms, total: 8.62 s\n",
      "Wall time: 8.64 s\n"
     ]
    }
   ],
   "source": [
    "%%time\n",
    "\n",
    "gs_tf = GridSearchCV(pipe2, param_grid=pipe_params)\n",
    "gs_tf.fit(X_train, y_train)\n",
    "print(gs_tf.best_score_)"
   ]
  },
  {
   "cell_type": "code",
   "execution_count": 25,
   "metadata": {},
   "outputs": [
    {
     "data": {
      "text/plain": [
       "{'lr__C': 1,\n",
       " 'lr__max_iter': 1000,\n",
       " 'tvec__max_df': 0.3,\n",
       " 'tvec__max_features': 200,\n",
       " 'tvec__min_df': 2,\n",
       " 'tvec__ngram_range': (2, 3),\n",
       " 'tvec__stop_words': 'english'}"
      ]
     },
     "execution_count": 25,
     "metadata": {},
     "output_type": "execute_result"
    }
   ],
   "source": [
    "gs_tf.best_params_"
   ]
  },
  {
   "cell_type": "code",
   "execution_count": 26,
   "metadata": {},
   "outputs": [
    {
     "data": {
      "text/plain": [
       "0.726457399103139"
      ]
     },
     "execution_count": 26,
     "metadata": {},
     "output_type": "execute_result"
    }
   ],
   "source": [
    "gs_tf.score(X_train, y_train)"
   ]
  },
  {
   "cell_type": "code",
   "execution_count": 27,
   "metadata": {},
   "outputs": [
    {
     "data": {
      "text/plain": [
       "0.6879194630872483"
      ]
     },
     "execution_count": 27,
     "metadata": {},
     "output_type": "execute_result"
    }
   ],
   "source": [
    "gs_tf.score(X_test, y_test)"
   ]
  },
  {
   "cell_type": "markdown",
   "metadata": {},
   "source": [
    "###  Observations\n",
    "\n",
    "\n",
    "+ The model has lost some accuracy it is now at 0.71 down from 0.82\n",
    "\n",
    "\n",
    "+ However this is sufficient to beat the benchmark and still deliver good predictions on which subreddit the post came from. \n",
    "\n",
    "\n",
    "+ 0.71 is an improvement on the benchmark of 0.53"
   ]
  },
  {
   "cell_type": "markdown",
   "metadata": {},
   "source": [
    "---"
   ]
  },
  {
   "cell_type": "markdown",
   "metadata": {},
   "source": [
    "# 5.0 Production Model"
   ]
  },
  {
   "cell_type": "code",
   "execution_count": 28,
   "metadata": {},
   "outputs": [],
   "source": [
    "predictions = gs_tf.predict(X_test)"
   ]
  },
  {
   "cell_type": "code",
   "execution_count": 29,
   "metadata": {},
   "outputs": [
    {
     "data": {
      "text/plain": [
       "0.6879194630872483"
      ]
     },
     "execution_count": 29,
     "metadata": {},
     "output_type": "execute_result"
    }
   ],
   "source": [
    "gs_tf.score(X_test, y_test)"
   ]
  },
  {
   "cell_type": "code",
   "execution_count": 30,
   "metadata": {
    "scrolled": true
   },
   "outputs": [
    {
     "data": {
      "text/plain": [
       "{'lr__C': 1,\n",
       " 'lr__max_iter': 1000,\n",
       " 'tvec__max_df': 0.3,\n",
       " 'tvec__max_features': 200,\n",
       " 'tvec__min_df': 2,\n",
       " 'tvec__ngram_range': (2, 3),\n",
       " 'tvec__stop_words': 'english'}"
      ]
     },
     "execution_count": 30,
     "metadata": {},
     "output_type": "execute_result"
    }
   ],
   "source": [
    "# best parameters for the model\n",
    "gs_tf.best_params_"
   ]
  },
  {
   "cell_type": "code",
   "execution_count": 31,
   "metadata": {},
   "outputs": [
    {
     "data": {
      "text/plain": [
       "{'lr__C': 1,\n",
       " 'lr__max_iter': 1000,\n",
       " 'tvec__max_df': 0.3,\n",
       " 'tvec__max_features': 200,\n",
       " 'tvec__min_df': 2,\n",
       " 'tvec__ngram_range': (2, 3),\n",
       " 'tvec__stop_words': 'english'}"
      ]
     },
     "execution_count": 31,
     "metadata": {},
     "output_type": "execute_result"
    }
   ],
   "source": [
    "# 6.0 Production Model\n",
    "\n",
    "predictions = gs_tf.predict(X_test)\n",
    "\n",
    "gs_tf.score(X_test, y_test)\n",
    "\n",
    "# best parameters for the model\n",
    "gs_tf.best_params_"
   ]
  },
  {
   "cell_type": "markdown",
   "metadata": {},
   "source": [
    "# 6.0 Production Model Analysis"
   ]
  },
  {
   "cell_type": "code",
   "execution_count": 32,
   "metadata": {},
   "outputs": [
    {
     "data": {
      "text/plain": [
       "array([[155,   6],\n",
       "       [ 87,  50]])"
      ]
     },
     "execution_count": 32,
     "metadata": {},
     "output_type": "execute_result"
    }
   ],
   "source": [
    "# Get confusion matrix score\n",
    "confusion_matrix(y_test, predictions)"
   ]
  },
  {
   "cell_type": "code",
   "execution_count": 33,
   "metadata": {},
   "outputs": [],
   "source": [
    "tn, fp, fn, tp = confusion_matrix(y_test, predictions).ravel()"
   ]
  },
  {
   "cell_type": "code",
   "execution_count": 34,
   "metadata": {},
   "outputs": [
    {
     "name": "stdout",
     "output_type": "stream",
     "text": [
      "True Negatives: 155\n",
      "False Positives: 6\n",
      "False Negatives: 87\n",
      "True Positives: 50\n"
     ]
    }
   ],
   "source": [
    "print(\"True Negatives: %s\" % tn)\n",
    "print(\"False Positives: %s\" % fp)\n",
    "print(\"False Negatives: %s\" % fn)\n",
    "print(\"True Positives: %s\" % tp)"
   ]
  },
  {
   "cell_type": "code",
   "execution_count": 35,
   "metadata": {},
   "outputs": [],
   "source": [
    "# Create a dataframe of true values of our test set and predicted probabilities based on our model.\n",
    "pred_proba = [i[1] for i in gs_tf.predict_proba(X_test)]\n",
    "pred_df = pd.DataFrame({'true_values': y_test,\n",
    "                        'pred_probs':pred_proba})\n",
    "pred_df;"
   ]
  },
  {
   "cell_type": "code",
   "execution_count": 36,
   "metadata": {},
   "outputs": [
    {
     "data": {
      "text/plain": [
       "list"
      ]
     },
     "execution_count": 36,
     "metadata": {},
     "output_type": "execute_result"
    }
   ],
   "source": [
    "type(pred_proba)"
   ]
  },
  {
   "cell_type": "code",
   "execution_count": 37,
   "metadata": {},
   "outputs": [],
   "source": [
    "# Define function to calculate sensitivity. (True positive rate.)\n",
    "def TPR(df, true_col, pred_prob_col, threshold):\n",
    "    true_positive = df[(df[true_col] == 1) & (df[pred_prob_col] >= threshold)].shape[0]\n",
    "    false_negative = df[(df[true_col] == 1) & (df[pred_prob_col] < threshold)].shape[0]\n",
    "    return true_positive / (true_positive + false_negative)\n",
    "    \n",
    "\n",
    "# Define function to calculate 1 - specificity. (False positive rate.)\n",
    "def FPR(df, true_col, pred_prob_col, threshold):\n",
    "    true_negative = df[(df[true_col] == 0) & (df[pred_prob_col] <= threshold)].shape[0]\n",
    "    false_positive = df[(df[true_col] == 0) & (df[pred_prob_col] > threshold)].shape[0]\n",
    "    return 1 - (true_negative / (true_negative + false_positive))"
   ]
  },
  {
   "cell_type": "code",
   "execution_count": 38,
   "metadata": {
    "scrolled": false
   },
   "outputs": [
    {
     "data": {
      "image/png": "[encoded data removed]",
      "text/plain": [
       "<Figure size 720x504 with 1 Axes>"
      ]
     },
     "metadata": {
      "needs_background": "light"
     },
     "output_type": "display_data"
    }
   ],
   "source": [
    "# Create figure.\n",
    "plt.figure(figsize = (10,7))\n",
    "\n",
    "# Create threshold values. (Dashed red line in image.)\n",
    "thresholds = np.linspace(0, 1, 200)\n",
    "    \n",
    "# Calculate sensitivity & 1-specificity for each threshold between 0 and 1.\n",
    "tpr_values = [TPR(pred_df, 'true_values', 'pred_probs', prob) for prob in thresholds]\n",
    "fpr_values = [FPR(pred_df, 'true_values', 'pred_probs', prob) for prob in thresholds]\n",
    "\n",
    "# Plot ROC curve.\n",
    "plt.plot(fpr_values, # False Positive Rate on X-axis\n",
    "         tpr_values, # True Positive Rate on Y-axis\n",
    "         label='ROC Curve')\n",
    "\n",
    "# Plot baseline. (Perfect overlap between the two populations.)\n",
    "plt.plot(np.linspace(0, 1, 200),\n",
    "         np.linspace(0, 1, 200),\n",
    "         label='baseline',\n",
    "         linestyle='--')\n",
    "\n",
    "# Label axes.\n",
    "plt.title(f'ROC Curve with AUC = {round(roc_auc_score(pred_df[\"true_values\"], pred_df[\"pred_probs\"]),3)}', fontsize=22)\n",
    "plt.ylabel('Sensitivity', fontsize=18)\n",
    "plt.xlabel('1 - Specificity', fontsize=18)\n",
    "\n",
    "# Create legend.\n",
    "plt.legend(fontsize=16);"
   ]
  },
  {
   "cell_type": "code",
   "execution_count": null,
   "metadata": {},
   "outputs": [],
   "source": []
  },
  {
   "cell_type": "code",
   "execution_count": null,
   "metadata": {},
   "outputs": [],
   "source": []
  },
  {
   "cell_type": "markdown",
   "metadata": {},
   "source": [
    "## 7.0 Feature Extraction"
   ]
  },
  {
   "cell_type": "code",
   "execution_count": 39,
   "metadata": {},
   "outputs": [
    {
     "data": {
      "text/plain": [
       "Pipeline(memory=None,\n",
       "         steps=[('tvec',\n",
       "                 TfidfVectorizer(analyzer='word', binary=False,\n",
       "                                 decode_error='strict',\n",
       "                                 dtype=<class 'numpy.float64'>,\n",
       "                                 encoding='utf-8', input='content',\n",
       "                                 lowercase=True, max_df=0.3, max_features=200,\n",
       "                                 min_df=2, ngram_range=(2, 3), norm='l2',\n",
       "                                 preprocessor=None, smooth_idf=True,\n",
       "                                 stop_words='english', strip_accents=None,\n",
       "                                 sublinear_tf=False,\n",
       "                                 token_pattern='(?u)\\\\b\\\\w\\\\w+\\\\b',\n",
       "                                 tokenizer=None, use_idf=True,\n",
       "                                 vocabulary=None)),\n",
       "                ('lr',\n",
       "                 LogisticRegression(C=1, class_weight=None, dual=False,\n",
       "                                    fit_intercept=True, intercept_scaling=1,\n",
       "                                    l1_ratio=None, max_iter=1000,\n",
       "                                    multi_class='auto', n_jobs=None,\n",
       "                                    penalty='l2', random_state=None,\n",
       "                                    solver='lbfgs', tol=0.0001, verbose=0,\n",
       "                                    warm_start=False))],\n",
       "         verbose=False)"
      ]
     },
     "execution_count": 39,
     "metadata": {},
     "output_type": "execute_result"
    }
   ],
   "source": [
    "## Get details of best model\n",
    "gs_tvec_best = gs_tf.best_estimator_\n",
    "gs_tvec_best"
   ]
  },
  {
   "cell_type": "code",
   "execution_count": 40,
   "metadata": {},
   "outputs": [
    {
     "data": {
      "text/plain": [
       "{'tvec': TfidfVectorizer(analyzer='word', binary=False, decode_error='strict',\n",
       "                 dtype=<class 'numpy.float64'>, encoding='utf-8',\n",
       "                 input='content', lowercase=True, max_df=0.3, max_features=200,\n",
       "                 min_df=2, ngram_range=(2, 3), norm='l2', preprocessor=None,\n",
       "                 smooth_idf=True, stop_words='english', strip_accents=None,\n",
       "                 sublinear_tf=False, token_pattern='(?u)\\\\b\\\\w\\\\w+\\\\b',\n",
       "                 tokenizer=None, use_idf=True, vocabulary=None),\n",
       " 'lr': LogisticRegression(C=1, class_weight=None, dual=False, fit_intercept=True,\n",
       "                    intercept_scaling=1, l1_ratio=None, max_iter=1000,\n",
       "                    multi_class='auto', n_jobs=None, penalty='l2',\n",
       "                    random_state=None, solver='lbfgs', tol=0.0001, verbose=0,\n",
       "                    warm_start=False)}"
      ]
     },
     "execution_count": 40,
     "metadata": {},
     "output_type": "execute_result"
    }
   ],
   "source": [
    "# pull out the information about the step the pipeline took\n",
    "named_steps = gs_tvec_best.named_steps\n",
    "named_steps"
   ]
  },
  {
   "cell_type": "code",
   "execution_count": 41,
   "metadata": {},
   "outputs": [
    {
     "data": {
      "text/plain": [
       "200"
      ]
     },
     "execution_count": 41,
     "metadata": {},
     "output_type": "execute_result"
    }
   ],
   "source": [
    "# check features match the models max_features\n",
    "len(named_steps['tvec'].get_feature_names())"
   ]
  },
  {
   "cell_type": "code",
   "execution_count": 42,
   "metadata": {},
   "outputs": [],
   "source": [
    "# store the features\n",
    "feature_names = named_steps['tvec'].get_feature_names();"
   ]
  },
  {
   "cell_type": "code",
   "execution_count": 43,
   "metadata": {},
   "outputs": [],
   "source": [
    "# Transforming our x_train data using our fit cvec. Currently stored as a sparse matrix \n",
    "# And converting the result to a DataFrame.\n",
    "X_train_tvec = pd.DataFrame(named_steps['tvec'].transform(X_train).todense(),\n",
    "                       columns=named_steps['tvec'].get_feature_names())"
   ]
  },
  {
   "cell_type": "code",
   "execution_count": 44,
   "metadata": {},
   "outputs": [
    {
     "data": {
      "text/plain": [
       "(892, 200)"
      ]
     },
     "execution_count": 44,
     "metadata": {},
     "output_type": "execute_result"
    }
   ],
   "source": [
    "# Check sparse matrix has not been transformed\n",
    "X_train_tvec.shape"
   ]
  },
  {
   "cell_type": "code",
   "execution_count": 45,
   "metadata": {},
   "outputs": [],
   "source": [
    "# Get the counts or the weighs of the model\n",
    "word_counts = X_train_tvec.sum(axis=0)"
   ]
  },
  {
   "cell_type": "code",
   "execution_count": 46,
   "metadata": {},
   "outputs": [],
   "source": [
    "X_train_tvec.reset_index(drop=True, inplace=True)\n",
    "y_train.reset_index(drop=True, inplace=True)"
   ]
  },
  {
   "cell_type": "code",
   "execution_count": 47,
   "metadata": {},
   "outputs": [],
   "source": [
    "# Lets look through some of the categories common words\n",
    "common_words = []\n",
    "cw_dict = {}\n",
    "for i in range(2):\n",
    "    word_count = X_train_tvec.loc[y_train==i].sum(axis=0)\n",
    "    cw_dict[i] = word_count\n",
    "    cw = word_count.sort_values(ascending = False).head(20)\n",
    "    common_words.extend(cw.index)\n",
    "    \n",
    "analytics_tvec_df = pd.DataFrame(cw_dict[0])\n",
    "ds_tvec_df = pd.DataFrame(cw_dict[1])"
   ]
  },
  {
   "cell_type": "markdown",
   "metadata": {},
   "source": [
    "#### Get Analytics key words"
   ]
  },
  {
   "cell_type": "code",
   "execution_count": 48,
   "metadata": {},
   "outputs": [],
   "source": [
    "analytics_tvec_df.reset_index(level=0, inplace=True)\n",
    "analytics_tvec_df.rename(columns={0:'weight','index':\"words\"},inplace=True)"
   ]
  },
  {
   "cell_type": "code",
   "execution_count": 75,
   "metadata": {},
   "outputs": [
    {
     "data": {
      "text/html": [
       "<div>\n",
       "<style scoped>\n",
       "    .dataframe tbody tr th:only-of-type {\n",
       "        vertical-align: middle;\n",
       "    }\n",
       "\n",
       "    .dataframe tbody tr th {\n",
       "        vertical-align: top;\n",
       "    }\n",
       "\n",
       "    .dataframe thead th {\n",
       "        text-align: right;\n",
       "    }\n",
       "</style>\n",
       "<table border=\"1\" class=\"dataframe\">\n",
       "  <thead>\n",
       "    <tr style=\"text-align: right;\">\n",
       "      <th></th>\n",
       "      <th>words</th>\n",
       "      <th>weight</th>\n",
       "    </tr>\n",
       "  </thead>\n",
       "  <tbody>\n",
       "    <tr>\n",
       "      <th>63</th>\n",
       "      <td>google analytics</td>\n",
       "      <td>39.796830</td>\n",
       "    </tr>\n",
       "    <tr>\n",
       "      <th>20</th>\n",
       "      <td>business analytics</td>\n",
       "      <td>14.845372</td>\n",
       "    </tr>\n",
       "    <tr>\n",
       "      <th>40</th>\n",
       "      <td>data analyst</td>\n",
       "      <td>12.336609</td>\n",
       "    </tr>\n",
       "    <tr>\n",
       "      <th>43</th>\n",
       "      <td>data analytics</td>\n",
       "      <td>7.641680</td>\n",
       "    </tr>\n",
       "    <tr>\n",
       "      <th>58</th>\n",
       "      <td>data studio</td>\n",
       "      <td>6.309744</td>\n",
       "    </tr>\n",
       "    <tr>\n",
       "      <th>67</th>\n",
       "      <td>google optimize</td>\n",
       "      <td>5.453000</td>\n",
       "    </tr>\n",
       "    <tr>\n",
       "      <th>74</th>\n",
       "      <td>interview question</td>\n",
       "      <td>4.241700</td>\n",
       "    </tr>\n",
       "    <tr>\n",
       "      <th>106</th>\n",
       "      <td>need help</td>\n",
       "      <td>4.226465</td>\n",
       "    </tr>\n",
       "    <tr>\n",
       "      <th>61</th>\n",
       "      <td>digital analytics</td>\n",
       "      <td>4.000000</td>\n",
       "    </tr>\n",
       "    <tr>\n",
       "      <th>197</th>\n",
       "      <td>web analytics</td>\n",
       "      <td>4.000000</td>\n",
       "    </tr>\n",
       "    <tr>\n",
       "      <th>34</th>\n",
       "      <td>conversion tracking</td>\n",
       "      <td>3.626602</td>\n",
       "    </tr>\n",
       "    <tr>\n",
       "      <th>81</th>\n",
       "      <td>machine learning</td>\n",
       "      <td>3.353863</td>\n",
       "    </tr>\n",
       "    <tr>\n",
       "      <th>1</th>\n",
       "      <td>adobe analytics</td>\n",
       "      <td>3.317619</td>\n",
       "    </tr>\n",
       "    <tr>\n",
       "      <th>21</th>\n",
       "      <td>career advice</td>\n",
       "      <td>3.157829</td>\n",
       "    </tr>\n",
       "    <tr>\n",
       "      <th>9</th>\n",
       "      <td>analytics data</td>\n",
       "      <td>3.119284</td>\n",
       "    </tr>\n",
       "    <tr>\n",
       "      <th>60</th>\n",
       "      <td>data warehouse</td>\n",
       "      <td>3.000000</td>\n",
       "    </tr>\n",
       "    <tr>\n",
       "      <th>92</th>\n",
       "      <td>math skill</td>\n",
       "      <td>3.000000</td>\n",
       "    </tr>\n",
       "    <tr>\n",
       "      <th>10</th>\n",
       "      <td>best practice</td>\n",
       "      <td>2.957023</td>\n",
       "    </tr>\n",
       "    <tr>\n",
       "      <th>170</th>\n",
       "      <td>tag manager</td>\n",
       "      <td>2.838860</td>\n",
       "    </tr>\n",
       "    <tr>\n",
       "      <th>193</th>\n",
       "      <td>utm parameter</td>\n",
       "      <td>2.719523</td>\n",
       "    </tr>\n",
       "  </tbody>\n",
       "</table>\n",
       "</div>"
      ],
      "text/plain": [
       "                   words     weight\n",
       "63      google analytics  39.796830\n",
       "20    business analytics  14.845372\n",
       "40          data analyst  12.336609\n",
       "43        data analytics   7.641680\n",
       "58           data studio   6.309744\n",
       "67       google optimize   5.453000\n",
       "74    interview question   4.241700\n",
       "106            need help   4.226465\n",
       "61     digital analytics   4.000000\n",
       "197        web analytics   4.000000\n",
       "34   conversion tracking   3.626602\n",
       "81      machine learning   3.353863\n",
       "1        adobe analytics   3.317619\n",
       "21         career advice   3.157829\n",
       "9         analytics data   3.119284\n",
       "60        data warehouse   3.000000\n",
       "92            math skill   3.000000\n",
       "10         best practice   2.957023\n",
       "170          tag manager   2.838860\n",
       "193        utm parameter   2.719523"
      ]
     },
     "execution_count": 75,
     "metadata": {},
     "output_type": "execute_result"
    }
   ],
   "source": [
    "analysis_tvec_tp20 = analytics_tvec_df.sort_values('weight', ascending=False).head(20)\n",
    "analysis_tvec_tp20"
   ]
  },
  {
   "cell_type": "code",
   "execution_count": 50,
   "metadata": {},
   "outputs": [
    {
     "data": {
      "image/png": "[encoded data removed]",
      "text/plain": [
       "<Figure size 1440x720 with 1 Axes>"
      ]
     },
     "metadata": {
      "needs_background": "light"
     },
     "output_type": "display_data"
    }
   ],
   "source": [
    "plt.figure(figsize=(20, 10))\n",
    "ax = sns.barplot(y=\"words\", x=\"weight\", data=analysis_tvec_tp20)\n",
    "ax.set_title('Shows the weight of the top 20 key words for data analytics', fontdict={'fontsize':30});\n"
   ]
  },
  {
   "cell_type": "markdown",
   "metadata": {},
   "source": [
    "#### Get Data Science key words"
   ]
  },
  {
   "cell_type": "code",
   "execution_count": 51,
   "metadata": {},
   "outputs": [],
   "source": [
    "ds_tvec_df.reset_index(level=0, inplace=True)\n",
    "ds_tvec_df.rename(columns={0:'weight','index':\"words\"},inplace=True)"
   ]
  },
  {
   "cell_type": "code",
   "execution_count": 76,
   "metadata": {},
   "outputs": [
    {
     "data": {
      "text/html": [
       "<div>\n",
       "<style scoped>\n",
       "    .dataframe tbody tr th:only-of-type {\n",
       "        vertical-align: middle;\n",
       "    }\n",
       "\n",
       "    .dataframe tbody tr th {\n",
       "        vertical-align: top;\n",
       "    }\n",
       "\n",
       "    .dataframe thead th {\n",
       "        text-align: right;\n",
       "    }\n",
       "</style>\n",
       "<table border=\"1\" class=\"dataframe\">\n",
       "  <thead>\n",
       "    <tr style=\"text-align: right;\">\n",
       "      <th></th>\n",
       "      <th>words</th>\n",
       "      <th>weight</th>\n",
       "    </tr>\n",
       "  </thead>\n",
       "  <tbody>\n",
       "    <tr>\n",
       "      <th>52</th>\n",
       "      <td>data science</td>\n",
       "      <td>59.549341</td>\n",
       "    </tr>\n",
       "    <tr>\n",
       "      <th>56</th>\n",
       "      <td>data scientist</td>\n",
       "      <td>31.888341</td>\n",
       "    </tr>\n",
       "    <tr>\n",
       "      <th>81</th>\n",
       "      <td>machine learning</td>\n",
       "      <td>10.397572</td>\n",
       "    </tr>\n",
       "    <tr>\n",
       "      <th>53</th>\n",
       "      <td>data science job</td>\n",
       "      <td>4.559469</td>\n",
       "    </tr>\n",
       "    <tr>\n",
       "      <th>148</th>\n",
       "      <td>science job</td>\n",
       "      <td>4.559469</td>\n",
       "    </tr>\n",
       "    <tr>\n",
       "      <th>112</th>\n",
       "      <td>open source</td>\n",
       "      <td>3.388370</td>\n",
       "    </tr>\n",
       "    <tr>\n",
       "      <th>49</th>\n",
       "      <td>data engineering</td>\n",
       "      <td>3.378427</td>\n",
       "    </tr>\n",
       "    <tr>\n",
       "      <th>59</th>\n",
       "      <td>data visualization</td>\n",
       "      <td>3.367282</td>\n",
       "    </tr>\n",
       "    <tr>\n",
       "      <th>154</th>\n",
       "      <td>science project</td>\n",
       "      <td>3.301672</td>\n",
       "    </tr>\n",
       "    <tr>\n",
       "      <th>54</th>\n",
       "      <td>data science project</td>\n",
       "      <td>3.301672</td>\n",
       "    </tr>\n",
       "    <tr>\n",
       "      <th>198</th>\n",
       "      <td>web app</td>\n",
       "      <td>3.204473</td>\n",
       "    </tr>\n",
       "    <tr>\n",
       "      <th>175</th>\n",
       "      <td>time series</td>\n",
       "      <td>3.111671</td>\n",
       "    </tr>\n",
       "    <tr>\n",
       "      <th>40</th>\n",
       "      <td>data analyst</td>\n",
       "      <td>3.108744</td>\n",
       "    </tr>\n",
       "    <tr>\n",
       "      <th>78</th>\n",
       "      <td>jupyter notebook</td>\n",
       "      <td>3.000000</td>\n",
       "    </tr>\n",
       "    <tr>\n",
       "      <th>132</th>\n",
       "      <td>python library</td>\n",
       "      <td>2.459636</td>\n",
       "    </tr>\n",
       "    <tr>\n",
       "      <th>109</th>\n",
       "      <td>non technical</td>\n",
       "      <td>2.389864</td>\n",
       "    </tr>\n",
       "    <tr>\n",
       "      <th>73</th>\n",
       "      <td>hiring manager</td>\n",
       "      <td>2.366612</td>\n",
       "    </tr>\n",
       "    <tr>\n",
       "      <th>137</th>\n",
       "      <td>real world</td>\n",
       "      <td>2.341233</td>\n",
       "    </tr>\n",
       "    <tr>\n",
       "      <th>27</th>\n",
       "      <td>clustering analysis</td>\n",
       "      <td>2.000000</td>\n",
       "    </tr>\n",
       "    <tr>\n",
       "      <th>28</th>\n",
       "      <td>coding work</td>\n",
       "      <td>2.000000</td>\n",
       "    </tr>\n",
       "  </tbody>\n",
       "</table>\n",
       "</div>"
      ],
      "text/plain": [
       "                    words     weight\n",
       "52           data science  59.549341\n",
       "56         data scientist  31.888341\n",
       "81       machine learning  10.397572\n",
       "53       data science job   4.559469\n",
       "148           science job   4.559469\n",
       "112           open source   3.388370\n",
       "49       data engineering   3.378427\n",
       "59     data visualization   3.367282\n",
       "154       science project   3.301672\n",
       "54   data science project   3.301672\n",
       "198               web app   3.204473\n",
       "175           time series   3.111671\n",
       "40           data analyst   3.108744\n",
       "78       jupyter notebook   3.000000\n",
       "132        python library   2.459636\n",
       "109         non technical   2.389864\n",
       "73         hiring manager   2.366612\n",
       "137            real world   2.341233\n",
       "27    clustering analysis   2.000000\n",
       "28            coding work   2.000000"
      ]
     },
     "execution_count": 76,
     "metadata": {},
     "output_type": "execute_result"
    }
   ],
   "source": [
    "ds_tvec_tp20 = ds_tvec_df.sort_values('weight', ascending=False).head(20)\n",
    "ds_tvec_tp20"
   ]
  },
  {
   "cell_type": "code",
   "execution_count": 53,
   "metadata": {
    "scrolled": false
   },
   "outputs": [
    {
     "data": {
      "image/png": "[encoded data removed]",
      "text/plain": [
       "<Figure size 1440x720 with 1 Axes>"
      ]
     },
     "metadata": {
      "needs_background": "light"
     },
     "output_type": "display_data"
    }
   ],
   "source": [
    "plt.figure(figsize=(20, 10))\n",
    "ax = sns.barplot(y=\"words\", x=\"weight\", data=ds_tvec_tp20)\n",
    "ax.set_title('Shows the weight of the top 20 key words for data science', fontdict={'fontsize':30});"
   ]
  },
  {
   "cell_type": "markdown",
   "metadata": {},
   "source": [
    "---"
   ]
  },
  {
   "cell_type": "markdown",
   "metadata": {},
   "source": [
    "# 8.0 Inferential meanings\n",
    "\n",
    "+ There are some great words but there are still some generic terms that need to be removed.\n",
    "\n",
    "\n",
    "+ These words are useful for the reddits but not for extracting insights to answer the problem statemnts\n",
    "\n",
    "\n",
    "+ e.g 'Job' is relevant what people want in reddit but it doesnt distinguish it so I will filter"
   ]
  },
  {
   "cell_type": "code",
   "execution_count": 54,
   "metadata": {},
   "outputs": [],
   "source": [
    "# store the top 20\n",
    "analytics_top_20 = analytics_tvec_df.sort_values('weight', ascending=False).head(20)"
   ]
  },
  {
   "cell_type": "code",
   "execution_count": 55,
   "metadata": {},
   "outputs": [],
   "source": [
    "# ds words to filter\n",
    "remove_a = ['interview question','career advice','best practice','need help','business analytic']"
   ]
  },
  {
   "cell_type": "code",
   "execution_count": 56,
   "metadata": {
    "scrolled": true
   },
   "outputs": [],
   "source": [
    "# filter\n",
    "analytics_top = analytics_top_20.loc[~analytics_top_20['words'].isin(remove_a)]"
   ]
  },
  {
   "cell_type": "code",
   "execution_count": 57,
   "metadata": {},
   "outputs": [],
   "source": [
    "# Print words\n",
    "# print(f\"|Word|Explanation|link|\\n|---|---|---|\")\n",
    "# for word in analytics_top['words']:\n",
    "#     print(f\"|{word}|||\")"
   ]
  },
  {
   "cell_type": "markdown",
   "metadata": {},
   "source": [
    "### Analytics key words in the model\n",
    "\n",
    "|Word|Explanation|link|\n",
    "|---|---|---|\n",
    "|google analytics|Lots of discussion and people asking for help. Google Analytics lets you measure your advertising ROI as well as track your Flash, video, and social networking sites and applications.|[10 reasons why you should use google analyitcs](https://medium.com/@dineshsem/10-good-reasons-why-you-should-use-google-analytics-699f10194834)|\n",
    "|business analytics|A subset of analytics||\n",
    "|data analyst|An analytics role||\n",
    "|data analytics|Similar to Analytics||\n",
    "|data studio| A free tool from Google that lets users make custom reports with data from Google’s marketing services and external sources. Data Studio is Google’s reporting solution for power users who want to go beyond the data and dashboards of Google Analytics. The data widgets in Data Studio are notable for their variety, customization options, live data and interactive controls (such as column sorting and table pagination). Data sources include Google products (Analytics, AdWords, Search Console, Sheets, YouTube, etc.), database connectors, file upload, and “community” connectors to popular marketing services |[Google Data Studio](https://www.marketingterms.com/dictionary/google-data-studio/#:~:text=Data%20Studio%20is%20Google's%20reporting,column%20sorting%20and%20table%20pagination)|\n",
    "|google optimize|Optimize is natively integrated with Google Analytics, so you can quickly understand how your website can be improved.|[About Optimise](https://marketingplatform.google.com/about/optimize/)|\n",
    "|digital analytics|Digital analytics encompasses the collection, measurement, analysis, visualisation and interpretation of digital data illustrating user behaviour on websites, mobile sites and mobile applications.|[About digital analytics](https://www.atinternet.com/en/glossary/digital-analytics-2/)|\n",
    "|web analytics|Web analytics groups together the measurement, collection, analysis and presentation of data from the Internet in order to understand and optimise how websites are used. Web analytics lets you precisely study user behaviour on your websites (and mobile sites, and mobile applications, which is more largely called digital analytics).|[About web analytics](https://www.atinternet.com/en/glossary/web-analytics-2/)|\n",
    "|conversion tracking|Conversion tracking is a free tool that shows you what happens after a customer interacts with your ads -- whether they purchased a product, signed up for your newsletter, called your business, or downloaded your app. When a customer completes an action that you've defined as valuable, these customer actions are called conversions. It is not just google but it is also a popular tool.|[About conversion tracking](https://support.google.com/google-ads/answer/1722022?hl=en)|\n",
    "|machine learning|Machine learning is the science of getting computers to act without being explicitly programmed.|[about machine learning](https://www.coursera.org/learn/machine-learning)|\n",
    "|adobe analytics|It is another web anlytics tool like google anlaytics. It approaches the problem slightly differently so good for analysts to know both|[What is adove analytics](https://www.seerinteractive.com/blog/a-beginners-guide-to-adobe-analytics/#what-is-adobe-analytics)|\n",
    "|analytics data|General term but implies again the importance of data for analytics||\n",
    "|math skill|Referencing math skill suggests it is a skill thats needed or is discussed in the community however key word doesnt imply what part odf mathematics is important ||\n",
    "|data warehouse|A data warehouse is a system that pulls together data from many different sources within an organization for reporting and analysis. The reports created from complex queries within a data warehouse are used to make business decisions.|[Datawarehous guide](https://panoply.io/data-warehouse-guide/the-difference-between-a-database-and-a-data-warehouse/#:~:text=A%20data%20warehouse%20is%20a,used%20to%20make%20business%20decisions.)|\n",
    "|tag manager|Google Tag Manager is a tag management system (TMS) that allows you to quickly and easily update measurement codes and related code fragments collectively known as tags on your website or mobile app.|[Tag Manager overview](https://support.google.com/tagmanager/answer/6102821?hl=en)|\n",
    "|utm parameter|Urchin Tracking Module (UTM) parameters are five variants of URL parameters used by marketers to track the effectiveness of online marketing campaigns across traffic sources and publishing media.|[UTM parameters](https://en.wikipedia.org/wiki/UTM_parameters)|"
   ]
  },
  {
   "cell_type": "code",
   "execution_count": 58,
   "metadata": {},
   "outputs": [],
   "source": [
    "# Data Science driving the model\n",
    "ds_top20 = ds_tvec_df.sort_values('weight', ascending=False).head(20)"
   ]
  },
  {
   "cell_type": "code",
   "execution_count": 59,
   "metadata": {},
   "outputs": [],
   "source": [
    "# ds words to filter\n",
    "remove = ['data science','data scientist','data science job','science job']"
   ]
  },
  {
   "cell_type": "code",
   "execution_count": 60,
   "metadata": {},
   "outputs": [],
   "source": [
    "ds_top = ds_top20.loc[~ds_top20['words'].isin(remove)]\n"
   ]
  },
  {
   "cell_type": "code",
   "execution_count": 61,
   "metadata": {},
   "outputs": [],
   "source": [
    "# print(f\"|Word|Explanation|link|\\n|---|---|---|\")\n",
    "# for word in ds_top['words']:\n",
    "#     print(f\"|{word}|||\")"
   ]
  },
  {
   "cell_type": "markdown",
   "metadata": {},
   "source": [
    "### Data Science key words in the model\n",
    "\n",
    "\n",
    "|Word|Explanation|link|\n",
    "|---|---|---|\n",
    "|machine learning|Machine learning is the science of getting computers to act without being explicitly programmed.|[about machine learning](https://www.coursera.org/learn/machine-learning)|\n",
    "|time series|Time Series analysis is “an ordered sequence of values of a variable at equally spaced time intervals.” It is used to understand the determining factors and structure behind the observed data, choose a model to forecast, thereby leading to better decision making. It is used in industries such as stock market analysis, Economic forecasting, sales forecasting etc|[About time series analysis](https://www.researchoptimus.com/article/what-is-time-series-analysis.php)|\n",
    "|data engineering|A data engineer builds a robust, fault-tolerant data pipeline that cleans, transforms, and aggregates unorganized and messy data into databases or datasources. Data engineers are typically software engineers by trade. Instead of data analysis, data engineers are responsible for compiling and installing database systems, writing complex queries, scaling to multiple machines, and putting disaster recovery systems into place. Data engineers essentially lay the groundwork for a data analyst or data scientist to easily retrieve the needed data for their evaluations and experiments.|[Role definition](https://blog.udacity.com/2014/12/data-analyst-vs-data-scientist-vs-data-engineer.html)|\n",
    "|jupyter notebook| The Jupyter Notebook is an open-source web application that allows you to create and share documents that contain live code, equations, visualizations and narrative text. Uses include: data cleaning and transformation, numerical simulation, statistical modeling, data visualization, machine learning etc.|[about jupyter notebook](https://jupyter.org/)|\n",
    "|open source|Open source software is software with source code that anyone can inspect, modify, and enhance. It is a shame the key word doesnt reveal anything more specific about which open source project or code they are discussing|[About open source](https://opensource.com/resources/what-open-source)|\n",
    "|data science project/science project|Refers to a piece of work a data scientist is doing. It is popular among new data scientist to complete these as a way of growing there portfolio||\n",
    "|data visualization|Data visualization is important for a Data Scientist and it one of the most useful professional skills to develop. It is important to use the right graphs, use labels, and to be able to make the data easily understandable.|[Visualisation info](https://towardsdatascience.com/top-subreddits-every-data-scientist-should-join-c98a0bf34c03)|\n",
    "|web app|A lot of people are discusing how to build a web app|[Building web apps](https://towardsdatascience.com/building-a-web-application-to-deploy-machine-learning-models-e224269c1331)|\n",
    "|data analyst|Data analyst role - hints at the intersection of the two roles||\n",
    "|python library|Coding language synonomous with Data Science and Jupyter notebooks|[Python Library](https://docs.python.org/3/library/)|\n",
    "|non technical| A lot of people are asking for non technical books for explanations||\n",
    "|real world|Alot of discussion around getting real world data projects for experience. Often talk of real world in context to how theory needs to be applied in this context. Also what actually happens||\n",
    "|clustering analysis|Cluster analysis or clustering is the task of grouping a set of objects in such a way that objects in the same group (called a cluster) are more similar (in some sense) to each other than to those in other groups (clusters).|[Cluster Analysis](https://en.wikipedia.org/wiki/Cluster_analysis#:~:text=Cluster%20analysis%20or%20clustering%20is,in%20other%20groups%20(clusters).)|\n",
    "|coding work| Original posts do not show a trend realted to data science||"
   ]
  },
  {
   "cell_type": "markdown",
   "metadata": {},
   "source": [
    "### Learnings from the model\n",
    "\n",
    "There is a difference in language between the data analyst and the key words are different so this shows this.\n",
    "\n",
    "Data Science\n",
    "\n",
    "+ Key skill topics\n",
    "    + Python\n",
    "    + Jupyter Notebooks\n",
    "    + Web App developments - How to deploy machine learning app \n",
    "    + Machine learning\n",
    "    + Data Visualisation\n",
    "    \n",
    "\n",
    "+ Key General topics\n",
    "    + Data Engineering\n",
    "    + Time series analysis\n",
    "    + Web app development - people discussing its importance\n",
    "\n",
    "\n",
    "Analytics\n",
    "\n",
    "+ Key skill topics\n",
    "    + Google analytics\n",
    "    + Adobe anayltics\n",
    "    + Data Warehouse\n",
    "    + Google Optimise\n",
    "    + Machine learning\n",
    "    \n",
    "\n",
    "+ Key General topics\n",
    "    + Business Analyics\n",
    "    + Math skills necessity for data analysts"
   ]
  },
  {
   "cell_type": "markdown",
   "metadata": {},
   "source": [
    "### What do the words infer about the data science and analytics?\n",
    "\n",
    "#### Data science words:\n",
    "\n",
    "+ They are generally more technical and refer to building things. \n",
    "     + Data Engineers for example will focus on building data pipelines which data scsinetist can use. There is disussion in the forum of doing this themselves.\n",
    "     + Web apps are discussed with the intention of deploying machine learning models on the cloud for people to use. Easier to share than sending jupyter notebooks.\n",
    "     + Data visualisation is a big part of data science and building or creating your own is a discussed and help sort on the reddit forum\n",
    "     + Time series analysis is about analysing a constant stream of data and trying to predict the future such as stock market analysis. Again another technical role.\n",
    "     + Techncal skills discussed are python and juypter notebook which is popuplar in this community.\n",
    "     \n",
    "     \n",
    "#### Analytics  words:\n",
    "\n",
    "+ They are generally more web based focused and using tools to extract data to drive business behaviours. \n",
    "     + Google analytics suite of products is popular. So analysis of web traffic and customers and trying to increase sales conversion rates is important.\n",
    "     + Data studio is another google tools which allows custom dashboards. Its very customizable and allows data to be manipulated easily.\n",
    "     + Data warehousing is a more traditional data analysis tool for storing database records over time.\n"
   ]
  },
  {
   "cell_type": "markdown",
   "metadata": {},
   "source": [
    "---"
   ]
  },
  {
   "cell_type": "markdown",
   "metadata": {},
   "source": [
    "# 9.0 Summary"
   ]
  },
  {
   "cell_type": "markdown",
   "metadata": {},
   "source": [
    "Production Model\n",
    "\n",
    "+ The previous best model was over 82% accurate\n",
    "\n",
    "    + It did also deliver key words\n",
    "    \n",
    "    + However they were not as specific or useful as the model above\n",
    "\n",
    "\n",
    "+ If I had to pick one model it would be this one\n",
    "\n",
    "    + It offers more insights into the phrases that drive the model\n",
    "    \n",
    "    + It loses accuracy compared to the previous best model however it is still over 70% accurate\n",
    "    \n",
    "    + Its ROC AUC score is lower at 0.774 compared to 0.869\n",
    "    \n",
    "    + It still significantly beats the benchmar: 0.71 compared to 0.53\n",
    "    "
   ]
  }
 ],
 "metadata": {
  "kernelspec": {
   "display_name": "Python 3",
   "language": "python",
   "name": "python3"
  },
  "language_info": {
   "codemirror_mode": {
    "name": "ipython",
    "version": 3
   },
   "file_extension": ".py",
   "mimetype": "text/x-python",
   "name": "python",
   "nbconvert_exporter": "python",
   "pygments_lexer": "ipython3",
   "version": "3.7.6"
  }
 },
 "nbformat": 4,
 "nbformat_minor": 4
}
